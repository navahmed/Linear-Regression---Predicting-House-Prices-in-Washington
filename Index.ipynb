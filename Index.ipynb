{
 "cells": [
  {
   "cell_type": "code",
   "execution_count": 33,
   "metadata": {},
   "outputs": [],
   "source": [
    "#importing necessary packages\n",
    "import pandas as pd\n",
    "import seaborn as sns\n",
    "import matplotlib.pyplot as plt\n",
    "%matplotlib inline\n",
    "from sklearn.preprocessing import LabelBinarizer\n",
    "import statsmodels.api as sm\n",
    "from sklearn.model_selection import train_test_split"
   ]
  },
  {
   "cell_type": "markdown",
   "metadata": {},
   "source": [
    "In this study, we will attempt to predict the property prices in King County Washington Seattle. We will be using the kc_house_data set from kaggle. The notebook will be following the following format.\n",
    "\n",
    "Data Cleaning - Investigating the data and addressing the missing values.\n",
    "\n",
    "Further Data Cleaning - A deeper dive into investigating the data. We will also create new columns and data frame as deemed appropriate.\n",
    "\n",
    "Exploratory Data Analysis & Seeking answers to our questions \n",
    "\n",
    "Running Regression Models to find best predictors for house prices.\n",
    "\n"
   ]
  },
  {
   "cell_type": "code",
   "execution_count": 34,
   "metadata": {},
   "outputs": [],
   "source": [
    "#importing the dataset\n",
    "df = pd.read_csv('kc_house_data.csv')"
   ]
  },
  {
   "cell_type": "code",
   "execution_count": 35,
   "metadata": {},
   "outputs": [
    {
     "data": {
      "text/html": [
       "<div>\n",
       "<style scoped>\n",
       "    .dataframe tbody tr th:only-of-type {\n",
       "        vertical-align: middle;\n",
       "    }\n",
       "\n",
       "    .dataframe tbody tr th {\n",
       "        vertical-align: top;\n",
       "    }\n",
       "\n",
       "    .dataframe thead th {\n",
       "        text-align: right;\n",
       "    }\n",
       "</style>\n",
       "<table border=\"1\" class=\"dataframe\">\n",
       "  <thead>\n",
       "    <tr style=\"text-align: right;\">\n",
       "      <th></th>\n",
       "      <th>id</th>\n",
       "      <th>date</th>\n",
       "      <th>price</th>\n",
       "      <th>bedrooms</th>\n",
       "      <th>bathrooms</th>\n",
       "      <th>sqft_living</th>\n",
       "      <th>sqft_lot</th>\n",
       "      <th>floors</th>\n",
       "      <th>waterfront</th>\n",
       "      <th>view</th>\n",
       "      <th>...</th>\n",
       "      <th>grade</th>\n",
       "      <th>sqft_above</th>\n",
       "      <th>sqft_basement</th>\n",
       "      <th>yr_built</th>\n",
       "      <th>yr_renovated</th>\n",
       "      <th>zipcode</th>\n",
       "      <th>lat</th>\n",
       "      <th>long</th>\n",
       "      <th>sqft_living15</th>\n",
       "      <th>sqft_lot15</th>\n",
       "    </tr>\n",
       "  </thead>\n",
       "  <tbody>\n",
       "    <tr>\n",
       "      <th>0</th>\n",
       "      <td>7129300520</td>\n",
       "      <td>10/13/2014</td>\n",
       "      <td>221900.0</td>\n",
       "      <td>3</td>\n",
       "      <td>1.00</td>\n",
       "      <td>1180</td>\n",
       "      <td>5650</td>\n",
       "      <td>1.0</td>\n",
       "      <td>NaN</td>\n",
       "      <td>0.0</td>\n",
       "      <td>...</td>\n",
       "      <td>7</td>\n",
       "      <td>1180</td>\n",
       "      <td>0.0</td>\n",
       "      <td>1955</td>\n",
       "      <td>0.0</td>\n",
       "      <td>98178</td>\n",
       "      <td>47.5112</td>\n",
       "      <td>-122.257</td>\n",
       "      <td>1340</td>\n",
       "      <td>5650</td>\n",
       "    </tr>\n",
       "    <tr>\n",
       "      <th>1</th>\n",
       "      <td>6414100192</td>\n",
       "      <td>12/9/2014</td>\n",
       "      <td>538000.0</td>\n",
       "      <td>3</td>\n",
       "      <td>2.25</td>\n",
       "      <td>2570</td>\n",
       "      <td>7242</td>\n",
       "      <td>2.0</td>\n",
       "      <td>0.0</td>\n",
       "      <td>0.0</td>\n",
       "      <td>...</td>\n",
       "      <td>7</td>\n",
       "      <td>2170</td>\n",
       "      <td>400.0</td>\n",
       "      <td>1951</td>\n",
       "      <td>1991.0</td>\n",
       "      <td>98125</td>\n",
       "      <td>47.7210</td>\n",
       "      <td>-122.319</td>\n",
       "      <td>1690</td>\n",
       "      <td>7639</td>\n",
       "    </tr>\n",
       "    <tr>\n",
       "      <th>2</th>\n",
       "      <td>5631500400</td>\n",
       "      <td>2/25/2015</td>\n",
       "      <td>180000.0</td>\n",
       "      <td>2</td>\n",
       "      <td>1.00</td>\n",
       "      <td>770</td>\n",
       "      <td>10000</td>\n",
       "      <td>1.0</td>\n",
       "      <td>0.0</td>\n",
       "      <td>0.0</td>\n",
       "      <td>...</td>\n",
       "      <td>6</td>\n",
       "      <td>770</td>\n",
       "      <td>0.0</td>\n",
       "      <td>1933</td>\n",
       "      <td>NaN</td>\n",
       "      <td>98028</td>\n",
       "      <td>47.7379</td>\n",
       "      <td>-122.233</td>\n",
       "      <td>2720</td>\n",
       "      <td>8062</td>\n",
       "    </tr>\n",
       "    <tr>\n",
       "      <th>3</th>\n",
       "      <td>2487200875</td>\n",
       "      <td>12/9/2014</td>\n",
       "      <td>604000.0</td>\n",
       "      <td>4</td>\n",
       "      <td>3.00</td>\n",
       "      <td>1960</td>\n",
       "      <td>5000</td>\n",
       "      <td>1.0</td>\n",
       "      <td>0.0</td>\n",
       "      <td>0.0</td>\n",
       "      <td>...</td>\n",
       "      <td>7</td>\n",
       "      <td>1050</td>\n",
       "      <td>910.0</td>\n",
       "      <td>1965</td>\n",
       "      <td>0.0</td>\n",
       "      <td>98136</td>\n",
       "      <td>47.5208</td>\n",
       "      <td>-122.393</td>\n",
       "      <td>1360</td>\n",
       "      <td>5000</td>\n",
       "    </tr>\n",
       "    <tr>\n",
       "      <th>4</th>\n",
       "      <td>1954400510</td>\n",
       "      <td>2/18/2015</td>\n",
       "      <td>510000.0</td>\n",
       "      <td>3</td>\n",
       "      <td>2.00</td>\n",
       "      <td>1680</td>\n",
       "      <td>8080</td>\n",
       "      <td>1.0</td>\n",
       "      <td>0.0</td>\n",
       "      <td>0.0</td>\n",
       "      <td>...</td>\n",
       "      <td>8</td>\n",
       "      <td>1680</td>\n",
       "      <td>0.0</td>\n",
       "      <td>1987</td>\n",
       "      <td>0.0</td>\n",
       "      <td>98074</td>\n",
       "      <td>47.6168</td>\n",
       "      <td>-122.045</td>\n",
       "      <td>1800</td>\n",
       "      <td>7503</td>\n",
       "    </tr>\n",
       "  </tbody>\n",
       "</table>\n",
       "<p>5 rows × 21 columns</p>\n",
       "</div>"
      ],
      "text/plain": [
       "           id        date     price  bedrooms  bathrooms  sqft_living  \\\n",
       "0  7129300520  10/13/2014  221900.0         3       1.00         1180   \n",
       "1  6414100192   12/9/2014  538000.0         3       2.25         2570   \n",
       "2  5631500400   2/25/2015  180000.0         2       1.00          770   \n",
       "3  2487200875   12/9/2014  604000.0         4       3.00         1960   \n",
       "4  1954400510   2/18/2015  510000.0         3       2.00         1680   \n",
       "\n",
       "   sqft_lot  floors  waterfront  view  ...  grade  sqft_above  sqft_basement  \\\n",
       "0      5650     1.0         NaN   0.0  ...      7        1180            0.0   \n",
       "1      7242     2.0         0.0   0.0  ...      7        2170          400.0   \n",
       "2     10000     1.0         0.0   0.0  ...      6         770            0.0   \n",
       "3      5000     1.0         0.0   0.0  ...      7        1050          910.0   \n",
       "4      8080     1.0         0.0   0.0  ...      8        1680            0.0   \n",
       "\n",
       "  yr_built  yr_renovated  zipcode      lat     long  sqft_living15  sqft_lot15  \n",
       "0     1955           0.0    98178  47.5112 -122.257           1340        5650  \n",
       "1     1951        1991.0    98125  47.7210 -122.319           1690        7639  \n",
       "2     1933           NaN    98028  47.7379 -122.233           2720        8062  \n",
       "3     1965           0.0    98136  47.5208 -122.393           1360        5000  \n",
       "4     1987           0.0    98074  47.6168 -122.045           1800        7503  \n",
       "\n",
       "[5 rows x 21 columns]"
      ]
     },
     "execution_count": 35,
     "metadata": {},
     "output_type": "execute_result"
    }
   ],
   "source": [
    "#checking the head\n",
    "df.head()"
   ]
  },
  {
   "cell_type": "code",
   "execution_count": 36,
   "metadata": {},
   "outputs": [
    {
     "name": "stdout",
     "output_type": "stream",
     "text": [
      "<class 'pandas.core.frame.DataFrame'>\n",
      "RangeIndex: 21597 entries, 0 to 21596\n",
      "Data columns (total 21 columns):\n",
      " #   Column         Non-Null Count  Dtype  \n",
      "---  ------         --------------  -----  \n",
      " 0   id             21597 non-null  int64  \n",
      " 1   date           21597 non-null  object \n",
      " 2   price          21597 non-null  float64\n",
      " 3   bedrooms       21597 non-null  int64  \n",
      " 4   bathrooms      21597 non-null  float64\n",
      " 5   sqft_living    21597 non-null  int64  \n",
      " 6   sqft_lot       21597 non-null  int64  \n",
      " 7   floors         21597 non-null  float64\n",
      " 8   waterfront     19221 non-null  float64\n",
      " 9   view           21534 non-null  float64\n",
      " 10  condition      21597 non-null  int64  \n",
      " 11  grade          21597 non-null  int64  \n",
      " 12  sqft_above     21597 non-null  int64  \n",
      " 13  sqft_basement  21597 non-null  object \n",
      " 14  yr_built       21597 non-null  int64  \n",
      " 15  yr_renovated   17755 non-null  float64\n",
      " 16  zipcode        21597 non-null  int64  \n",
      " 17  lat            21597 non-null  float64\n",
      " 18  long           21597 non-null  float64\n",
      " 19  sqft_living15  21597 non-null  int64  \n",
      " 20  sqft_lot15     21597 non-null  int64  \n",
      "dtypes: float64(8), int64(11), object(2)\n",
      "memory usage: 3.5+ MB\n"
     ]
    }
   ],
   "source": [
    "#initial checks\n",
    "df.info()"
   ]
  },
  {
   "cell_type": "code",
   "execution_count": 37,
   "metadata": {},
   "outputs": [
    {
     "data": {
      "text/html": [
       "<div>\n",
       "<style scoped>\n",
       "    .dataframe tbody tr th:only-of-type {\n",
       "        vertical-align: middle;\n",
       "    }\n",
       "\n",
       "    .dataframe tbody tr th {\n",
       "        vertical-align: top;\n",
       "    }\n",
       "\n",
       "    .dataframe thead th {\n",
       "        text-align: right;\n",
       "    }\n",
       "</style>\n",
       "<table border=\"1\" class=\"dataframe\">\n",
       "  <thead>\n",
       "    <tr style=\"text-align: right;\">\n",
       "      <th></th>\n",
       "      <th>id</th>\n",
       "      <th>price</th>\n",
       "      <th>bedrooms</th>\n",
       "      <th>bathrooms</th>\n",
       "      <th>sqft_living</th>\n",
       "      <th>sqft_lot</th>\n",
       "      <th>floors</th>\n",
       "      <th>waterfront</th>\n",
       "      <th>view</th>\n",
       "      <th>condition</th>\n",
       "      <th>grade</th>\n",
       "      <th>sqft_above</th>\n",
       "      <th>yr_built</th>\n",
       "      <th>yr_renovated</th>\n",
       "      <th>zipcode</th>\n",
       "      <th>lat</th>\n",
       "      <th>long</th>\n",
       "      <th>sqft_living15</th>\n",
       "      <th>sqft_lot15</th>\n",
       "    </tr>\n",
       "  </thead>\n",
       "  <tbody>\n",
       "    <tr>\n",
       "      <th>count</th>\n",
       "      <td>2.159700e+04</td>\n",
       "      <td>2.159700e+04</td>\n",
       "      <td>21597.000000</td>\n",
       "      <td>21597.000000</td>\n",
       "      <td>21597.000000</td>\n",
       "      <td>2.159700e+04</td>\n",
       "      <td>21597.000000</td>\n",
       "      <td>19221.000000</td>\n",
       "      <td>21534.000000</td>\n",
       "      <td>21597.000000</td>\n",
       "      <td>21597.000000</td>\n",
       "      <td>21597.000000</td>\n",
       "      <td>21597.000000</td>\n",
       "      <td>17755.000000</td>\n",
       "      <td>21597.000000</td>\n",
       "      <td>21597.000000</td>\n",
       "      <td>21597.000000</td>\n",
       "      <td>21597.000000</td>\n",
       "      <td>21597.000000</td>\n",
       "    </tr>\n",
       "    <tr>\n",
       "      <th>mean</th>\n",
       "      <td>4.580474e+09</td>\n",
       "      <td>5.402966e+05</td>\n",
       "      <td>3.373200</td>\n",
       "      <td>2.115826</td>\n",
       "      <td>2080.321850</td>\n",
       "      <td>1.509941e+04</td>\n",
       "      <td>1.494096</td>\n",
       "      <td>0.007596</td>\n",
       "      <td>0.233863</td>\n",
       "      <td>3.409825</td>\n",
       "      <td>7.657915</td>\n",
       "      <td>1788.596842</td>\n",
       "      <td>1970.999676</td>\n",
       "      <td>83.636778</td>\n",
       "      <td>98077.951845</td>\n",
       "      <td>47.560093</td>\n",
       "      <td>-122.213982</td>\n",
       "      <td>1986.620318</td>\n",
       "      <td>12758.283512</td>\n",
       "    </tr>\n",
       "    <tr>\n",
       "      <th>std</th>\n",
       "      <td>2.876736e+09</td>\n",
       "      <td>3.673681e+05</td>\n",
       "      <td>0.926299</td>\n",
       "      <td>0.768984</td>\n",
       "      <td>918.106125</td>\n",
       "      <td>4.141264e+04</td>\n",
       "      <td>0.539683</td>\n",
       "      <td>0.086825</td>\n",
       "      <td>0.765686</td>\n",
       "      <td>0.650546</td>\n",
       "      <td>1.173200</td>\n",
       "      <td>827.759761</td>\n",
       "      <td>29.375234</td>\n",
       "      <td>399.946414</td>\n",
       "      <td>53.513072</td>\n",
       "      <td>0.138552</td>\n",
       "      <td>0.140724</td>\n",
       "      <td>685.230472</td>\n",
       "      <td>27274.441950</td>\n",
       "    </tr>\n",
       "    <tr>\n",
       "      <th>min</th>\n",
       "      <td>1.000102e+06</td>\n",
       "      <td>7.800000e+04</td>\n",
       "      <td>1.000000</td>\n",
       "      <td>0.500000</td>\n",
       "      <td>370.000000</td>\n",
       "      <td>5.200000e+02</td>\n",
       "      <td>1.000000</td>\n",
       "      <td>0.000000</td>\n",
       "      <td>0.000000</td>\n",
       "      <td>1.000000</td>\n",
       "      <td>3.000000</td>\n",
       "      <td>370.000000</td>\n",
       "      <td>1900.000000</td>\n",
       "      <td>0.000000</td>\n",
       "      <td>98001.000000</td>\n",
       "      <td>47.155900</td>\n",
       "      <td>-122.519000</td>\n",
       "      <td>399.000000</td>\n",
       "      <td>651.000000</td>\n",
       "    </tr>\n",
       "    <tr>\n",
       "      <th>25%</th>\n",
       "      <td>2.123049e+09</td>\n",
       "      <td>3.220000e+05</td>\n",
       "      <td>3.000000</td>\n",
       "      <td>1.750000</td>\n",
       "      <td>1430.000000</td>\n",
       "      <td>5.040000e+03</td>\n",
       "      <td>1.000000</td>\n",
       "      <td>0.000000</td>\n",
       "      <td>0.000000</td>\n",
       "      <td>3.000000</td>\n",
       "      <td>7.000000</td>\n",
       "      <td>1190.000000</td>\n",
       "      <td>1951.000000</td>\n",
       "      <td>0.000000</td>\n",
       "      <td>98033.000000</td>\n",
       "      <td>47.471100</td>\n",
       "      <td>-122.328000</td>\n",
       "      <td>1490.000000</td>\n",
       "      <td>5100.000000</td>\n",
       "    </tr>\n",
       "    <tr>\n",
       "      <th>50%</th>\n",
       "      <td>3.904930e+09</td>\n",
       "      <td>4.500000e+05</td>\n",
       "      <td>3.000000</td>\n",
       "      <td>2.250000</td>\n",
       "      <td>1910.000000</td>\n",
       "      <td>7.618000e+03</td>\n",
       "      <td>1.500000</td>\n",
       "      <td>0.000000</td>\n",
       "      <td>0.000000</td>\n",
       "      <td>3.000000</td>\n",
       "      <td>7.000000</td>\n",
       "      <td>1560.000000</td>\n",
       "      <td>1975.000000</td>\n",
       "      <td>0.000000</td>\n",
       "      <td>98065.000000</td>\n",
       "      <td>47.571800</td>\n",
       "      <td>-122.231000</td>\n",
       "      <td>1840.000000</td>\n",
       "      <td>7620.000000</td>\n",
       "    </tr>\n",
       "    <tr>\n",
       "      <th>75%</th>\n",
       "      <td>7.308900e+09</td>\n",
       "      <td>6.450000e+05</td>\n",
       "      <td>4.000000</td>\n",
       "      <td>2.500000</td>\n",
       "      <td>2550.000000</td>\n",
       "      <td>1.068500e+04</td>\n",
       "      <td>2.000000</td>\n",
       "      <td>0.000000</td>\n",
       "      <td>0.000000</td>\n",
       "      <td>4.000000</td>\n",
       "      <td>8.000000</td>\n",
       "      <td>2210.000000</td>\n",
       "      <td>1997.000000</td>\n",
       "      <td>0.000000</td>\n",
       "      <td>98118.000000</td>\n",
       "      <td>47.678000</td>\n",
       "      <td>-122.125000</td>\n",
       "      <td>2360.000000</td>\n",
       "      <td>10083.000000</td>\n",
       "    </tr>\n",
       "    <tr>\n",
       "      <th>max</th>\n",
       "      <td>9.900000e+09</td>\n",
       "      <td>7.700000e+06</td>\n",
       "      <td>33.000000</td>\n",
       "      <td>8.000000</td>\n",
       "      <td>13540.000000</td>\n",
       "      <td>1.651359e+06</td>\n",
       "      <td>3.500000</td>\n",
       "      <td>1.000000</td>\n",
       "      <td>4.000000</td>\n",
       "      <td>5.000000</td>\n",
       "      <td>13.000000</td>\n",
       "      <td>9410.000000</td>\n",
       "      <td>2015.000000</td>\n",
       "      <td>2015.000000</td>\n",
       "      <td>98199.000000</td>\n",
       "      <td>47.777600</td>\n",
       "      <td>-121.315000</td>\n",
       "      <td>6210.000000</td>\n",
       "      <td>871200.000000</td>\n",
       "    </tr>\n",
       "  </tbody>\n",
       "</table>\n",
       "</div>"
      ],
      "text/plain": [
       "                 id         price      bedrooms     bathrooms   sqft_living  \\\n",
       "count  2.159700e+04  2.159700e+04  21597.000000  21597.000000  21597.000000   \n",
       "mean   4.580474e+09  5.402966e+05      3.373200      2.115826   2080.321850   \n",
       "std    2.876736e+09  3.673681e+05      0.926299      0.768984    918.106125   \n",
       "min    1.000102e+06  7.800000e+04      1.000000      0.500000    370.000000   \n",
       "25%    2.123049e+09  3.220000e+05      3.000000      1.750000   1430.000000   \n",
       "50%    3.904930e+09  4.500000e+05      3.000000      2.250000   1910.000000   \n",
       "75%    7.308900e+09  6.450000e+05      4.000000      2.500000   2550.000000   \n",
       "max    9.900000e+09  7.700000e+06     33.000000      8.000000  13540.000000   \n",
       "\n",
       "           sqft_lot        floors    waterfront          view     condition  \\\n",
       "count  2.159700e+04  21597.000000  19221.000000  21534.000000  21597.000000   \n",
       "mean   1.509941e+04      1.494096      0.007596      0.233863      3.409825   \n",
       "std    4.141264e+04      0.539683      0.086825      0.765686      0.650546   \n",
       "min    5.200000e+02      1.000000      0.000000      0.000000      1.000000   \n",
       "25%    5.040000e+03      1.000000      0.000000      0.000000      3.000000   \n",
       "50%    7.618000e+03      1.500000      0.000000      0.000000      3.000000   \n",
       "75%    1.068500e+04      2.000000      0.000000      0.000000      4.000000   \n",
       "max    1.651359e+06      3.500000      1.000000      4.000000      5.000000   \n",
       "\n",
       "              grade    sqft_above      yr_built  yr_renovated       zipcode  \\\n",
       "count  21597.000000  21597.000000  21597.000000  17755.000000  21597.000000   \n",
       "mean       7.657915   1788.596842   1970.999676     83.636778  98077.951845   \n",
       "std        1.173200    827.759761     29.375234    399.946414     53.513072   \n",
       "min        3.000000    370.000000   1900.000000      0.000000  98001.000000   \n",
       "25%        7.000000   1190.000000   1951.000000      0.000000  98033.000000   \n",
       "50%        7.000000   1560.000000   1975.000000      0.000000  98065.000000   \n",
       "75%        8.000000   2210.000000   1997.000000      0.000000  98118.000000   \n",
       "max       13.000000   9410.000000   2015.000000   2015.000000  98199.000000   \n",
       "\n",
       "                lat          long  sqft_living15     sqft_lot15  \n",
       "count  21597.000000  21597.000000   21597.000000   21597.000000  \n",
       "mean      47.560093   -122.213982    1986.620318   12758.283512  \n",
       "std        0.138552      0.140724     685.230472   27274.441950  \n",
       "min       47.155900   -122.519000     399.000000     651.000000  \n",
       "25%       47.471100   -122.328000    1490.000000    5100.000000  \n",
       "50%       47.571800   -122.231000    1840.000000    7620.000000  \n",
       "75%       47.678000   -122.125000    2360.000000   10083.000000  \n",
       "max       47.777600   -121.315000    6210.000000  871200.000000  "
      ]
     },
     "execution_count": 37,
     "metadata": {},
     "output_type": "execute_result"
    }
   ],
   "source": [
    "#initial checks\n",
    "df.describe()"
   ]
  },
  {
   "cell_type": "markdown",
   "metadata": {},
   "source": [
    "# Data Cleaning"
   ]
  },
  {
   "cell_type": "markdown",
   "metadata": {},
   "source": [
    "This section of the notebook will focus on the Data Cleaning.\n",
    "\n",
    "To begin the data cleaning, we will start with checking the null values"
   ]
  },
  {
   "cell_type": "code",
   "execution_count": 38,
   "metadata": {},
   "outputs": [
    {
     "data": {
      "text/plain": [
       "id                  0\n",
       "date                0\n",
       "price               0\n",
       "bedrooms            0\n",
       "bathrooms           0\n",
       "sqft_living         0\n",
       "sqft_lot            0\n",
       "floors              0\n",
       "waterfront       2376\n",
       "view               63\n",
       "condition           0\n",
       "grade               0\n",
       "sqft_above          0\n",
       "sqft_basement       0\n",
       "yr_built            0\n",
       "yr_renovated     3842\n",
       "zipcode             0\n",
       "lat                 0\n",
       "long                0\n",
       "sqft_living15       0\n",
       "sqft_lot15          0\n",
       "dtype: int64"
      ]
     },
     "execution_count": 38,
     "metadata": {},
     "output_type": "execute_result"
    }
   ],
   "source": [
    "#checking null values\n",
    "df.isna().sum()"
   ]
  },
  {
   "cell_type": "markdown",
   "metadata": {},
   "source": [
    "\n",
    "\n",
    "Looking at the null values, we can see that the following columns contain null values:\n",
    "\n",
    "-waterfont \n",
    "\n",
    "-view \n",
    "\n",
    "-yr_renovated \n",
    "\n",
    "\n",
    "We will investigate each column in more detail"
   ]
  },
  {
   "cell_type": "markdown",
   "metadata": {},
   "source": [
    "## Waterfront"
   ]
  },
  {
   "cell_type": "code",
   "execution_count": 39,
   "metadata": {},
   "outputs": [
    {
     "data": {
      "text/plain": [
       "array([nan,  0.,  1.])"
      ]
     },
     "execution_count": 39,
     "metadata": {},
     "output_type": "execute_result"
    }
   ],
   "source": [
    "#checking unique values\n",
    "df['waterfront'].unique()"
   ]
  },
  {
   "cell_type": "markdown",
   "metadata": {},
   "source": [
    "The waterfront column is a binary value, 0 representing not waterfront property, 1 representing waterfront property. We have assumed that the null values are not waterfront properties and will change the null values to 0"
   ]
  },
  {
   "cell_type": "code",
   "execution_count": 40,
   "metadata": {},
   "outputs": [],
   "source": [
    "#filling null values with 0.0\n",
    "df[\"waterfront\"] = df[\"waterfront\"].fillna(0.0)"
   ]
  },
  {
   "cell_type": "markdown",
   "metadata": {},
   "source": [
    "## View"
   ]
  },
  {
   "cell_type": "markdown",
   "metadata": {},
   "source": [
    "Looking into the definition of view, we see that this is the number of times a property was viewed. We do not see this relevant to our house price prediction model, we will remove this column from our dataset entirely."
   ]
  },
  {
   "cell_type": "code",
   "execution_count": 41,
   "metadata": {},
   "outputs": [],
   "source": [
    "#dropping row entirely\n",
    "df.drop(columns='view', inplace=True)"
   ]
  },
  {
   "cell_type": "code",
   "execution_count": 42,
   "metadata": {},
   "outputs": [
    {
     "data": {
      "text/plain": [
       "Index(['id', 'date', 'price', 'bedrooms', 'bathrooms', 'sqft_living',\n",
       "       'sqft_lot', 'floors', 'waterfront', 'condition', 'grade', 'sqft_above',\n",
       "       'sqft_basement', 'yr_built', 'yr_renovated', 'zipcode', 'lat', 'long',\n",
       "       'sqft_living15', 'sqft_lot15'],\n",
       "      dtype='object')"
      ]
     },
     "execution_count": 42,
     "metadata": {},
     "output_type": "execute_result"
    }
   ],
   "source": [
    "#checking if it dropped\n",
    "df.columns"
   ]
  },
  {
   "cell_type": "markdown",
   "metadata": {},
   "source": [
    "## Yr_renovated"
   ]
  },
  {
   "cell_type": "markdown",
   "metadata": {},
   "source": [
    "Looking at yr_renovated, it looks like there are quite a few nan values here. We have assumed that this means the property was never renovated. We have decided to replace these nan values with 0. Additionally, we are assuming that the existing 0s means that the property was never renovated."
   ]
  },
  {
   "cell_type": "code",
   "execution_count": 43,
   "metadata": {},
   "outputs": [
    {
     "data": {
      "text/plain": [
       "array([   0., 1991.,   nan, 2002., 2010., 1992., 2013., 1994., 1978.,\n",
       "       2005., 2003., 1984., 1954., 2014., 2011., 1983., 1945., 1990.,\n",
       "       1988., 1977., 1981., 1995., 2000., 1999., 1998., 1970., 1989.,\n",
       "       2004., 1986., 2007., 1987., 2006., 1985., 2001., 1980., 1971.,\n",
       "       1979., 1997., 1950., 1969., 1948., 2009., 2015., 1974., 2008.,\n",
       "       1968., 2012., 1963., 1951., 1962., 1953., 1993., 1996., 1955.,\n",
       "       1982., 1956., 1940., 1976., 1946., 1975., 1964., 1973., 1957.,\n",
       "       1959., 1960., 1967., 1965., 1934., 1972., 1944., 1958.])"
      ]
     },
     "execution_count": 43,
     "metadata": {},
     "output_type": "execute_result"
    }
   ],
   "source": [
    "#checking unique values\n",
    "df[\"yr_renovated\"].unique()"
   ]
  },
  {
   "cell_type": "code",
   "execution_count": 44,
   "metadata": {},
   "outputs": [],
   "source": [
    "#filling unique values as 0\n",
    "df[\"yr_renovated\"] = df[\"yr_renovated\"].fillna(0.0)"
   ]
  },
  {
   "cell_type": "code",
   "execution_count": 45,
   "metadata": {},
   "outputs": [
    {
     "data": {
      "text/plain": [
       "0"
      ]
     },
     "execution_count": 45,
     "metadata": {},
     "output_type": "execute_result"
    }
   ],
   "source": [
    "#checking to see if this worked.\n",
    "df[\"yr_renovated\"].isna().sum()"
   ]
  },
  {
   "cell_type": "markdown",
   "metadata": {},
   "source": [
    "Now we will check to see if there are any null values remaining."
   ]
  },
  {
   "cell_type": "code",
   "execution_count": 46,
   "metadata": {},
   "outputs": [
    {
     "data": {
      "text/plain": [
       "id               0\n",
       "date             0\n",
       "price            0\n",
       "bedrooms         0\n",
       "bathrooms        0\n",
       "sqft_living      0\n",
       "sqft_lot         0\n",
       "floors           0\n",
       "waterfront       0\n",
       "condition        0\n",
       "grade            0\n",
       "sqft_above       0\n",
       "sqft_basement    0\n",
       "yr_built         0\n",
       "yr_renovated     0\n",
       "zipcode          0\n",
       "lat              0\n",
       "long             0\n",
       "sqft_living15    0\n",
       "sqft_lot15       0\n",
       "dtype: int64"
      ]
     },
     "execution_count": 46,
     "metadata": {},
     "output_type": "execute_result"
    }
   ],
   "source": [
    "#it looks like all null values has been removed.\n",
    "df.isna().sum()"
   ]
  },
  {
   "cell_type": "markdown",
   "metadata": {},
   "source": [
    "# Further Data Cleaning"
   ]
  },
  {
   "cell_type": "markdown",
   "metadata": {},
   "source": [
    "In this section, we will look at the other columns which need cleaning."
   ]
  },
  {
   "cell_type": "markdown",
   "metadata": {},
   "source": [
    "## Sqft_basement"
   ]
  },
  {
   "cell_type": "markdown",
   "metadata": {},
   "source": [
    "We can see that sqft_basements has a variable \"?\". We can see that there are 454 entries with \"?\". We are assuming that these properties do not have any basement, We will fill these as 0."
   ]
  },
  {
   "cell_type": "code",
   "execution_count": 47,
   "metadata": {},
   "outputs": [
    {
     "data": {
      "text/plain": [
       "0.0       12826\n",
       "?           454\n",
       "600.0       217\n",
       "500.0       209\n",
       "700.0       208\n",
       "          ...  \n",
       "2390.0        1\n",
       "143.0         1\n",
       "2190.0        1\n",
       "588.0         1\n",
       "2600.0        1\n",
       "Name: sqft_basement, Length: 304, dtype: int64"
      ]
     },
     "execution_count": 47,
     "metadata": {},
     "output_type": "execute_result"
    }
   ],
   "source": [
    "#Checking value counts of sqft_basement\n",
    "df['sqft_basement'].value_counts()"
   ]
  },
  {
   "cell_type": "code",
   "execution_count": 48,
   "metadata": {},
   "outputs": [],
   "source": [
    "#replacing ? with 0.9\n",
    "df[\"sqft_basement\"].replace(to_replace =\"?\", \n",
    "                 value = \"0.0\", inplace=True) "
   ]
  },
  {
   "cell_type": "code",
   "execution_count": 49,
   "metadata": {},
   "outputs": [
    {
     "data": {
      "text/plain": [
       "0.0       13280\n",
       "600.0       217\n",
       "500.0       209\n",
       "700.0       208\n",
       "800.0       201\n",
       "          ...  \n",
       "2390.0        1\n",
       "143.0         1\n",
       "2190.0        1\n",
       "588.0         1\n",
       "2600.0        1\n",
       "Name: sqft_basement, Length: 303, dtype: int64"
      ]
     },
     "execution_count": 49,
     "metadata": {},
     "output_type": "execute_result"
    }
   ],
   "source": [
    "#checking to see if it worked\n",
    "df['sqft_basement'].value_counts()"
   ]
  },
  {
   "cell_type": "markdown",
   "metadata": {},
   "source": [
    "## Bedroom\n"
   ]
  },
  {
   "cell_type": "markdown",
   "metadata": {},
   "source": [
    "We can see that one of the properties has 33 bedrooms, this looks incorrect, we will drop the entire row."
   ]
  },
  {
   "cell_type": "code",
   "execution_count": 50,
   "metadata": {},
   "outputs": [
    {
     "data": {
      "text/plain": [
       "array([ 3,  2,  4,  5,  1,  6,  7,  8,  9, 11, 10, 33])"
      ]
     },
     "execution_count": 50,
     "metadata": {},
     "output_type": "execute_result"
    }
   ],
   "source": [
    "#checking unique values of bedrooms\n",
    "df['bedrooms'].unique()"
   ]
  },
  {
   "cell_type": "code",
   "execution_count": 51,
   "metadata": {},
   "outputs": [],
   "source": [
    "#dropping the 33 bedroom row.\n",
    "df = df[df['bedrooms']!=33]"
   ]
  },
  {
   "cell_type": "code",
   "execution_count": 52,
   "metadata": {},
   "outputs": [
    {
     "data": {
      "text/plain": [
       "array([ 3,  2,  4,  5,  1,  6,  7,  8,  9, 11, 10])"
      ]
     },
     "execution_count": 52,
     "metadata": {},
     "output_type": "execute_result"
    }
   ],
   "source": [
    "#checking to see if this was removed.\n",
    "df['bedrooms'].unique()"
   ]
  },
  {
   "cell_type": "markdown",
   "metadata": {},
   "source": [
    "# Exploratory Data Analysis"
   ]
  },
  {
   "cell_type": "markdown",
   "metadata": {},
   "source": [
    "This section will look at exporatory data analysis and will focus on visualisations of the data. We will be creating further columns and sub dataframes as we see appropriate.\n",
    "\n",
    "We will be looking to answer the following questions and providing other findings during the EDA phase which will shape our approach to the regression model.\n",
    "\n",
    "Question 1) How do average property prices rank according to Zipcode in King County Washington?\n",
    "\n",
    "Question 2) Do waterfront properties command a higher price on average?\n",
    "\n",
    "Question 3) Does the grade of the property matter? And if so is there a case for renovating properties?\n",
    "\n"
   ]
  },
  {
   "cell_type": "markdown",
   "metadata": {},
   "source": [
    "\n",
    "Now we will create a new column indicating that the property was renovated with the last 15 years or not."
   ]
  },
  {
   "cell_type": "markdown",
   "metadata": {},
   "source": [
    "## Question 1: How do average property prices rank according to Zipcode in King County Washington?"
   ]
  },
  {
   "cell_type": "markdown",
   "metadata": {},
   "source": [
    "In order to answer this question, we will look to use pandas groupby and aggregate function, grouping the dataframe df by zipcode, and then aggregating the Average prices. This will be saved under a new dataframe zip_price_df."
   ]
  },
  {
   "cell_type": "code",
   "execution_count": 53,
   "metadata": {},
   "outputs": [],
   "source": [
    "#creating a groupby aggregate\n",
    "zip_price_df = df.groupby('zipcode').agg(Av_price=('price','mean')).reset_index().sort_values(by='Av_price',ascending=False)"
   ]
  },
  {
   "cell_type": "code",
   "execution_count": 54,
   "metadata": {},
   "outputs": [],
   "source": [
    "#changing the zipcode values as strings to plot easily\n",
    "zip_price_df['zipcode'] = zip_price_df['zipcode'].astype(str)"
   ]
  },
  {
   "cell_type": "code",
   "execution_count": 55,
   "metadata": {},
   "outputs": [
    {
     "data": {
      "image/png": "[encoded data removed]",
      "text/plain": [
       "<Figure size 1296x864 with 1 Axes>"
      ]
     },
     "metadata": {
      "needs_background": "light"
     },
     "output_type": "display_data"
    }
   ],
   "source": [
    "#plotting bar chart\n",
    "plt.figure(figsize=(18,12))\n",
    "plt.bar(zip_price_df['zipcode'],zip_price_df['Av_price'],label='Average Prices')\n",
    "plt.xticks(rotation=90)\n",
    "plt.xlabel('Zipcodes')\n",
    "plt.ylabel('Average Property Price')\n",
    "plt.title(\"Average Property Prices by Zipcode\")\n",
    "plt.legend()\n",
    "plt.show()"
   ]
  },
  {
   "cell_type": "code",
   "execution_count": 56,
   "metadata": {},
   "outputs": [
    {
     "data": {
      "image/png": "[encoded data removed]",
      "text/plain": [
       "<Figure size 1440x432 with 1 Axes>"
      ]
     },
     "metadata": {
      "needs_background": "light"
     },
     "output_type": "display_data"
    }
   ],
   "source": [
    "plt.figure(figsize=(20,6))\n",
    "sns.barplot(zip_price_df['zipcode'],zip_price_df['Av_price'],label='Average Prices')\n",
    "plt.xticks(rotation=90)\n",
    "plt.title(\"Average Property Prices by Zipcode\")\n",
    "plt.legend()\n",
    "plt.show()"
   ]
  },
  {
   "cell_type": "markdown",
   "metadata": {},
   "source": [
    "The visualisations above show the average prices by zipcode in King County. The highest average price is USD 2.2m in 98103 which is around the northern part of Seattle. Followed by Bellevue 98004 at USD 1.3m, Mercer Island 98040 at 1.2m, Maddison Park, Seattle 98112 at 1.1m (incidentally where Kurt Cobain lived and killed himself), and Capitol Hill 98102 at USD 900k."
   ]
  },
  {
   "cell_type": "code",
   "execution_count": 57,
   "metadata": {},
   "outputs": [
    {
     "data": {
      "text/html": [
       "<div>\n",
       "<style scoped>\n",
       "    .dataframe tbody tr th:only-of-type {\n",
       "        vertical-align: middle;\n",
       "    }\n",
       "\n",
       "    .dataframe tbody tr th {\n",
       "        vertical-align: top;\n",
       "    }\n",
       "\n",
       "    .dataframe thead th {\n",
       "        text-align: right;\n",
       "    }\n",
       "</style>\n",
       "<table border=\"1\" class=\"dataframe\">\n",
       "  <thead>\n",
       "    <tr style=\"text-align: right;\">\n",
       "      <th></th>\n",
       "      <th>zipcode</th>\n",
       "      <th>Av_price</th>\n",
       "    </tr>\n",
       "  </thead>\n",
       "  <tbody>\n",
       "    <tr>\n",
       "      <th>24</th>\n",
       "      <td>98039</td>\n",
       "      <td>2.161300e+06</td>\n",
       "    </tr>\n",
       "    <tr>\n",
       "      <th>3</th>\n",
       "      <td>98004</td>\n",
       "      <td>1.356524e+06</td>\n",
       "    </tr>\n",
       "    <tr>\n",
       "      <th>25</th>\n",
       "      <td>98040</td>\n",
       "      <td>1.194874e+06</td>\n",
       "    </tr>\n",
       "    <tr>\n",
       "      <th>48</th>\n",
       "      <td>98112</td>\n",
       "      <td>1.096239e+06</td>\n",
       "    </tr>\n",
       "    <tr>\n",
       "      <th>41</th>\n",
       "      <td>98102</td>\n",
       "      <td>8.996077e+05</td>\n",
       "    </tr>\n",
       "  </tbody>\n",
       "</table>\n",
       "</div>"
      ],
      "text/plain": [
       "   zipcode      Av_price\n",
       "24   98039  2.161300e+06\n",
       "3    98004  1.356524e+06\n",
       "25   98040  1.194874e+06\n",
       "48   98112  1.096239e+06\n",
       "41   98102  8.996077e+05"
      ]
     },
     "execution_count": 57,
     "metadata": {},
     "output_type": "execute_result"
    }
   ],
   "source": [
    "#checking head\n",
    "zip_price_df.head()"
   ]
  },
  {
   "cell_type": "markdown",
   "metadata": {},
   "source": [
    "## Question 2: Does having a waterfront property make a difference?"
   ]
  },
  {
   "cell_type": "markdown",
   "metadata": {},
   "source": [
    "It would make sense for a waterfront property to command a higher price. We will explore this in further detail here."
   ]
  },
  {
   "cell_type": "code",
   "execution_count": 58,
   "metadata": {},
   "outputs": [
    {
     "data": {
      "image/png": "[encoded data removed]",
      "text/plain": [
       "<Figure size 360x360 with 1 Axes>"
      ]
     },
     "metadata": {
      "needs_background": "light"
     },
     "output_type": "display_data"
    }
   ],
   "source": [
    "#Plotting caplot\n",
    "sns.catplot(data=df, x=\"waterfront\", y=\"price\",height=5,kind='bar')\n",
    "plt.title('Waterfront Catplot')\n",
    "plt.show()"
   ]
  },
  {
   "cell_type": "markdown",
   "metadata": {},
   "source": [
    "The visualisation above would suggest that waterfront properties do have higher prices in general. We will explore this in further detail by grouping the property prices by waterfront and non-waterfront. We will then convert calculate the z-score, and compare the distplot to see if there is any truth to this."
   ]
  },
  {
   "cell_type": "code",
   "execution_count": 59,
   "metadata": {},
   "outputs": [],
   "source": [
    "#creating separate dataframe splits on waterfront\n",
    "df_waterfront = df[(df['waterfront']==1)]\n",
    "df_nonwaterfront = df[(df['waterfront']==0)]"
   ]
  },
  {
   "cell_type": "code",
   "execution_count": 60,
   "metadata": {},
   "outputs": [
    {
     "name": "stderr",
     "output_type": "stream",
     "text": [
      "//anaconda3/lib/python3.7/site-packages/ipykernel_launcher.py:2: SettingWithCopyWarning: \n",
      "A value is trying to be set on a copy of a slice from a DataFrame.\n",
      "Try using .loc[row_indexer,col_indexer] = value instead\n",
      "\n",
      "See the caveats in the documentation: https://pandas.pydata.org/pandas-docs/stable/user_guide/indexing.html#returning-a-view-versus-a-copy\n",
      "  \n",
      "//anaconda3/lib/python3.7/site-packages/ipykernel_launcher.py:3: SettingWithCopyWarning: \n",
      "A value is trying to be set on a copy of a slice from a DataFrame.\n",
      "Try using .loc[row_indexer,col_indexer] = value instead\n",
      "\n",
      "See the caveats in the documentation: https://pandas.pydata.org/pandas-docs/stable/user_guide/indexing.html#returning-a-view-versus-a-copy\n",
      "  This is separate from the ipykernel package so we can avoid doing imports until\n"
     ]
    }
   ],
   "source": [
    "#Calculating Z-score\n",
    "df_waterfront['z'] = (df_waterfront['price'] - df_waterfront['price'].mean()) / df_waterfront['price'].std()\n",
    "df_nonwaterfront['z'] = (df_nonwaterfront['price'] - df_nonwaterfront['price'].mean()) / df_nonwaterfront['price'].std()"
   ]
  },
  {
   "cell_type": "code",
   "execution_count": 61,
   "metadata": {},
   "outputs": [
    {
     "name": "stdout",
     "output_type": "stream",
     "text": [
      "Waterfront Mean: 1717214.7260273972\n",
      "Non-Waterfront Mean: 532281.2003729604\n",
      "Waterfront Std: 1145384.8566607884\n",
      "Non-Waterfront Std: 342815.3891289751\n"
     ]
    }
   ],
   "source": [
    "print(f\"Waterfront Mean: {df_waterfront['price'].mean()}\")\n",
    "print(f\"Non-Waterfront Mean: {df_nonwaterfront['price'].mean()}\")\n",
    "print(f\"Waterfront Std: {df_waterfront['price'].std()}\")\n",
    "print(f\"Non-Waterfront Std: {df_nonwaterfront['price'].std()}\")"
   ]
  },
  {
   "cell_type": "code",
   "execution_count": 93,
   "metadata": {},
   "outputs": [
    {
     "data": {
      "image/png": "[encoded data removed]",
      "text/plain": [
       "<Figure size 720x432 with 1 Axes>"
      ]
     },
     "metadata": {
      "needs_background": "light"
     },
     "output_type": "display_data"
    }
   ],
   "source": [
    "#plotting z-scores for each distribution\n",
    "plt.figure(figsize=(10,6))\n",
    "sns.distplot(df_waterfront['z'],label='Waterfront')\n",
    "sns.distplot(df_nonwaterfront['z'],label='Non-Waterfront')\n",
    "plt.title(\"Comparing z-score distributions for Waterfront and Non-Waterfront properties\")\n",
    "plt.ylabel(\"Probability Density\")\n",
    "plt.xlabel(\"Mean\")\n",
    "plt.legend()\n",
    "plt.show()"
   ]
  },
  {
   "cell_type": "markdown",
   "metadata": {},
   "source": [
    "Based on the following, it does seem that Waterfront properties have higher average prices. We could confirm this by running a hypothesis test. We will look to use waterfront as a feature in our regression analysis later in this notebook."
   ]
  },
  {
   "cell_type": "markdown",
   "metadata": {},
   "source": [
    "## Question 3: Does grade of the building influence the price? And if so is it worth buying derelict properties and renovating them?"
   ]
  },
  {
   "cell_type": "code",
   "execution_count": 63,
   "metadata": {},
   "outputs": [
    {
     "data": {
      "text/plain": [
       "array([ 7,  6,  8, 11,  9,  5, 10, 12,  4,  3, 13])"
      ]
     },
     "execution_count": 63,
     "metadata": {},
     "output_type": "execute_result"
    }
   ],
   "source": [
    "#checking unique values\n",
    "df['grade'].unique()"
   ]
  },
  {
   "cell_type": "code",
   "execution_count": 64,
   "metadata": {},
   "outputs": [
    {
     "data": {
      "text/plain": [
       "11"
      ]
     },
     "execution_count": 64,
     "metadata": {},
     "output_type": "execute_result"
    }
   ],
   "source": [
    "#checking number of unique values.\n",
    "len(df['grade'].unique())"
   ]
  },
  {
   "cell_type": "markdown",
   "metadata": {},
   "source": [
    "To answer this question, we will explore the variation in price between the different grades. The existing column in the dataframe has 11 unique values ranging from 3 to 13. Following a google search, we were able to find out that grade is defined as below.\n",
    "\n",
    "grade - An index from 1 to 13, where 1-3 falls short of building construction and design, 7 has an average level of construction and design, and 11-13 have a high quality level of construction and design."
   ]
  },
  {
   "cell_type": "markdown",
   "metadata": {},
   "source": [
    "We will plot the data as a catplot using seaborn to look further into this"
   ]
  },
  {
   "cell_type": "code",
   "execution_count": 65,
   "metadata": {},
   "outputs": [
    {
     "data": {
      "image/png": "[encoded data removed]",
      "text/plain": [
       "<Figure size 504x504 with 1 Axes>"
      ]
     },
     "metadata": {
      "needs_background": "light"
     },
     "output_type": "display_data"
    }
   ],
   "source": [
    "sns.catplot(data=df, x=\"grade\", y=\"price\",height=7,kind='bar')\n",
    "plt.title(\"Catplot of Grades\")\n",
    "plt.show()"
   ]
  },
  {
   "cell_type": "markdown",
   "metadata": {},
   "source": [
    "The visualisation above clearly shows property prices improving as they move up the grade scale."
   ]
  },
  {
   "cell_type": "code",
   "execution_count": 66,
   "metadata": {},
   "outputs": [
    {
     "data": {
      "text/html": [
       "<div>\n",
       "<style scoped>\n",
       "    .dataframe tbody tr th:only-of-type {\n",
       "        vertical-align: middle;\n",
       "    }\n",
       "\n",
       "    .dataframe tbody tr th {\n",
       "        vertical-align: top;\n",
       "    }\n",
       "\n",
       "    .dataframe thead th {\n",
       "        text-align: right;\n",
       "    }\n",
       "</style>\n",
       "<table border=\"1\" class=\"dataframe\">\n",
       "  <thead>\n",
       "    <tr style=\"text-align: right;\">\n",
       "      <th></th>\n",
       "      <th>Av_price</th>\n",
       "    </tr>\n",
       "    <tr>\n",
       "      <th>grade</th>\n",
       "      <th></th>\n",
       "    </tr>\n",
       "  </thead>\n",
       "  <tbody>\n",
       "    <tr>\n",
       "      <th>3</th>\n",
       "      <td>2.620000e+05</td>\n",
       "    </tr>\n",
       "    <tr>\n",
       "      <th>4</th>\n",
       "      <td>2.120019e+05</td>\n",
       "    </tr>\n",
       "    <tr>\n",
       "      <th>5</th>\n",
       "      <td>2.485240e+05</td>\n",
       "    </tr>\n",
       "    <tr>\n",
       "      <th>6</th>\n",
       "      <td>3.019166e+05</td>\n",
       "    </tr>\n",
       "    <tr>\n",
       "      <th>7</th>\n",
       "      <td>4.025681e+05</td>\n",
       "    </tr>\n",
       "    <tr>\n",
       "      <th>8</th>\n",
       "      <td>5.429868e+05</td>\n",
       "    </tr>\n",
       "    <tr>\n",
       "      <th>9</th>\n",
       "      <td>7.737382e+05</td>\n",
       "    </tr>\n",
       "    <tr>\n",
       "      <th>10</th>\n",
       "      <td>1.072347e+06</td>\n",
       "    </tr>\n",
       "    <tr>\n",
       "      <th>11</th>\n",
       "      <td>1.497792e+06</td>\n",
       "    </tr>\n",
       "    <tr>\n",
       "      <th>12</th>\n",
       "      <td>2.202528e+06</td>\n",
       "    </tr>\n",
       "    <tr>\n",
       "      <th>13</th>\n",
       "      <td>3.710769e+06</td>\n",
       "    </tr>\n",
       "  </tbody>\n",
       "</table>\n",
       "</div>"
      ],
      "text/plain": [
       "           Av_price\n",
       "grade              \n",
       "3      2.620000e+05\n",
       "4      2.120019e+05\n",
       "5      2.485240e+05\n",
       "6      3.019166e+05\n",
       "7      4.025681e+05\n",
       "8      5.429868e+05\n",
       "9      7.737382e+05\n",
       "10     1.072347e+06\n",
       "11     1.497792e+06\n",
       "12     2.202528e+06\n",
       "13     3.710769e+06"
      ]
     },
     "execution_count": 66,
     "metadata": {},
     "output_type": "execute_result"
    }
   ],
   "source": [
    "#Grouping it by average prices.\n",
    "df.groupby('grade').agg(Av_price=('price','mean'))"
   ]
  },
  {
   "cell_type": "markdown",
   "metadata": {},
   "source": [
    "The average price for below average properties are around USD 300k, whereas properties of high quality on the scale averages at around USD 3.7m. Based on this, there does appear to be evidence that grade does have a positive impact on the price."
   ]
  },
  {
   "cell_type": "markdown",
   "metadata": {},
   "source": [
    "We will now see if it is worth renovating the property by looking at the difference in average prices between properties that have been renovated, and properties that have not."
   ]
  },
  {
   "cell_type": "markdown",
   "metadata": {},
   "source": [
    "We will do this by creating a new binary column 'renovated' which shows values 1 and 0 indicating whether a property has been renvoated or not."
   ]
  },
  {
   "cell_type": "code",
   "execution_count": 67,
   "metadata": {},
   "outputs": [
    {
     "data": {
      "text/plain": [
       "array([   0., 1991., 2002., 2010., 1992., 2013., 1994., 1978., 2005.,\n",
       "       2003., 1984., 1954., 2014., 2011., 1983., 1945., 1990., 1988.,\n",
       "       1977., 1981., 1995., 2000., 1999., 1998., 1970., 1989., 2004.,\n",
       "       1986., 2007., 1987., 2006., 1985., 2001., 1980., 1971., 1979.,\n",
       "       1997., 1950., 1969., 1948., 2009., 2015., 1974., 2008., 1968.,\n",
       "       2012., 1963., 1951., 1962., 1953., 1993., 1996., 1955., 1982.,\n",
       "       1956., 1940., 1976., 1946., 1975., 1964., 1973., 1957., 1959.,\n",
       "       1960., 1967., 1965., 1934., 1972., 1944., 1958.])"
      ]
     },
     "execution_count": 67,
     "metadata": {},
     "output_type": "execute_result"
    }
   ],
   "source": [
    "#Checking unique values.\n",
    "df['yr_renovated'].unique()"
   ]
  },
  {
   "cell_type": "code",
   "execution_count": 68,
   "metadata": {},
   "outputs": [],
   "source": [
    "#Creating dataframe splits based on yr_renovated or not\n",
    "df_renovated = df[(df['yr_renovated']==0)]\n",
    "df_nonrenovated = df[df['yr_renovated']!=0]"
   ]
  },
  {
   "cell_type": "code",
   "execution_count": 69,
   "metadata": {},
   "outputs": [
    {
     "data": {
      "image/png": "[encoded data removed]",
      "text/plain": [
       "<Figure size 720x432 with 1 Axes>"
      ]
     },
     "metadata": {
      "needs_background": "light"
     },
     "output_type": "display_data"
    }
   ],
   "source": [
    "plt.figure(figsize=(10,6))\n",
    "sns.distplot(df_renovated['price'],label=\"Renovated\")\n",
    "sns.distplot(df_nonrenovated['price'],label=\"Not Renovated\")\n",
    "plt.title(\"Comparing distributions between Renvoated and Not Renovated\")\n",
    "plt.legend()\n",
    "plt.show()"
   ]
  },
  {
   "cell_type": "code",
   "execution_count": 70,
   "metadata": {},
   "outputs": [
    {
     "name": "stderr",
     "output_type": "stream",
     "text": [
      "//anaconda3/lib/python3.7/site-packages/ipykernel_launcher.py:2: SettingWithCopyWarning: \n",
      "A value is trying to be set on a copy of a slice from a DataFrame.\n",
      "Try using .loc[row_indexer,col_indexer] = value instead\n",
      "\n",
      "See the caveats in the documentation: https://pandas.pydata.org/pandas-docs/stable/user_guide/indexing.html#returning-a-view-versus-a-copy\n",
      "  \n",
      "//anaconda3/lib/python3.7/site-packages/ipykernel_launcher.py:3: SettingWithCopyWarning: \n",
      "A value is trying to be set on a copy of a slice from a DataFrame.\n",
      "Try using .loc[row_indexer,col_indexer] = value instead\n",
      "\n",
      "See the caveats in the documentation: https://pandas.pydata.org/pandas-docs/stable/user_guide/indexing.html#returning-a-view-versus-a-copy\n",
      "  This is separate from the ipykernel package so we can avoid doing imports until\n"
     ]
    }
   ],
   "source": [
    "#Calculating the z-scores\n",
    "df_renovated['z'] = (df_renovated['price'] - df_renovated['price'].mean()) / df_renovated['price'].std()\n",
    "df_nonrenovated['z'] = (df_nonrenovated['price'] - df_nonrenovated['price'].mean()) / df_nonrenovated['price'].std()"
   ]
  },
  {
   "cell_type": "code",
   "execution_count": 92,
   "metadata": {},
   "outputs": [
    {
     "data": {
      "image/png": "[encoded data removed]",
      "text/plain": [
       "<Figure size 720x432 with 1 Axes>"
      ]
     },
     "metadata": {
      "needs_background": "light"
     },
     "output_type": "display_data"
    }
   ],
   "source": [
    "plt.figure(figsize=(10,6))\n",
    "sns.distplot(df_renovated['z'],label='Renovated')\n",
    "sns.distplot(df_nonrenovated['z'],label='Not Renovated')\n",
    "plt.title(\"Z-Score Distribution between Renovated and Not Renovated\")\n",
    "plt.ylabel(\"Probability Density\")\n",
    "plt.xlabel(\"Mean\")\n",
    "plt.legend()\n",
    "plt.show()"
   ]
  },
  {
   "cell_type": "markdown",
   "metadata": {},
   "source": [
    "We would need to run some hypothesis testing to confirm this."
   ]
  },
  {
   "cell_type": "markdown",
   "metadata": {},
   "source": [
    "Properties renovated after 2000 - We will look to create a new binary column on the dataframe indicating this, with 1 representing properties which were renovated after 2000 and 0 representing properties that were not"
   ]
  },
  {
   "cell_type": "code",
   "execution_count": 74,
   "metadata": {},
   "outputs": [],
   "source": [
    "#Creating a new column, assigning binary values.\n",
    "df.loc[(df['yr_renovated']<2000),'renovate_15'] = 0\n",
    "df.loc[(df['yr_renovated']>=2000),'renovate_15'] = 1"
   ]
  },
  {
   "cell_type": "code",
   "execution_count": 75,
   "metadata": {},
   "outputs": [
    {
     "data": {
      "text/plain": [
       "array([0., 1.])"
      ]
     },
     "execution_count": 75,
     "metadata": {},
     "output_type": "execute_result"
    }
   ],
   "source": [
    "#Checking to see if it worked\n",
    "df['renovate_15'].unique()"
   ]
  },
  {
   "cell_type": "markdown",
   "metadata": {},
   "source": [
    "Basement - We will also create a binary column on the dataframe showing properties with or without Basements. 1 representing properties which have basments and 0 representing properties which do not."
   ]
  },
  {
   "cell_type": "code",
   "execution_count": 76,
   "metadata": {},
   "outputs": [],
   "source": [
    "df['sqft_basement']= df['sqft_basement'].astype(float)"
   ]
  },
  {
   "cell_type": "code",
   "execution_count": 77,
   "metadata": {},
   "outputs": [],
   "source": [
    "#Doing the same for basement.\n",
    "df.loc[(df['sqft_basement']== 0.0),'basement'] = 0\n",
    "df.loc[(df['sqft_basement'] > 0.0),'basement'] = 1"
   ]
  },
  {
   "cell_type": "code",
   "execution_count": 78,
   "metadata": {},
   "outputs": [
    {
     "data": {
      "text/plain": [
       "array([0., 1.])"
      ]
     },
     "execution_count": 78,
     "metadata": {},
     "output_type": "execute_result"
    }
   ],
   "source": [
    "#Checking to see if it worked.\n",
    "df['basement'].unique()"
   ]
  },
  {
   "cell_type": "code",
   "execution_count": 82,
   "metadata": {},
   "outputs": [
    {
     "data": {
      "image/png": "[encoded data removed]",
      "text/plain": [
       "<Figure size 576x576 with 1 Axes>"
      ]
     },
     "metadata": {
      "needs_background": "light"
     },
     "output_type": "display_data"
    }
   ],
   "source": [
    "sns.catplot(data=df, x=\"basement\", y=\"price\",height=8,kind='bar')\n",
    "plt.title(\"Catplot for Basement Properties\")\n",
    "plt.show()"
   ]
  },
  {
   "cell_type": "code",
   "execution_count": 83,
   "metadata": {},
   "outputs": [
    {
     "data": {
      "image/png": "[encoded data removed]",
      "text/plain": [
       "<Figure size 576x576 with 1 Axes>"
      ]
     },
     "metadata": {
      "needs_background": "light"
     },
     "output_type": "display_data"
    }
   ],
   "source": [
    "sns.catplot(data=df, x=\"bedrooms\", y=\"price\",height=8,kind='bar')\n",
    "plt.title(\"Catplot for bedrooms\")\n",
    "plt.show()"
   ]
  },
  {
   "cell_type": "code",
   "execution_count": 84,
   "metadata": {},
   "outputs": [
    {
     "data": {
      "image/png": "[encoded data removed]",
      "text/plain": [
       "<Figure size 576x576 with 1 Axes>"
      ]
     },
     "metadata": {
      "needs_background": "light"
     },
     "output_type": "display_data"
    }
   ],
   "source": [
    "sns.catplot(data=df, x=\"bathrooms\", y=\"price\",height=8,kind='bar')\n",
    "plt.title(\"Catplot for bathrooms\")\n",
    "plt.show()"
   ]
  },
  {
   "cell_type": "markdown",
   "metadata": {},
   "source": [
    "# Categorical Data"
   ]
  },
  {
   "cell_type": "markdown",
   "metadata": {},
   "source": [
    "This Section will focus on dealing with the categorial data we have in the dataframe."
   ]
  },
  {
   "cell_type": "markdown",
   "metadata": {},
   "source": [
    "In order to ascertain which variables are categorical, we will use matplotlib to plot scatter diagrams."
   ]
  },
  {
   "cell_type": "code",
   "execution_count": 475,
   "metadata": {},
   "outputs": [
    {
     "data": {
      "image/png": "[encoded data removed]",
      "text/plain": [
       "<Figure size 1152x216 with 4 Axes>"
      ]
     },
     "metadata": {
      "needs_background": "light"
     },
     "output_type": "display_data"
    }
   ],
   "source": [
    "#Function to plot scatter diagram for each column\n",
    "fig, axes = plt.subplots(nrows=1, ncols=4, figsize=(16,3))\n",
    "\n",
    "for xcol, ax in zip(df.iloc[:,3:7], axes):\n",
    "    df.plot(kind='scatter', x=xcol, y='price', ax=ax, alpha=0.4, color='b')"
   ]
  },
  {
   "cell_type": "code",
   "execution_count": 478,
   "metadata": {},
   "outputs": [
    {
     "data": {
      "image/png": "[encoded data removed]",
      "text/plain": [
       "<Figure size 1152x216 with 4 Axes>"
      ]
     },
     "metadata": {
      "needs_background": "light"
     },
     "output_type": "display_data"
    }
   ],
   "source": [
    "#Function to plot scatter diagram for each column\n",
    "fig, axes = plt.subplots(nrows=1, ncols=4, figsize=(16,3))\n",
    "\n",
    "for xcol, ax in zip(df.iloc[:,7:11], axes):\n",
    "    df.plot(kind='scatter', x=xcol, y='price', ax=ax, alpha=0.4, color='b')"
   ]
  },
  {
   "cell_type": "code",
   "execution_count": 479,
   "metadata": {},
   "outputs": [
    {
     "data": {
      "image/png": "[encoded data removed]",
      "text/plain": [
       "<Figure size 1152x216 with 4 Axes>"
      ]
     },
     "metadata": {
      "needs_background": "light"
     },
     "output_type": "display_data"
    }
   ],
   "source": [
    "#Function to plot scatter diagram for each column\n",
    "fig, axes = plt.subplots(nrows=1, ncols=4, figsize=(16,3))\n",
    "\n",
    "for xcol, ax in zip(df.iloc[:,11:15], axes):\n",
    "    df.plot(kind='scatter', x=xcol, y='price', ax=ax, alpha=0.4, color='b')"
   ]
  },
  {
   "cell_type": "markdown",
   "metadata": {},
   "source": [
    "Based on the diagrams above, we can conclude that the columns floors, waterfront, view, condition and grade all look like categorical data."
   ]
  },
  {
   "cell_type": "markdown",
   "metadata": {},
   "source": [
    "Out of these variables, we will leave waterfront as it is, as it is a binary value. We will also keep floors and condition as continuous data"
   ]
  },
  {
   "cell_type": "markdown",
   "metadata": {},
   "source": [
    "We will use on hot encoding to assign values under grade and condition into dummy variables"
   ]
  },
  {
   "cell_type": "markdown",
   "metadata": {},
   "source": [
    "## Grade"
   ]
  },
  {
   "cell_type": "markdown",
   "metadata": {},
   "source": [
    "Following a google search, we were able to find out that grade is defined as below.\n",
    "\n",
    "grade - An index from 1 to 13, where 1-3 falls short of building construction and design, 7 has an average level of construction and design, and 11-13 have a high quality level of construction and design.\n",
    "\n",
    "In order to fill the gaps in between, we will use the following scale.\n",
    "\n",
    "1-3 Bad\n",
    "\n",
    "4-6 Below Average\n",
    "\n",
    "7 Average\n",
    "\n",
    "8-10 Good\n",
    "\n",
    "11-13 High\n",
    "\n",
    "We will create a new column on the dataframe assinging these new categorical variables based on their value in the grade column of the dataframe."
   ]
  },
  {
   "cell_type": "code",
   "execution_count": 636,
   "metadata": {},
   "outputs": [],
   "source": [
    "#Creating new column grade_cat, assigning values.\n",
    "df['grade_cat'] = pd.cut(df['grade'], bins=[0,3,6,7,10,13], labels=['Bad','Below Average','Average','Good','High'])"
   ]
  },
  {
   "cell_type": "code",
   "execution_count": 638,
   "metadata": {},
   "outputs": [
    {
     "data": {
      "text/html": [
       "<div>\n",
       "<style scoped>\n",
       "    .dataframe tbody tr th:only-of-type {\n",
       "        vertical-align: middle;\n",
       "    }\n",
       "\n",
       "    .dataframe tbody tr th {\n",
       "        vertical-align: top;\n",
       "    }\n",
       "\n",
       "    .dataframe thead th {\n",
       "        text-align: right;\n",
       "    }\n",
       "</style>\n",
       "<table border=\"1\" class=\"dataframe\">\n",
       "  <thead>\n",
       "    <tr style=\"text-align: right;\">\n",
       "      <th></th>\n",
       "      <th>Average</th>\n",
       "      <th>Bad</th>\n",
       "      <th>Below Average</th>\n",
       "      <th>Good</th>\n",
       "      <th>High</th>\n",
       "    </tr>\n",
       "  </thead>\n",
       "  <tbody>\n",
       "    <tr>\n",
       "      <th>0</th>\n",
       "      <td>1</td>\n",
       "      <td>0</td>\n",
       "      <td>0</td>\n",
       "      <td>0</td>\n",
       "      <td>0</td>\n",
       "    </tr>\n",
       "    <tr>\n",
       "      <th>1</th>\n",
       "      <td>1</td>\n",
       "      <td>0</td>\n",
       "      <td>0</td>\n",
       "      <td>0</td>\n",
       "      <td>0</td>\n",
       "    </tr>\n",
       "    <tr>\n",
       "      <th>2</th>\n",
       "      <td>0</td>\n",
       "      <td>0</td>\n",
       "      <td>1</td>\n",
       "      <td>0</td>\n",
       "      <td>0</td>\n",
       "    </tr>\n",
       "    <tr>\n",
       "      <th>3</th>\n",
       "      <td>1</td>\n",
       "      <td>0</td>\n",
       "      <td>0</td>\n",
       "      <td>0</td>\n",
       "      <td>0</td>\n",
       "    </tr>\n",
       "    <tr>\n",
       "      <th>4</th>\n",
       "      <td>0</td>\n",
       "      <td>0</td>\n",
       "      <td>0</td>\n",
       "      <td>1</td>\n",
       "      <td>0</td>\n",
       "    </tr>\n",
       "    <tr>\n",
       "      <th>...</th>\n",
       "      <td>...</td>\n",
       "      <td>...</td>\n",
       "      <td>...</td>\n",
       "      <td>...</td>\n",
       "      <td>...</td>\n",
       "    </tr>\n",
       "    <tr>\n",
       "      <th>21591</th>\n",
       "      <td>0</td>\n",
       "      <td>0</td>\n",
       "      <td>0</td>\n",
       "      <td>1</td>\n",
       "      <td>0</td>\n",
       "    </tr>\n",
       "    <tr>\n",
       "      <th>21592</th>\n",
       "      <td>0</td>\n",
       "      <td>0</td>\n",
       "      <td>0</td>\n",
       "      <td>1</td>\n",
       "      <td>0</td>\n",
       "    </tr>\n",
       "    <tr>\n",
       "      <th>21593</th>\n",
       "      <td>1</td>\n",
       "      <td>0</td>\n",
       "      <td>0</td>\n",
       "      <td>0</td>\n",
       "      <td>0</td>\n",
       "    </tr>\n",
       "    <tr>\n",
       "      <th>21594</th>\n",
       "      <td>0</td>\n",
       "      <td>0</td>\n",
       "      <td>0</td>\n",
       "      <td>1</td>\n",
       "      <td>0</td>\n",
       "    </tr>\n",
       "    <tr>\n",
       "      <th>21595</th>\n",
       "      <td>1</td>\n",
       "      <td>0</td>\n",
       "      <td>0</td>\n",
       "      <td>0</td>\n",
       "      <td>0</td>\n",
       "    </tr>\n",
       "  </tbody>\n",
       "</table>\n",
       "<p>21596 rows × 5 columns</p>\n",
       "</div>"
      ],
      "text/plain": [
       "       Average  Bad  Below Average  Good  High\n",
       "0            1    0              0     0     0\n",
       "1            1    0              0     0     0\n",
       "2            0    0              1     0     0\n",
       "3            1    0              0     0     0\n",
       "4            0    0              0     1     0\n",
       "...        ...  ...            ...   ...   ...\n",
       "21591        0    0              0     1     0\n",
       "21592        0    0              0     1     0\n",
       "21593        1    0              0     0     0\n",
       "21594        0    0              0     1     0\n",
       "21595        1    0              0     0     0\n",
       "\n",
       "[21596 rows x 5 columns]"
      ]
     },
     "execution_count": 638,
     "metadata": {},
     "output_type": "execute_result"
    }
   ],
   "source": [
    "#using LabelBinarizer to assign dummy variables.\n",
    "lb = LabelBinarizer()\n",
    "origin_dummies = lb.fit_transform(df['grade_cat'])\n",
    "grade_dum_df = pd.DataFrame(origin_dummies,columns=lb.classes_)\n",
    "grade_dum_df"
   ]
  },
  {
   "cell_type": "code",
   "execution_count": 639,
   "metadata": {},
   "outputs": [],
   "source": [
    "#We will need to drop one of the columns to avoid the dummy variable trap\n",
    "grade_dum_df.drop(columns='Bad', inplace=True)"
   ]
  },
  {
   "cell_type": "markdown",
   "metadata": {},
   "source": [
    "## Condition"
   ]
  },
  {
   "cell_type": "markdown",
   "metadata": {},
   "source": [
    "We will also convert the condition column into dummy variables."
   ]
  },
  {
   "cell_type": "code",
   "execution_count": 753,
   "metadata": {},
   "outputs": [
    {
     "data": {
      "text/html": [
       "<div>\n",
       "<style scoped>\n",
       "    .dataframe tbody tr th:only-of-type {\n",
       "        vertical-align: middle;\n",
       "    }\n",
       "\n",
       "    .dataframe tbody tr th {\n",
       "        vertical-align: top;\n",
       "    }\n",
       "\n",
       "    .dataframe thead th {\n",
       "        text-align: right;\n",
       "    }\n",
       "</style>\n",
       "<table border=\"1\" class=\"dataframe\">\n",
       "  <thead>\n",
       "    <tr style=\"text-align: right;\">\n",
       "      <th></th>\n",
       "      <th>1</th>\n",
       "      <th>2</th>\n",
       "      <th>3</th>\n",
       "      <th>4</th>\n",
       "      <th>5</th>\n",
       "    </tr>\n",
       "  </thead>\n",
       "  <tbody>\n",
       "    <tr>\n",
       "      <th>0</th>\n",
       "      <td>0</td>\n",
       "      <td>0</td>\n",
       "      <td>1</td>\n",
       "      <td>0</td>\n",
       "      <td>0</td>\n",
       "    </tr>\n",
       "    <tr>\n",
       "      <th>1</th>\n",
       "      <td>0</td>\n",
       "      <td>0</td>\n",
       "      <td>1</td>\n",
       "      <td>0</td>\n",
       "      <td>0</td>\n",
       "    </tr>\n",
       "    <tr>\n",
       "      <th>2</th>\n",
       "      <td>0</td>\n",
       "      <td>0</td>\n",
       "      <td>1</td>\n",
       "      <td>0</td>\n",
       "      <td>0</td>\n",
       "    </tr>\n",
       "    <tr>\n",
       "      <th>3</th>\n",
       "      <td>0</td>\n",
       "      <td>0</td>\n",
       "      <td>0</td>\n",
       "      <td>0</td>\n",
       "      <td>1</td>\n",
       "    </tr>\n",
       "    <tr>\n",
       "      <th>4</th>\n",
       "      <td>0</td>\n",
       "      <td>0</td>\n",
       "      <td>1</td>\n",
       "      <td>0</td>\n",
       "      <td>0</td>\n",
       "    </tr>\n",
       "  </tbody>\n",
       "</table>\n",
       "</div>"
      ],
      "text/plain": [
       "   1  2  3  4  5\n",
       "0  0  0  1  0  0\n",
       "1  0  0  1  0  0\n",
       "2  0  0  1  0  0\n",
       "3  0  0  0  0  1\n",
       "4  0  0  1  0  0"
      ]
     },
     "execution_count": 753,
     "metadata": {},
     "output_type": "execute_result"
    }
   ],
   "source": [
    "#using LabelBinarizer to assign dummy variables.\n",
    "lb = LabelBinarizer()\n",
    "origin_dummies = lb.fit_transform(df['condition'])\n",
    "con_dum_df = pd.DataFrame(origin_dummies,columns=lb.classes_)\n",
    "con_dum_df.head()"
   ]
  },
  {
   "cell_type": "code",
   "execution_count": 125,
   "metadata": {},
   "outputs": [],
   "source": [
    "#renaming the column names so that it is easily identifiable\n",
    "con_dum_df = con_dum_df.rename({1:'con_1',2:'con_2',3:'con_3',4:'con_4',5:'con_5'},axis=1)"
   ]
  },
  {
   "cell_type": "code",
   "execution_count": 126,
   "metadata": {},
   "outputs": [
    {
     "data": {
      "text/html": [
       "<div>\n",
       "<style scoped>\n",
       "    .dataframe tbody tr th:only-of-type {\n",
       "        vertical-align: middle;\n",
       "    }\n",
       "\n",
       "    .dataframe tbody tr th {\n",
       "        vertical-align: top;\n",
       "    }\n",
       "\n",
       "    .dataframe thead th {\n",
       "        text-align: right;\n",
       "    }\n",
       "</style>\n",
       "<table border=\"1\" class=\"dataframe\">\n",
       "  <thead>\n",
       "    <tr style=\"text-align: right;\">\n",
       "      <th></th>\n",
       "      <th>con_1</th>\n",
       "      <th>con_2</th>\n",
       "      <th>con_3</th>\n",
       "      <th>con_4</th>\n",
       "      <th>con_5</th>\n",
       "    </tr>\n",
       "  </thead>\n",
       "  <tbody>\n",
       "    <tr>\n",
       "      <th>0</th>\n",
       "      <td>0</td>\n",
       "      <td>0</td>\n",
       "      <td>1</td>\n",
       "      <td>0</td>\n",
       "      <td>0</td>\n",
       "    </tr>\n",
       "    <tr>\n",
       "      <th>1</th>\n",
       "      <td>0</td>\n",
       "      <td>0</td>\n",
       "      <td>1</td>\n",
       "      <td>0</td>\n",
       "      <td>0</td>\n",
       "    </tr>\n",
       "    <tr>\n",
       "      <th>2</th>\n",
       "      <td>0</td>\n",
       "      <td>0</td>\n",
       "      <td>1</td>\n",
       "      <td>0</td>\n",
       "      <td>0</td>\n",
       "    </tr>\n",
       "    <tr>\n",
       "      <th>3</th>\n",
       "      <td>0</td>\n",
       "      <td>0</td>\n",
       "      <td>0</td>\n",
       "      <td>0</td>\n",
       "      <td>1</td>\n",
       "    </tr>\n",
       "    <tr>\n",
       "      <th>4</th>\n",
       "      <td>0</td>\n",
       "      <td>0</td>\n",
       "      <td>1</td>\n",
       "      <td>0</td>\n",
       "      <td>0</td>\n",
       "    </tr>\n",
       "  </tbody>\n",
       "</table>\n",
       "</div>"
      ],
      "text/plain": [
       "   con_1  con_2  con_3  con_4  con_5\n",
       "0      0      0      1      0      0\n",
       "1      0      0      1      0      0\n",
       "2      0      0      1      0      0\n",
       "3      0      0      0      0      1\n",
       "4      0      0      1      0      0"
      ]
     },
     "execution_count": 126,
     "metadata": {},
     "output_type": "execute_result"
    }
   ],
   "source": [
    "#checking if it worked\n",
    "con_dum_df.head()"
   ]
  },
  {
   "cell_type": "code",
   "execution_count": 127,
   "metadata": {},
   "outputs": [],
   "source": [
    "#We will need to drop one of the columns to avoid the dummy variable trap\n",
    "con_dum_df.drop(columns='con_5', inplace=True)"
   ]
  },
  {
   "cell_type": "markdown",
   "metadata": {},
   "source": [
    "We will now need to merge grade_dum_df and con_dum_df with our main df. We will save the new DataFrame as df_merged"
   ]
  },
  {
   "cell_type": "code",
   "execution_count": 643,
   "metadata": {},
   "outputs": [],
   "source": [
    "#Merged dataframe\n",
    "df_merged = pd.concat([df,grade_dum_df,con_dum_df],axis=1)"
   ]
  },
  {
   "cell_type": "code",
   "execution_count": 644,
   "metadata": {},
   "outputs": [
    {
     "data": {
      "text/plain": [
       "Index([           'id',          'date',         'price',      'bedrooms',\n",
       "           'bathrooms',   'sqft_living',      'sqft_lot',        'floors',\n",
       "          'waterfront',     'condition',         'grade',    'sqft_above',\n",
       "       'sqft_basement',      'yr_built',  'yr_renovated',       'zipcode',\n",
       "                 'lat',          'long', 'sqft_living15',    'sqft_lot15',\n",
       "         'renovate_15',      'basement',     'grade_cat',       'Average',\n",
       "       'Below Average',          'Good',          'High',               1,\n",
       "                     2,               3,               4,               5],\n",
       "      dtype='object')"
      ]
     },
     "execution_count": 644,
     "metadata": {},
     "output_type": "execute_result"
    }
   ],
   "source": [
    "#checking to see if it worked\n",
    "df_merged.columns"
   ]
  },
  {
   "cell_type": "code",
   "execution_count": 645,
   "metadata": {},
   "outputs": [
    {
     "data": {
      "text/plain": [
       "id               1\n",
       "date             1\n",
       "price            1\n",
       "bedrooms         1\n",
       "bathrooms        1\n",
       "sqft_living      1\n",
       "sqft_lot         1\n",
       "floors           1\n",
       "waterfront       1\n",
       "condition        1\n",
       "grade            1\n",
       "sqft_above       1\n",
       "sqft_basement    1\n",
       "yr_built         1\n",
       "yr_renovated     1\n",
       "zipcode          1\n",
       "lat              1\n",
       "long             1\n",
       "sqft_living15    1\n",
       "sqft_lot15       1\n",
       "renovate_15      1\n",
       "basement         1\n",
       "grade_cat        1\n",
       "Average          1\n",
       "Below Average    1\n",
       "Good             1\n",
       "High             1\n",
       "1                1\n",
       "2                1\n",
       "3                1\n",
       "4                1\n",
       "5                1\n",
       "dtype: int64"
      ]
     },
     "execution_count": 645,
     "metadata": {},
     "output_type": "execute_result"
    }
   ],
   "source": [
    "#checking for any nan values.\n",
    "df_merged.isna().sum()"
   ]
  },
  {
   "cell_type": "code",
   "execution_count": 144,
   "metadata": {},
   "outputs": [],
   "source": [
    "#dropping nan values.\n",
    "df_merged = df_merged.dropna()"
   ]
  },
  {
   "cell_type": "markdown",
   "metadata": {},
   "source": [
    "## Correlation plot"
   ]
  },
  {
   "cell_type": "code",
   "execution_count": 194,
   "metadata": {},
   "outputs": [
    {
     "data": {
      "text/html": [
       "<div>\n",
       "<style scoped>\n",
       "    .dataframe tbody tr th:only-of-type {\n",
       "        vertical-align: middle;\n",
       "    }\n",
       "\n",
       "    .dataframe tbody tr th {\n",
       "        vertical-align: top;\n",
       "    }\n",
       "\n",
       "    .dataframe thead th {\n",
       "        text-align: right;\n",
       "    }\n",
       "</style>\n",
       "<table border=\"1\" class=\"dataframe\">\n",
       "  <thead>\n",
       "    <tr style=\"text-align: right;\">\n",
       "      <th></th>\n",
       "      <th>id</th>\n",
       "      <th>price</th>\n",
       "      <th>bedrooms</th>\n",
       "      <th>bathrooms</th>\n",
       "      <th>sqft_living</th>\n",
       "      <th>sqft_lot</th>\n",
       "      <th>floors</th>\n",
       "      <th>waterfront</th>\n",
       "      <th>condition</th>\n",
       "      <th>grade</th>\n",
       "      <th>...</th>\n",
       "      <th>renovate_15</th>\n",
       "      <th>basement</th>\n",
       "      <th>Average</th>\n",
       "      <th>Below Average</th>\n",
       "      <th>Good</th>\n",
       "      <th>High</th>\n",
       "      <th>con_1</th>\n",
       "      <th>con_2</th>\n",
       "      <th>con_3</th>\n",
       "      <th>con_4</th>\n",
       "    </tr>\n",
       "  </thead>\n",
       "  <tbody>\n",
       "    <tr>\n",
       "      <th>id</th>\n",
       "      <td>1.000000</td>\n",
       "      <td>-0.016792</td>\n",
       "      <td>0.002253</td>\n",
       "      <td>0.005058</td>\n",
       "      <td>-0.012316</td>\n",
       "      <td>-0.131941</td>\n",
       "      <td>0.018623</td>\n",
       "      <td>-0.003606</td>\n",
       "      <td>-0.023753</td>\n",
       "      <td>0.008142</td>\n",
       "      <td>...</td>\n",
       "      <td>-0.008125</td>\n",
       "      <td>0.003501</td>\n",
       "      <td>-0.009039</td>\n",
       "      <td>-0.020893</td>\n",
       "      <td>0.024597</td>\n",
       "      <td>-0.008669</td>\n",
       "      <td>-0.001237</td>\n",
       "      <td>-0.010068</td>\n",
       "      <td>0.027301</td>\n",
       "      <td>-0.026379</td>\n",
       "    </tr>\n",
       "    <tr>\n",
       "      <th>price</th>\n",
       "      <td>-0.016792</td>\n",
       "      <td>1.000000</td>\n",
       "      <td>0.315939</td>\n",
       "      <td>0.525910</td>\n",
       "      <td>0.701925</td>\n",
       "      <td>0.089871</td>\n",
       "      <td>0.256853</td>\n",
       "      <td>0.264308</td>\n",
       "      <td>0.036014</td>\n",
       "      <td>0.667959</td>\n",
       "      <td>...</td>\n",
       "      <td>0.106003</td>\n",
       "      <td>0.178237</td>\n",
       "      <td>-0.235627</td>\n",
       "      <td>-0.186600</td>\n",
       "      <td>0.246081</td>\n",
       "      <td>0.340538</td>\n",
       "      <td>-0.014652</td>\n",
       "      <td>-0.042464</td>\n",
       "      <td>0.002396</td>\n",
       "      <td>-0.022738</td>\n",
       "    </tr>\n",
       "    <tr>\n",
       "      <th>bedrooms</th>\n",
       "      <td>0.002253</td>\n",
       "      <td>0.315939</td>\n",
       "      <td>1.000000</td>\n",
       "      <td>0.527812</td>\n",
       "      <td>0.593147</td>\n",
       "      <td>0.033580</td>\n",
       "      <td>0.183787</td>\n",
       "      <td>-0.002060</td>\n",
       "      <td>0.023398</td>\n",
       "      <td>0.366157</td>\n",
       "      <td>...</td>\n",
       "      <td>0.033957</td>\n",
       "      <td>0.160347</td>\n",
       "      <td>-0.079056</td>\n",
       "      <td>-0.217214</td>\n",
       "      <td>0.184265</td>\n",
       "      <td>0.095843</td>\n",
       "      <td>-0.029071</td>\n",
       "      <td>-0.033165</td>\n",
       "      <td>0.007991</td>\n",
       "      <td>-0.010615</td>\n",
       "    </tr>\n",
       "    <tr>\n",
       "      <th>bathrooms</th>\n",
       "      <td>0.005058</td>\n",
       "      <td>0.525910</td>\n",
       "      <td>0.527812</td>\n",
       "      <td>1.000000</td>\n",
       "      <td>0.755738</td>\n",
       "      <td>0.088347</td>\n",
       "      <td>0.502698</td>\n",
       "      <td>0.063626</td>\n",
       "      <td>-0.126505</td>\n",
       "      <td>0.665841</td>\n",
       "      <td>...</td>\n",
       "      <td>0.063781</td>\n",
       "      <td>0.159846</td>\n",
       "      <td>-0.244120</td>\n",
       "      <td>-0.324437</td>\n",
       "      <td>0.375870</td>\n",
       "      <td>0.222197</td>\n",
       "      <td>-0.032661</td>\n",
       "      <td>-0.060275</td>\n",
       "      <td>0.163525</td>\n",
       "      <td>-0.142243</td>\n",
       "    </tr>\n",
       "    <tr>\n",
       "      <th>sqft_living</th>\n",
       "      <td>-0.012316</td>\n",
       "      <td>0.701925</td>\n",
       "      <td>0.593147</td>\n",
       "      <td>0.755738</td>\n",
       "      <td>1.000000</td>\n",
       "      <td>0.173437</td>\n",
       "      <td>0.354009</td>\n",
       "      <td>0.104634</td>\n",
       "      <td>-0.059433</td>\n",
       "      <td>0.762775</td>\n",
       "      <td>...</td>\n",
       "      <td>0.051027</td>\n",
       "      <td>0.201203</td>\n",
       "      <td>-0.268351</td>\n",
       "      <td>-0.277524</td>\n",
       "      <td>0.343286</td>\n",
       "      <td>0.313010</td>\n",
       "      <td>-0.025620</td>\n",
       "      <td>-0.050285</td>\n",
       "      <td>0.085781</td>\n",
       "      <td>-0.071000</td>\n",
       "    </tr>\n",
       "    <tr>\n",
       "      <th>sqft_lot</th>\n",
       "      <td>-0.131941</td>\n",
       "      <td>0.089871</td>\n",
       "      <td>0.033580</td>\n",
       "      <td>0.088347</td>\n",
       "      <td>0.173437</td>\n",
       "      <td>1.000000</td>\n",
       "      <td>-0.004809</td>\n",
       "      <td>0.021457</td>\n",
       "      <td>-0.008816</td>\n",
       "      <td>0.114718</td>\n",
       "      <td>...</td>\n",
       "      <td>-0.013418</td>\n",
       "      <td>-0.034890</td>\n",
       "      <td>-0.052416</td>\n",
       "      <td>-0.011776</td>\n",
       "      <td>0.037675</td>\n",
       "      <td>0.071154</td>\n",
       "      <td>0.006347</td>\n",
       "      <td>0.008654</td>\n",
       "      <td>-0.005960</td>\n",
       "      <td>0.014287</td>\n",
       "    </tr>\n",
       "    <tr>\n",
       "      <th>floors</th>\n",
       "      <td>0.018623</td>\n",
       "      <td>0.256853</td>\n",
       "      <td>0.183787</td>\n",
       "      <td>0.502698</td>\n",
       "      <td>0.354009</td>\n",
       "      <td>-0.004809</td>\n",
       "      <td>1.000000</td>\n",
       "      <td>0.020798</td>\n",
       "      <td>-0.263994</td>\n",
       "      <td>0.458820</td>\n",
       "      <td>...</td>\n",
       "      <td>0.004076</td>\n",
       "      <td>-0.252400</td>\n",
       "      <td>-0.248732</td>\n",
       "      <td>-0.206218</td>\n",
       "      <td>0.341112</td>\n",
       "      <td>0.109415</td>\n",
       "      <td>-0.019515</td>\n",
       "      <td>-0.050970</td>\n",
       "      <td>0.272176</td>\n",
       "      <td>-0.219676</td>\n",
       "    </tr>\n",
       "    <tr>\n",
       "      <th>waterfront</th>\n",
       "      <td>-0.003606</td>\n",
       "      <td>0.264308</td>\n",
       "      <td>-0.002060</td>\n",
       "      <td>0.063626</td>\n",
       "      <td>0.104634</td>\n",
       "      <td>0.021457</td>\n",
       "      <td>0.020798</td>\n",
       "      <td>1.000000</td>\n",
       "      <td>0.016657</td>\n",
       "      <td>0.082815</td>\n",
       "      <td>...</td>\n",
       "      <td>0.014794</td>\n",
       "      <td>0.039224</td>\n",
       "      <td>-0.037449</td>\n",
       "      <td>-0.002922</td>\n",
       "      <td>0.013221</td>\n",
       "      <td>0.084885</td>\n",
       "      <td>0.012405</td>\n",
       "      <td>-0.000955</td>\n",
       "      <td>-0.015133</td>\n",
       "      <td>0.007213</td>\n",
       "    </tr>\n",
       "    <tr>\n",
       "      <th>condition</th>\n",
       "      <td>-0.023753</td>\n",
       "      <td>0.036014</td>\n",
       "      <td>0.023398</td>\n",
       "      <td>-0.126505</td>\n",
       "      <td>-0.059433</td>\n",
       "      <td>-0.008816</td>\n",
       "      <td>-0.263994</td>\n",
       "      <td>0.016657</td>\n",
       "      <td>1.000000</td>\n",
       "      <td>-0.146872</td>\n",
       "      <td>...</td>\n",
       "      <td>-0.072813</td>\n",
       "      <td>0.130402</td>\n",
       "      <td>0.089788</td>\n",
       "      <td>0.060304</td>\n",
       "      <td>-0.113307</td>\n",
       "      <td>-0.043647</td>\n",
       "      <td>-0.098916</td>\n",
       "      <td>-0.151170</td>\n",
       "      <td>-0.701659</td>\n",
       "      <td>0.444857</td>\n",
       "    </tr>\n",
       "    <tr>\n",
       "      <th>grade</th>\n",
       "      <td>0.008142</td>\n",
       "      <td>0.667959</td>\n",
       "      <td>0.366157</td>\n",
       "      <td>0.665841</td>\n",
       "      <td>0.762775</td>\n",
       "      <td>0.114718</td>\n",
       "      <td>0.458820</td>\n",
       "      <td>0.082815</td>\n",
       "      <td>-0.146872</td>\n",
       "      <td>1.000000</td>\n",
       "      <td>...</td>\n",
       "      <td>0.035658</td>\n",
       "      <td>0.050717</td>\n",
       "      <td>-0.349878</td>\n",
       "      <td>-0.426645</td>\n",
       "      <td>0.507775</td>\n",
       "      <td>0.342521</td>\n",
       "      <td>-0.042122</td>\n",
       "      <td>-0.070055</td>\n",
       "      <td>0.162093</td>\n",
       "      <td>-0.112917</td>\n",
       "    </tr>\n",
       "    <tr>\n",
       "      <th>sqft_above</th>\n",
       "      <td>-0.010878</td>\n",
       "      <td>0.605384</td>\n",
       "      <td>0.492513</td>\n",
       "      <td>0.686652</td>\n",
       "      <td>0.876443</td>\n",
       "      <td>0.184124</td>\n",
       "      <td>0.524032</td>\n",
       "      <td>0.071774</td>\n",
       "      <td>-0.158858</td>\n",
       "      <td>0.756065</td>\n",
       "      <td>...</td>\n",
       "      <td>0.015910</td>\n",
       "      <td>-0.207268</td>\n",
       "      <td>-0.291273</td>\n",
       "      <td>-0.250848</td>\n",
       "      <td>0.350742</td>\n",
       "      <td>0.308593</td>\n",
       "      <td>-0.023115</td>\n",
       "      <td>-0.046232</td>\n",
       "      <td>0.162834</td>\n",
       "      <td>-0.119656</td>\n",
       "    </tr>\n",
       "    <tr>\n",
       "      <th>sqft_basement</th>\n",
       "      <td>-0.004368</td>\n",
       "      <td>0.321091</td>\n",
       "      <td>0.303491</td>\n",
       "      <td>0.278473</td>\n",
       "      <td>0.428666</td>\n",
       "      <td>0.015028</td>\n",
       "      <td>-0.241824</td>\n",
       "      <td>0.083052</td>\n",
       "      <td>0.168416</td>\n",
       "      <td>0.165849</td>\n",
       "      <td>...</td>\n",
       "      <td>0.075471</td>\n",
       "      <td>0.820888</td>\n",
       "      <td>-0.009953</td>\n",
       "      <td>-0.104564</td>\n",
       "      <td>0.053360</td>\n",
       "      <td>0.070847</td>\n",
       "      <td>-0.009475</td>\n",
       "      <td>-0.018146</td>\n",
       "      <td>-0.122041</td>\n",
       "      <td>0.074141</td>\n",
       "    </tr>\n",
       "    <tr>\n",
       "      <th>yr_built</th>\n",
       "      <td>0.021653</td>\n",
       "      <td>0.054001</td>\n",
       "      <td>0.160839</td>\n",
       "      <td>0.507325</td>\n",
       "      <td>0.318229</td>\n",
       "      <td>0.052961</td>\n",
       "      <td>0.489148</td>\n",
       "      <td>-0.024487</td>\n",
       "      <td>-0.361535</td>\n",
       "      <td>0.447907</td>\n",
       "      <td>...</td>\n",
       "      <td>-0.126546</td>\n",
       "      <td>-0.163915</td>\n",
       "      <td>-0.177201</td>\n",
       "      <td>-0.287160</td>\n",
       "      <td>0.326562</td>\n",
       "      <td>0.089719</td>\n",
       "      <td>-0.042099</td>\n",
       "      <td>-0.056133</td>\n",
       "      <td>0.335903</td>\n",
       "      <td>-0.221009</td>\n",
       "    </tr>\n",
       "    <tr>\n",
       "      <th>yr_renovated</th>\n",
       "      <td>-0.010628</td>\n",
       "      <td>0.117854</td>\n",
       "      <td>0.018614</td>\n",
       "      <td>0.047161</td>\n",
       "      <td>0.051047</td>\n",
       "      <td>0.004974</td>\n",
       "      <td>0.003794</td>\n",
       "      <td>0.073938</td>\n",
       "      <td>-0.055801</td>\n",
       "      <td>0.015613</td>\n",
       "      <td>...</td>\n",
       "      <td>0.711935</td>\n",
       "      <td>0.044845</td>\n",
       "      <td>-0.018266</td>\n",
       "      <td>0.001834</td>\n",
       "      <td>0.017620</td>\n",
       "      <td>-0.002189</td>\n",
       "      <td>-0.000008</td>\n",
       "      <td>-0.005410</td>\n",
       "      <td>0.046200</td>\n",
       "      <td>-0.037557</td>\n",
       "    </tr>\n",
       "    <tr>\n",
       "      <th>zipcode</th>\n",
       "      <td>-0.008134</td>\n",
       "      <td>-0.053377</td>\n",
       "      <td>-0.158515</td>\n",
       "      <td>-0.204699</td>\n",
       "      <td>-0.199740</td>\n",
       "      <td>-0.129567</td>\n",
       "      <td>-0.059579</td>\n",
       "      <td>0.028931</td>\n",
       "      <td>0.002872</td>\n",
       "      <td>-0.185737</td>\n",
       "      <td>...</td>\n",
       "      <td>0.048298</td>\n",
       "      <td>0.159631</td>\n",
       "      <td>0.061394</td>\n",
       "      <td>0.121450</td>\n",
       "      <td>-0.121911</td>\n",
       "      <td>-0.046636</td>\n",
       "      <td>0.008023</td>\n",
       "      <td>0.016077</td>\n",
       "      <td>0.013484</td>\n",
       "      <td>-0.049330</td>\n",
       "    </tr>\n",
       "    <tr>\n",
       "      <th>lat</th>\n",
       "      <td>-0.001754</td>\n",
       "      <td>0.306697</td>\n",
       "      <td>-0.011578</td>\n",
       "      <td>0.024323</td>\n",
       "      <td>0.052193</td>\n",
       "      <td>-0.085503</td>\n",
       "      <td>0.049270</td>\n",
       "      <td>-0.012153</td>\n",
       "      <td>-0.015202</td>\n",
       "      <td>0.113609</td>\n",
       "      <td>...</td>\n",
       "      <td>0.028014</td>\n",
       "      <td>0.136567</td>\n",
       "      <td>-0.023951</td>\n",
       "      <td>-0.060065</td>\n",
       "      <td>0.051670</td>\n",
       "      <td>0.031533</td>\n",
       "      <td>0.004922</td>\n",
       "      <td>-0.014891</td>\n",
       "      <td>0.037005</td>\n",
       "      <td>-0.051738</td>\n",
       "    </tr>\n",
       "    <tr>\n",
       "      <th>long</th>\n",
       "      <td>0.020614</td>\n",
       "      <td>0.022031</td>\n",
       "      <td>0.136527</td>\n",
       "      <td>0.224858</td>\n",
       "      <td>0.241177</td>\n",
       "      <td>0.230215</td>\n",
       "      <td>0.125942</td>\n",
       "      <td>-0.037634</td>\n",
       "      <td>-0.105819</td>\n",
       "      <td>0.200312</td>\n",
       "      <td>...</td>\n",
       "      <td>-0.054133</td>\n",
       "      <td>-0.233357</td>\n",
       "      <td>-0.089508</td>\n",
       "      <td>-0.087617</td>\n",
       "      <td>0.127600</td>\n",
       "      <td>0.050271</td>\n",
       "      <td>-0.002721</td>\n",
       "      <td>-0.010726</td>\n",
       "      <td>0.089896</td>\n",
       "      <td>-0.047528</td>\n",
       "    </tr>\n",
       "    <tr>\n",
       "      <th>sqft_living15</th>\n",
       "      <td>-0.002804</td>\n",
       "      <td>0.585260</td>\n",
       "      <td>0.404473</td>\n",
       "      <td>0.569830</td>\n",
       "      <td>0.756383</td>\n",
       "      <td>0.144741</td>\n",
       "      <td>0.280152</td>\n",
       "      <td>0.083820</td>\n",
       "      <td>-0.093025</td>\n",
       "      <td>0.713864</td>\n",
       "      <td>...</td>\n",
       "      <td>-0.000953</td>\n",
       "      <td>0.044587</td>\n",
       "      <td>-0.288291</td>\n",
       "      <td>-0.244440</td>\n",
       "      <td>0.354162</td>\n",
       "      <td>0.274190</td>\n",
       "      <td>-0.005046</td>\n",
       "      <td>-0.046037</td>\n",
       "      <td>0.093137</td>\n",
       "      <td>-0.058273</td>\n",
       "    </tr>\n",
       "    <tr>\n",
       "      <th>sqft_lot15</th>\n",
       "      <td>-0.138595</td>\n",
       "      <td>0.082839</td>\n",
       "      <td>0.031865</td>\n",
       "      <td>0.088269</td>\n",
       "      <td>0.184321</td>\n",
       "      <td>0.718202</td>\n",
       "      <td>-0.010717</td>\n",
       "      <td>0.030656</td>\n",
       "      <td>-0.003105</td>\n",
       "      <td>0.120965</td>\n",
       "      <td>...</td>\n",
       "      <td>-0.015128</td>\n",
       "      <td>-0.041748</td>\n",
       "      <td>-0.050921</td>\n",
       "      <td>-0.015081</td>\n",
       "      <td>0.039453</td>\n",
       "      <td>0.067150</td>\n",
       "      <td>-0.003411</td>\n",
       "      <td>0.010841</td>\n",
       "      <td>-0.007608</td>\n",
       "      <td>0.018093</td>\n",
       "    </tr>\n",
       "    <tr>\n",
       "      <th>renovate_15</th>\n",
       "      <td>-0.008125</td>\n",
       "      <td>0.106003</td>\n",
       "      <td>0.033957</td>\n",
       "      <td>0.063781</td>\n",
       "      <td>0.051027</td>\n",
       "      <td>-0.013418</td>\n",
       "      <td>0.004076</td>\n",
       "      <td>0.014794</td>\n",
       "      <td>-0.072813</td>\n",
       "      <td>0.035658</td>\n",
       "      <td>...</td>\n",
       "      <td>1.000000</td>\n",
       "      <td>0.051491</td>\n",
       "      <td>-0.028955</td>\n",
       "      <td>-0.011974</td>\n",
       "      <td>0.038076</td>\n",
       "      <td>-0.006542</td>\n",
       "      <td>-0.004901</td>\n",
       "      <td>-0.007915</td>\n",
       "      <td>0.066478</td>\n",
       "      <td>-0.053381</td>\n",
       "    </tr>\n",
       "    <tr>\n",
       "      <th>basement</th>\n",
       "      <td>0.003501</td>\n",
       "      <td>0.178237</td>\n",
       "      <td>0.160347</td>\n",
       "      <td>0.159846</td>\n",
       "      <td>0.201203</td>\n",
       "      <td>-0.034890</td>\n",
       "      <td>-0.252400</td>\n",
       "      <td>0.039224</td>\n",
       "      <td>0.130402</td>\n",
       "      <td>0.050717</td>\n",
       "      <td>...</td>\n",
       "      <td>0.051491</td>\n",
       "      <td>1.000000</td>\n",
       "      <td>0.047113</td>\n",
       "      <td>-0.093160</td>\n",
       "      <td>0.009696</td>\n",
       "      <td>0.005102</td>\n",
       "      <td>-0.010830</td>\n",
       "      <td>-0.006962</td>\n",
       "      <td>-0.097422</td>\n",
       "      <td>0.060713</td>\n",
       "    </tr>\n",
       "    <tr>\n",
       "      <th>Average</th>\n",
       "      <td>-0.009039</td>\n",
       "      <td>-0.235627</td>\n",
       "      <td>-0.079056</td>\n",
       "      <td>-0.244120</td>\n",
       "      <td>-0.268351</td>\n",
       "      <td>-0.052416</td>\n",
       "      <td>-0.248732</td>\n",
       "      <td>-0.037449</td>\n",
       "      <td>0.089788</td>\n",
       "      <td>-0.349878</td>\n",
       "      <td>...</td>\n",
       "      <td>-0.028955</td>\n",
       "      <td>0.047113</td>\n",
       "      <td>1.000000</td>\n",
       "      <td>-0.291570</td>\n",
       "      <td>-0.769476</td>\n",
       "      <td>-0.129928</td>\n",
       "      <td>-0.015520</td>\n",
       "      <td>0.004647</td>\n",
       "      <td>-0.117437</td>\n",
       "      <td>0.100839</td>\n",
       "    </tr>\n",
       "    <tr>\n",
       "      <th>Below Average</th>\n",
       "      <td>-0.020893</td>\n",
       "      <td>-0.186600</td>\n",
       "      <td>-0.217214</td>\n",
       "      <td>-0.324437</td>\n",
       "      <td>-0.277524</td>\n",
       "      <td>-0.011776</td>\n",
       "      <td>-0.206218</td>\n",
       "      <td>-0.002922</td>\n",
       "      <td>0.060304</td>\n",
       "      <td>-0.426645</td>\n",
       "      <td>...</td>\n",
       "      <td>-0.011974</td>\n",
       "      <td>-0.093160</td>\n",
       "      <td>-0.291570</td>\n",
       "      <td>1.000000</td>\n",
       "      <td>-0.315655</td>\n",
       "      <td>-0.053299</td>\n",
       "      <td>0.073283</td>\n",
       "      <td>0.101504</td>\n",
       "      <td>-0.110150</td>\n",
       "      <td>0.058753</td>\n",
       "    </tr>\n",
       "    <tr>\n",
       "      <th>Good</th>\n",
       "      <td>0.024597</td>\n",
       "      <td>0.246081</td>\n",
       "      <td>0.184265</td>\n",
       "      <td>0.375870</td>\n",
       "      <td>0.343286</td>\n",
       "      <td>0.037675</td>\n",
       "      <td>0.341112</td>\n",
       "      <td>0.013221</td>\n",
       "      <td>-0.113307</td>\n",
       "      <td>0.507775</td>\n",
       "      <td>...</td>\n",
       "      <td>0.038076</td>\n",
       "      <td>0.009696</td>\n",
       "      <td>-0.769476</td>\n",
       "      <td>-0.315655</td>\n",
       "      <td>1.000000</td>\n",
       "      <td>-0.140660</td>\n",
       "      <td>-0.028390</td>\n",
       "      <td>-0.063411</td>\n",
       "      <td>0.167003</td>\n",
       "      <td>-0.123371</td>\n",
       "    </tr>\n",
       "    <tr>\n",
       "      <th>High</th>\n",
       "      <td>-0.008669</td>\n",
       "      <td>0.340538</td>\n",
       "      <td>0.095843</td>\n",
       "      <td>0.222197</td>\n",
       "      <td>0.313010</td>\n",
       "      <td>0.071154</td>\n",
       "      <td>0.109415</td>\n",
       "      <td>0.084885</td>\n",
       "      <td>-0.043647</td>\n",
       "      <td>0.342521</td>\n",
       "      <td>...</td>\n",
       "      <td>-0.006542</td>\n",
       "      <td>0.005102</td>\n",
       "      <td>-0.129928</td>\n",
       "      <td>-0.053299</td>\n",
       "      <td>-0.140660</td>\n",
       "      <td>1.000000</td>\n",
       "      <td>-0.005651</td>\n",
       "      <td>-0.013728</td>\n",
       "      <td>0.058503</td>\n",
       "      <td>-0.042421</td>\n",
       "    </tr>\n",
       "    <tr>\n",
       "      <th>con_1</th>\n",
       "      <td>-0.001237</td>\n",
       "      <td>-0.014652</td>\n",
       "      <td>-0.029071</td>\n",
       "      <td>-0.032661</td>\n",
       "      <td>-0.025620</td>\n",
       "      <td>0.006347</td>\n",
       "      <td>-0.019515</td>\n",
       "      <td>0.012405</td>\n",
       "      <td>-0.098916</td>\n",
       "      <td>-0.042122</td>\n",
       "      <td>...</td>\n",
       "      <td>-0.004901</td>\n",
       "      <td>-0.010830</td>\n",
       "      <td>-0.015520</td>\n",
       "      <td>0.073283</td>\n",
       "      <td>-0.028390</td>\n",
       "      <td>-0.005651</td>\n",
       "      <td>1.000000</td>\n",
       "      <td>-0.003266</td>\n",
       "      <td>-0.049883</td>\n",
       "      <td>-0.021899</td>\n",
       "    </tr>\n",
       "    <tr>\n",
       "      <th>con_2</th>\n",
       "      <td>-0.010068</td>\n",
       "      <td>-0.042464</td>\n",
       "      <td>-0.033165</td>\n",
       "      <td>-0.060275</td>\n",
       "      <td>-0.050285</td>\n",
       "      <td>0.008654</td>\n",
       "      <td>-0.050970</td>\n",
       "      <td>-0.000955</td>\n",
       "      <td>-0.151170</td>\n",
       "      <td>-0.070055</td>\n",
       "      <td>...</td>\n",
       "      <td>-0.007915</td>\n",
       "      <td>-0.006962</td>\n",
       "      <td>0.004647</td>\n",
       "      <td>0.101504</td>\n",
       "      <td>-0.063411</td>\n",
       "      <td>-0.013728</td>\n",
       "      <td>-0.003266</td>\n",
       "      <td>1.000000</td>\n",
       "      <td>-0.121172</td>\n",
       "      <td>-0.053196</td>\n",
       "    </tr>\n",
       "    <tr>\n",
       "      <th>con_3</th>\n",
       "      <td>0.027301</td>\n",
       "      <td>0.002396</td>\n",
       "      <td>0.007991</td>\n",
       "      <td>0.163525</td>\n",
       "      <td>0.085781</td>\n",
       "      <td>-0.005960</td>\n",
       "      <td>0.272176</td>\n",
       "      <td>-0.015133</td>\n",
       "      <td>-0.701659</td>\n",
       "      <td>0.162093</td>\n",
       "      <td>...</td>\n",
       "      <td>0.066478</td>\n",
       "      <td>-0.097422</td>\n",
       "      <td>-0.117437</td>\n",
       "      <td>-0.110150</td>\n",
       "      <td>0.167003</td>\n",
       "      <td>0.058503</td>\n",
       "      <td>-0.049883</td>\n",
       "      <td>-0.121172</td>\n",
       "      <td>1.000000</td>\n",
       "      <td>-0.812370</td>\n",
       "    </tr>\n",
       "    <tr>\n",
       "      <th>con_4</th>\n",
       "      <td>-0.026379</td>\n",
       "      <td>-0.022738</td>\n",
       "      <td>-0.010615</td>\n",
       "      <td>-0.142243</td>\n",
       "      <td>-0.071000</td>\n",
       "      <td>0.014287</td>\n",
       "      <td>-0.219676</td>\n",
       "      <td>0.007213</td>\n",
       "      <td>0.444857</td>\n",
       "      <td>-0.112917</td>\n",
       "      <td>...</td>\n",
       "      <td>-0.053381</td>\n",
       "      <td>0.060713</td>\n",
       "      <td>0.100839</td>\n",
       "      <td>0.058753</td>\n",
       "      <td>-0.123371</td>\n",
       "      <td>-0.042421</td>\n",
       "      <td>-0.021899</td>\n",
       "      <td>-0.053196</td>\n",
       "      <td>-0.812370</td>\n",
       "      <td>1.000000</td>\n",
       "    </tr>\n",
       "  </tbody>\n",
       "</table>\n",
       "<p>29 rows × 29 columns</p>\n",
       "</div>"
      ],
      "text/plain": [
       "                     id     price  bedrooms  bathrooms  sqft_living  sqft_lot  \\\n",
       "id             1.000000 -0.016792  0.002253   0.005058    -0.012316 -0.131941   \n",
       "price         -0.016792  1.000000  0.315939   0.525910     0.701925  0.089871   \n",
       "bedrooms       0.002253  0.315939  1.000000   0.527812     0.593147  0.033580   \n",
       "bathrooms      0.005058  0.525910  0.527812   1.000000     0.755738  0.088347   \n",
       "sqft_living   -0.012316  0.701925  0.593147   0.755738     1.000000  0.173437   \n",
       "sqft_lot      -0.131941  0.089871  0.033580   0.088347     0.173437  1.000000   \n",
       "floors         0.018623  0.256853  0.183787   0.502698     0.354009 -0.004809   \n",
       "waterfront    -0.003606  0.264308 -0.002060   0.063626     0.104634  0.021457   \n",
       "condition     -0.023753  0.036014  0.023398  -0.126505    -0.059433 -0.008816   \n",
       "grade          0.008142  0.667959  0.366157   0.665841     0.762775  0.114718   \n",
       "sqft_above    -0.010878  0.605384  0.492513   0.686652     0.876443  0.184124   \n",
       "sqft_basement -0.004368  0.321091  0.303491   0.278473     0.428666  0.015028   \n",
       "yr_built       0.021653  0.054001  0.160839   0.507325     0.318229  0.052961   \n",
       "yr_renovated  -0.010628  0.117854  0.018614   0.047161     0.051047  0.004974   \n",
       "zipcode       -0.008134 -0.053377 -0.158515  -0.204699    -0.199740 -0.129567   \n",
       "lat           -0.001754  0.306697 -0.011578   0.024323     0.052193 -0.085503   \n",
       "long           0.020614  0.022031  0.136527   0.224858     0.241177  0.230215   \n",
       "sqft_living15 -0.002804  0.585260  0.404473   0.569830     0.756383  0.144741   \n",
       "sqft_lot15    -0.138595  0.082839  0.031865   0.088269     0.184321  0.718202   \n",
       "renovate_15   -0.008125  0.106003  0.033957   0.063781     0.051027 -0.013418   \n",
       "basement       0.003501  0.178237  0.160347   0.159846     0.201203 -0.034890   \n",
       "Average       -0.009039 -0.235627 -0.079056  -0.244120    -0.268351 -0.052416   \n",
       "Below Average -0.020893 -0.186600 -0.217214  -0.324437    -0.277524 -0.011776   \n",
       "Good           0.024597  0.246081  0.184265   0.375870     0.343286  0.037675   \n",
       "High          -0.008669  0.340538  0.095843   0.222197     0.313010  0.071154   \n",
       "con_1         -0.001237 -0.014652 -0.029071  -0.032661    -0.025620  0.006347   \n",
       "con_2         -0.010068 -0.042464 -0.033165  -0.060275    -0.050285  0.008654   \n",
       "con_3          0.027301  0.002396  0.007991   0.163525     0.085781 -0.005960   \n",
       "con_4         -0.026379 -0.022738 -0.010615  -0.142243    -0.071000  0.014287   \n",
       "\n",
       "                 floors  waterfront  condition     grade  ...  renovate_15  \\\n",
       "id             0.018623   -0.003606  -0.023753  0.008142  ...    -0.008125   \n",
       "price          0.256853    0.264308   0.036014  0.667959  ...     0.106003   \n",
       "bedrooms       0.183787   -0.002060   0.023398  0.366157  ...     0.033957   \n",
       "bathrooms      0.502698    0.063626  -0.126505  0.665841  ...     0.063781   \n",
       "sqft_living    0.354009    0.104634  -0.059433  0.762775  ...     0.051027   \n",
       "sqft_lot      -0.004809    0.021457  -0.008816  0.114718  ...    -0.013418   \n",
       "floors         1.000000    0.020798  -0.263994  0.458820  ...     0.004076   \n",
       "waterfront     0.020798    1.000000   0.016657  0.082815  ...     0.014794   \n",
       "condition     -0.263994    0.016657   1.000000 -0.146872  ...    -0.072813   \n",
       "grade          0.458820    0.082815  -0.146872  1.000000  ...     0.035658   \n",
       "sqft_above     0.524032    0.071774  -0.158858  0.756065  ...     0.015910   \n",
       "sqft_basement -0.241824    0.083052   0.168416  0.165849  ...     0.075471   \n",
       "yr_built       0.489148   -0.024487  -0.361535  0.447907  ...    -0.126546   \n",
       "yr_renovated   0.003794    0.073938  -0.055801  0.015613  ...     0.711935   \n",
       "zipcode       -0.059579    0.028931   0.002872 -0.185737  ...     0.048298   \n",
       "lat            0.049270   -0.012153  -0.015202  0.113609  ...     0.028014   \n",
       "long           0.125942   -0.037634  -0.105819  0.200312  ...    -0.054133   \n",
       "sqft_living15  0.280152    0.083820  -0.093025  0.713864  ...    -0.000953   \n",
       "sqft_lot15    -0.010717    0.030656  -0.003105  0.120965  ...    -0.015128   \n",
       "renovate_15    0.004076    0.014794  -0.072813  0.035658  ...     1.000000   \n",
       "basement      -0.252400    0.039224   0.130402  0.050717  ...     0.051491   \n",
       "Average       -0.248732   -0.037449   0.089788 -0.349878  ...    -0.028955   \n",
       "Below Average -0.206218   -0.002922   0.060304 -0.426645  ...    -0.011974   \n",
       "Good           0.341112    0.013221  -0.113307  0.507775  ...     0.038076   \n",
       "High           0.109415    0.084885  -0.043647  0.342521  ...    -0.006542   \n",
       "con_1         -0.019515    0.012405  -0.098916 -0.042122  ...    -0.004901   \n",
       "con_2         -0.050970   -0.000955  -0.151170 -0.070055  ...    -0.007915   \n",
       "con_3          0.272176   -0.015133  -0.701659  0.162093  ...     0.066478   \n",
       "con_4         -0.219676    0.007213   0.444857 -0.112917  ...    -0.053381   \n",
       "\n",
       "               basement   Average  Below Average      Good      High  \\\n",
       "id             0.003501 -0.009039      -0.020893  0.024597 -0.008669   \n",
       "price          0.178237 -0.235627      -0.186600  0.246081  0.340538   \n",
       "bedrooms       0.160347 -0.079056      -0.217214  0.184265  0.095843   \n",
       "bathrooms      0.159846 -0.244120      -0.324437  0.375870  0.222197   \n",
       "sqft_living    0.201203 -0.268351      -0.277524  0.343286  0.313010   \n",
       "sqft_lot      -0.034890 -0.052416      -0.011776  0.037675  0.071154   \n",
       "floors        -0.252400 -0.248732      -0.206218  0.341112  0.109415   \n",
       "waterfront     0.039224 -0.037449      -0.002922  0.013221  0.084885   \n",
       "condition      0.130402  0.089788       0.060304 -0.113307 -0.043647   \n",
       "grade          0.050717 -0.349878      -0.426645  0.507775  0.342521   \n",
       "sqft_above    -0.207268 -0.291273      -0.250848  0.350742  0.308593   \n",
       "sqft_basement  0.820888 -0.009953      -0.104564  0.053360  0.070847   \n",
       "yr_built      -0.163915 -0.177201      -0.287160  0.326562  0.089719   \n",
       "yr_renovated   0.044845 -0.018266       0.001834  0.017620 -0.002189   \n",
       "zipcode        0.159631  0.061394       0.121450 -0.121911 -0.046636   \n",
       "lat            0.136567 -0.023951      -0.060065  0.051670  0.031533   \n",
       "long          -0.233357 -0.089508      -0.087617  0.127600  0.050271   \n",
       "sqft_living15  0.044587 -0.288291      -0.244440  0.354162  0.274190   \n",
       "sqft_lot15    -0.041748 -0.050921      -0.015081  0.039453  0.067150   \n",
       "renovate_15    0.051491 -0.028955      -0.011974  0.038076 -0.006542   \n",
       "basement       1.000000  0.047113      -0.093160  0.009696  0.005102   \n",
       "Average        0.047113  1.000000      -0.291570 -0.769476 -0.129928   \n",
       "Below Average -0.093160 -0.291570       1.000000 -0.315655 -0.053299   \n",
       "Good           0.009696 -0.769476      -0.315655  1.000000 -0.140660   \n",
       "High           0.005102 -0.129928      -0.053299 -0.140660  1.000000   \n",
       "con_1         -0.010830 -0.015520       0.073283 -0.028390 -0.005651   \n",
       "con_2         -0.006962  0.004647       0.101504 -0.063411 -0.013728   \n",
       "con_3         -0.097422 -0.117437      -0.110150  0.167003  0.058503   \n",
       "con_4          0.060713  0.100839       0.058753 -0.123371 -0.042421   \n",
       "\n",
       "                  con_1     con_2     con_3     con_4  \n",
       "id            -0.001237 -0.010068  0.027301 -0.026379  \n",
       "price         -0.014652 -0.042464  0.002396 -0.022738  \n",
       "bedrooms      -0.029071 -0.033165  0.007991 -0.010615  \n",
       "bathrooms     -0.032661 -0.060275  0.163525 -0.142243  \n",
       "sqft_living   -0.025620 -0.050285  0.085781 -0.071000  \n",
       "sqft_lot       0.006347  0.008654 -0.005960  0.014287  \n",
       "floors        -0.019515 -0.050970  0.272176 -0.219676  \n",
       "waterfront     0.012405 -0.000955 -0.015133  0.007213  \n",
       "condition     -0.098916 -0.151170 -0.701659  0.444857  \n",
       "grade         -0.042122 -0.070055  0.162093 -0.112917  \n",
       "sqft_above    -0.023115 -0.046232  0.162834 -0.119656  \n",
       "sqft_basement -0.009475 -0.018146 -0.122041  0.074141  \n",
       "yr_built      -0.042099 -0.056133  0.335903 -0.221009  \n",
       "yr_renovated  -0.000008 -0.005410  0.046200 -0.037557  \n",
       "zipcode        0.008023  0.016077  0.013484 -0.049330  \n",
       "lat            0.004922 -0.014891  0.037005 -0.051738  \n",
       "long          -0.002721 -0.010726  0.089896 -0.047528  \n",
       "sqft_living15 -0.005046 -0.046037  0.093137 -0.058273  \n",
       "sqft_lot15    -0.003411  0.010841 -0.007608  0.018093  \n",
       "renovate_15   -0.004901 -0.007915  0.066478 -0.053381  \n",
       "basement      -0.010830 -0.006962 -0.097422  0.060713  \n",
       "Average       -0.015520  0.004647 -0.117437  0.100839  \n",
       "Below Average  0.073283  0.101504 -0.110150  0.058753  \n",
       "Good          -0.028390 -0.063411  0.167003 -0.123371  \n",
       "High          -0.005651 -0.013728  0.058503 -0.042421  \n",
       "con_1          1.000000 -0.003266 -0.049883 -0.021899  \n",
       "con_2         -0.003266  1.000000 -0.121172 -0.053196  \n",
       "con_3         -0.049883 -0.121172  1.000000 -0.812370  \n",
       "con_4         -0.021899 -0.053196 -0.812370  1.000000  \n",
       "\n",
       "[29 rows x 29 columns]"
      ]
     },
     "execution_count": 194,
     "metadata": {},
     "output_type": "execute_result"
    }
   ],
   "source": [
    "#making a correlation diagram\n",
    "df_merged.corr()"
   ]
  },
  {
   "cell_type": "code",
   "execution_count": 646,
   "metadata": {},
   "outputs": [
    {
     "data": {
      "text/html": [
       "<div>\n",
       "<style scoped>\n",
       "    .dataframe tbody tr th:only-of-type {\n",
       "        vertical-align: middle;\n",
       "    }\n",
       "\n",
       "    .dataframe tbody tr th {\n",
       "        vertical-align: top;\n",
       "    }\n",
       "\n",
       "    .dataframe thead th {\n",
       "        text-align: right;\n",
       "    }\n",
       "</style>\n",
       "<table border=\"1\" class=\"dataframe\">\n",
       "  <thead>\n",
       "    <tr style=\"text-align: right;\">\n",
       "      <th></th>\n",
       "      <th>id</th>\n",
       "      <th>price</th>\n",
       "      <th>bedrooms</th>\n",
       "      <th>bathrooms</th>\n",
       "      <th>sqft_living</th>\n",
       "      <th>sqft_lot</th>\n",
       "      <th>floors</th>\n",
       "      <th>waterfront</th>\n",
       "      <th>condition</th>\n",
       "      <th>grade</th>\n",
       "      <th>...</th>\n",
       "      <th>basement</th>\n",
       "      <th>Average</th>\n",
       "      <th>Below Average</th>\n",
       "      <th>Good</th>\n",
       "      <th>High</th>\n",
       "      <th>1</th>\n",
       "      <th>2</th>\n",
       "      <th>3</th>\n",
       "      <th>4</th>\n",
       "      <th>5</th>\n",
       "    </tr>\n",
       "  </thead>\n",
       "  <tbody>\n",
       "    <tr>\n",
       "      <th>id</th>\n",
       "      <td>True</td>\n",
       "      <td>False</td>\n",
       "      <td>False</td>\n",
       "      <td>False</td>\n",
       "      <td>False</td>\n",
       "      <td>False</td>\n",
       "      <td>False</td>\n",
       "      <td>False</td>\n",
       "      <td>False</td>\n",
       "      <td>False</td>\n",
       "      <td>...</td>\n",
       "      <td>False</td>\n",
       "      <td>False</td>\n",
       "      <td>False</td>\n",
       "      <td>False</td>\n",
       "      <td>False</td>\n",
       "      <td>False</td>\n",
       "      <td>False</td>\n",
       "      <td>False</td>\n",
       "      <td>False</td>\n",
       "      <td>False</td>\n",
       "    </tr>\n",
       "    <tr>\n",
       "      <th>price</th>\n",
       "      <td>False</td>\n",
       "      <td>True</td>\n",
       "      <td>False</td>\n",
       "      <td>False</td>\n",
       "      <td>False</td>\n",
       "      <td>False</td>\n",
       "      <td>False</td>\n",
       "      <td>False</td>\n",
       "      <td>False</td>\n",
       "      <td>False</td>\n",
       "      <td>...</td>\n",
       "      <td>False</td>\n",
       "      <td>False</td>\n",
       "      <td>False</td>\n",
       "      <td>False</td>\n",
       "      <td>False</td>\n",
       "      <td>False</td>\n",
       "      <td>False</td>\n",
       "      <td>False</td>\n",
       "      <td>False</td>\n",
       "      <td>False</td>\n",
       "    </tr>\n",
       "    <tr>\n",
       "      <th>bedrooms</th>\n",
       "      <td>False</td>\n",
       "      <td>False</td>\n",
       "      <td>True</td>\n",
       "      <td>False</td>\n",
       "      <td>False</td>\n",
       "      <td>False</td>\n",
       "      <td>False</td>\n",
       "      <td>False</td>\n",
       "      <td>False</td>\n",
       "      <td>False</td>\n",
       "      <td>...</td>\n",
       "      <td>False</td>\n",
       "      <td>False</td>\n",
       "      <td>False</td>\n",
       "      <td>False</td>\n",
       "      <td>False</td>\n",
       "      <td>False</td>\n",
       "      <td>False</td>\n",
       "      <td>False</td>\n",
       "      <td>False</td>\n",
       "      <td>False</td>\n",
       "    </tr>\n",
       "    <tr>\n",
       "      <th>bathrooms</th>\n",
       "      <td>False</td>\n",
       "      <td>False</td>\n",
       "      <td>False</td>\n",
       "      <td>True</td>\n",
       "      <td>True</td>\n",
       "      <td>False</td>\n",
       "      <td>False</td>\n",
       "      <td>False</td>\n",
       "      <td>False</td>\n",
       "      <td>False</td>\n",
       "      <td>...</td>\n",
       "      <td>False</td>\n",
       "      <td>False</td>\n",
       "      <td>False</td>\n",
       "      <td>False</td>\n",
       "      <td>False</td>\n",
       "      <td>False</td>\n",
       "      <td>False</td>\n",
       "      <td>False</td>\n",
       "      <td>False</td>\n",
       "      <td>False</td>\n",
       "    </tr>\n",
       "    <tr>\n",
       "      <th>sqft_living</th>\n",
       "      <td>False</td>\n",
       "      <td>False</td>\n",
       "      <td>False</td>\n",
       "      <td>True</td>\n",
       "      <td>True</td>\n",
       "      <td>False</td>\n",
       "      <td>False</td>\n",
       "      <td>False</td>\n",
       "      <td>False</td>\n",
       "      <td>True</td>\n",
       "      <td>...</td>\n",
       "      <td>False</td>\n",
       "      <td>False</td>\n",
       "      <td>False</td>\n",
       "      <td>False</td>\n",
       "      <td>False</td>\n",
       "      <td>False</td>\n",
       "      <td>False</td>\n",
       "      <td>False</td>\n",
       "      <td>False</td>\n",
       "      <td>False</td>\n",
       "    </tr>\n",
       "    <tr>\n",
       "      <th>sqft_lot</th>\n",
       "      <td>False</td>\n",
       "      <td>False</td>\n",
       "      <td>False</td>\n",
       "      <td>False</td>\n",
       "      <td>False</td>\n",
       "      <td>True</td>\n",
       "      <td>False</td>\n",
       "      <td>False</td>\n",
       "      <td>False</td>\n",
       "      <td>False</td>\n",
       "      <td>...</td>\n",
       "      <td>False</td>\n",
       "      <td>False</td>\n",
       "      <td>False</td>\n",
       "      <td>False</td>\n",
       "      <td>False</td>\n",
       "      <td>False</td>\n",
       "      <td>False</td>\n",
       "      <td>False</td>\n",
       "      <td>False</td>\n",
       "      <td>False</td>\n",
       "    </tr>\n",
       "    <tr>\n",
       "      <th>floors</th>\n",
       "      <td>False</td>\n",
       "      <td>False</td>\n",
       "      <td>False</td>\n",
       "      <td>False</td>\n",
       "      <td>False</td>\n",
       "      <td>False</td>\n",
       "      <td>True</td>\n",
       "      <td>False</td>\n",
       "      <td>False</td>\n",
       "      <td>False</td>\n",
       "      <td>...</td>\n",
       "      <td>False</td>\n",
       "      <td>False</td>\n",
       "      <td>False</td>\n",
       "      <td>False</td>\n",
       "      <td>False</td>\n",
       "      <td>False</td>\n",
       "      <td>False</td>\n",
       "      <td>False</td>\n",
       "      <td>False</td>\n",
       "      <td>False</td>\n",
       "    </tr>\n",
       "    <tr>\n",
       "      <th>waterfront</th>\n",
       "      <td>False</td>\n",
       "      <td>False</td>\n",
       "      <td>False</td>\n",
       "      <td>False</td>\n",
       "      <td>False</td>\n",
       "      <td>False</td>\n",
       "      <td>False</td>\n",
       "      <td>True</td>\n",
       "      <td>False</td>\n",
       "      <td>False</td>\n",
       "      <td>...</td>\n",
       "      <td>False</td>\n",
       "      <td>False</td>\n",
       "      <td>False</td>\n",
       "      <td>False</td>\n",
       "      <td>False</td>\n",
       "      <td>False</td>\n",
       "      <td>False</td>\n",
       "      <td>False</td>\n",
       "      <td>False</td>\n",
       "      <td>False</td>\n",
       "    </tr>\n",
       "    <tr>\n",
       "      <th>condition</th>\n",
       "      <td>False</td>\n",
       "      <td>False</td>\n",
       "      <td>False</td>\n",
       "      <td>False</td>\n",
       "      <td>False</td>\n",
       "      <td>False</td>\n",
       "      <td>False</td>\n",
       "      <td>False</td>\n",
       "      <td>True</td>\n",
       "      <td>False</td>\n",
       "      <td>...</td>\n",
       "      <td>False</td>\n",
       "      <td>False</td>\n",
       "      <td>False</td>\n",
       "      <td>False</td>\n",
       "      <td>False</td>\n",
       "      <td>False</td>\n",
       "      <td>False</td>\n",
       "      <td>False</td>\n",
       "      <td>False</td>\n",
       "      <td>False</td>\n",
       "    </tr>\n",
       "    <tr>\n",
       "      <th>grade</th>\n",
       "      <td>False</td>\n",
       "      <td>False</td>\n",
       "      <td>False</td>\n",
       "      <td>False</td>\n",
       "      <td>True</td>\n",
       "      <td>False</td>\n",
       "      <td>False</td>\n",
       "      <td>False</td>\n",
       "      <td>False</td>\n",
       "      <td>True</td>\n",
       "      <td>...</td>\n",
       "      <td>False</td>\n",
       "      <td>False</td>\n",
       "      <td>False</td>\n",
       "      <td>False</td>\n",
       "      <td>False</td>\n",
       "      <td>False</td>\n",
       "      <td>False</td>\n",
       "      <td>False</td>\n",
       "      <td>False</td>\n",
       "      <td>False</td>\n",
       "    </tr>\n",
       "    <tr>\n",
       "      <th>sqft_above</th>\n",
       "      <td>False</td>\n",
       "      <td>False</td>\n",
       "      <td>False</td>\n",
       "      <td>False</td>\n",
       "      <td>True</td>\n",
       "      <td>False</td>\n",
       "      <td>False</td>\n",
       "      <td>False</td>\n",
       "      <td>False</td>\n",
       "      <td>True</td>\n",
       "      <td>...</td>\n",
       "      <td>False</td>\n",
       "      <td>False</td>\n",
       "      <td>False</td>\n",
       "      <td>False</td>\n",
       "      <td>False</td>\n",
       "      <td>False</td>\n",
       "      <td>False</td>\n",
       "      <td>False</td>\n",
       "      <td>False</td>\n",
       "      <td>False</td>\n",
       "    </tr>\n",
       "    <tr>\n",
       "      <th>sqft_basement</th>\n",
       "      <td>False</td>\n",
       "      <td>False</td>\n",
       "      <td>False</td>\n",
       "      <td>False</td>\n",
       "      <td>False</td>\n",
       "      <td>False</td>\n",
       "      <td>False</td>\n",
       "      <td>False</td>\n",
       "      <td>False</td>\n",
       "      <td>False</td>\n",
       "      <td>...</td>\n",
       "      <td>True</td>\n",
       "      <td>False</td>\n",
       "      <td>False</td>\n",
       "      <td>False</td>\n",
       "      <td>False</td>\n",
       "      <td>False</td>\n",
       "      <td>False</td>\n",
       "      <td>False</td>\n",
       "      <td>False</td>\n",
       "      <td>False</td>\n",
       "    </tr>\n",
       "    <tr>\n",
       "      <th>yr_built</th>\n",
       "      <td>False</td>\n",
       "      <td>False</td>\n",
       "      <td>False</td>\n",
       "      <td>False</td>\n",
       "      <td>False</td>\n",
       "      <td>False</td>\n",
       "      <td>False</td>\n",
       "      <td>False</td>\n",
       "      <td>False</td>\n",
       "      <td>False</td>\n",
       "      <td>...</td>\n",
       "      <td>False</td>\n",
       "      <td>False</td>\n",
       "      <td>False</td>\n",
       "      <td>False</td>\n",
       "      <td>False</td>\n",
       "      <td>False</td>\n",
       "      <td>False</td>\n",
       "      <td>False</td>\n",
       "      <td>False</td>\n",
       "      <td>False</td>\n",
       "    </tr>\n",
       "    <tr>\n",
       "      <th>yr_renovated</th>\n",
       "      <td>False</td>\n",
       "      <td>False</td>\n",
       "      <td>False</td>\n",
       "      <td>False</td>\n",
       "      <td>False</td>\n",
       "      <td>False</td>\n",
       "      <td>False</td>\n",
       "      <td>False</td>\n",
       "      <td>False</td>\n",
       "      <td>False</td>\n",
       "      <td>...</td>\n",
       "      <td>False</td>\n",
       "      <td>False</td>\n",
       "      <td>False</td>\n",
       "      <td>False</td>\n",
       "      <td>False</td>\n",
       "      <td>False</td>\n",
       "      <td>False</td>\n",
       "      <td>False</td>\n",
       "      <td>False</td>\n",
       "      <td>False</td>\n",
       "    </tr>\n",
       "    <tr>\n",
       "      <th>zipcode</th>\n",
       "      <td>False</td>\n",
       "      <td>False</td>\n",
       "      <td>False</td>\n",
       "      <td>False</td>\n",
       "      <td>False</td>\n",
       "      <td>False</td>\n",
       "      <td>False</td>\n",
       "      <td>False</td>\n",
       "      <td>False</td>\n",
       "      <td>False</td>\n",
       "      <td>...</td>\n",
       "      <td>False</td>\n",
       "      <td>False</td>\n",
       "      <td>False</td>\n",
       "      <td>False</td>\n",
       "      <td>False</td>\n",
       "      <td>False</td>\n",
       "      <td>False</td>\n",
       "      <td>False</td>\n",
       "      <td>False</td>\n",
       "      <td>False</td>\n",
       "    </tr>\n",
       "    <tr>\n",
       "      <th>lat</th>\n",
       "      <td>False</td>\n",
       "      <td>False</td>\n",
       "      <td>False</td>\n",
       "      <td>False</td>\n",
       "      <td>False</td>\n",
       "      <td>False</td>\n",
       "      <td>False</td>\n",
       "      <td>False</td>\n",
       "      <td>False</td>\n",
       "      <td>False</td>\n",
       "      <td>...</td>\n",
       "      <td>False</td>\n",
       "      <td>False</td>\n",
       "      <td>False</td>\n",
       "      <td>False</td>\n",
       "      <td>False</td>\n",
       "      <td>False</td>\n",
       "      <td>False</td>\n",
       "      <td>False</td>\n",
       "      <td>False</td>\n",
       "      <td>False</td>\n",
       "    </tr>\n",
       "    <tr>\n",
       "      <th>long</th>\n",
       "      <td>False</td>\n",
       "      <td>False</td>\n",
       "      <td>False</td>\n",
       "      <td>False</td>\n",
       "      <td>False</td>\n",
       "      <td>False</td>\n",
       "      <td>False</td>\n",
       "      <td>False</td>\n",
       "      <td>False</td>\n",
       "      <td>False</td>\n",
       "      <td>...</td>\n",
       "      <td>False</td>\n",
       "      <td>False</td>\n",
       "      <td>False</td>\n",
       "      <td>False</td>\n",
       "      <td>False</td>\n",
       "      <td>False</td>\n",
       "      <td>False</td>\n",
       "      <td>False</td>\n",
       "      <td>False</td>\n",
       "      <td>False</td>\n",
       "    </tr>\n",
       "    <tr>\n",
       "      <th>sqft_living15</th>\n",
       "      <td>False</td>\n",
       "      <td>False</td>\n",
       "      <td>False</td>\n",
       "      <td>False</td>\n",
       "      <td>True</td>\n",
       "      <td>False</td>\n",
       "      <td>False</td>\n",
       "      <td>False</td>\n",
       "      <td>False</td>\n",
       "      <td>False</td>\n",
       "      <td>...</td>\n",
       "      <td>False</td>\n",
       "      <td>False</td>\n",
       "      <td>False</td>\n",
       "      <td>False</td>\n",
       "      <td>False</td>\n",
       "      <td>False</td>\n",
       "      <td>False</td>\n",
       "      <td>False</td>\n",
       "      <td>False</td>\n",
       "      <td>False</td>\n",
       "    </tr>\n",
       "    <tr>\n",
       "      <th>sqft_lot15</th>\n",
       "      <td>False</td>\n",
       "      <td>False</td>\n",
       "      <td>False</td>\n",
       "      <td>False</td>\n",
       "      <td>False</td>\n",
       "      <td>False</td>\n",
       "      <td>False</td>\n",
       "      <td>False</td>\n",
       "      <td>False</td>\n",
       "      <td>False</td>\n",
       "      <td>...</td>\n",
       "      <td>False</td>\n",
       "      <td>False</td>\n",
       "      <td>False</td>\n",
       "      <td>False</td>\n",
       "      <td>False</td>\n",
       "      <td>False</td>\n",
       "      <td>False</td>\n",
       "      <td>False</td>\n",
       "      <td>False</td>\n",
       "      <td>False</td>\n",
       "    </tr>\n",
       "    <tr>\n",
       "      <th>renovate_15</th>\n",
       "      <td>False</td>\n",
       "      <td>False</td>\n",
       "      <td>False</td>\n",
       "      <td>False</td>\n",
       "      <td>False</td>\n",
       "      <td>False</td>\n",
       "      <td>False</td>\n",
       "      <td>False</td>\n",
       "      <td>False</td>\n",
       "      <td>False</td>\n",
       "      <td>...</td>\n",
       "      <td>False</td>\n",
       "      <td>False</td>\n",
       "      <td>False</td>\n",
       "      <td>False</td>\n",
       "      <td>False</td>\n",
       "      <td>False</td>\n",
       "      <td>False</td>\n",
       "      <td>False</td>\n",
       "      <td>False</td>\n",
       "      <td>False</td>\n",
       "    </tr>\n",
       "    <tr>\n",
       "      <th>basement</th>\n",
       "      <td>False</td>\n",
       "      <td>False</td>\n",
       "      <td>False</td>\n",
       "      <td>False</td>\n",
       "      <td>False</td>\n",
       "      <td>False</td>\n",
       "      <td>False</td>\n",
       "      <td>False</td>\n",
       "      <td>False</td>\n",
       "      <td>False</td>\n",
       "      <td>...</td>\n",
       "      <td>True</td>\n",
       "      <td>False</td>\n",
       "      <td>False</td>\n",
       "      <td>False</td>\n",
       "      <td>False</td>\n",
       "      <td>False</td>\n",
       "      <td>False</td>\n",
       "      <td>False</td>\n",
       "      <td>False</td>\n",
       "      <td>False</td>\n",
       "    </tr>\n",
       "    <tr>\n",
       "      <th>Average</th>\n",
       "      <td>False</td>\n",
       "      <td>False</td>\n",
       "      <td>False</td>\n",
       "      <td>False</td>\n",
       "      <td>False</td>\n",
       "      <td>False</td>\n",
       "      <td>False</td>\n",
       "      <td>False</td>\n",
       "      <td>False</td>\n",
       "      <td>False</td>\n",
       "      <td>...</td>\n",
       "      <td>False</td>\n",
       "      <td>True</td>\n",
       "      <td>False</td>\n",
       "      <td>False</td>\n",
       "      <td>False</td>\n",
       "      <td>False</td>\n",
       "      <td>False</td>\n",
       "      <td>False</td>\n",
       "      <td>False</td>\n",
       "      <td>False</td>\n",
       "    </tr>\n",
       "    <tr>\n",
       "      <th>Below Average</th>\n",
       "      <td>False</td>\n",
       "      <td>False</td>\n",
       "      <td>False</td>\n",
       "      <td>False</td>\n",
       "      <td>False</td>\n",
       "      <td>False</td>\n",
       "      <td>False</td>\n",
       "      <td>False</td>\n",
       "      <td>False</td>\n",
       "      <td>False</td>\n",
       "      <td>...</td>\n",
       "      <td>False</td>\n",
       "      <td>False</td>\n",
       "      <td>True</td>\n",
       "      <td>False</td>\n",
       "      <td>False</td>\n",
       "      <td>False</td>\n",
       "      <td>False</td>\n",
       "      <td>False</td>\n",
       "      <td>False</td>\n",
       "      <td>False</td>\n",
       "    </tr>\n",
       "    <tr>\n",
       "      <th>Good</th>\n",
       "      <td>False</td>\n",
       "      <td>False</td>\n",
       "      <td>False</td>\n",
       "      <td>False</td>\n",
       "      <td>False</td>\n",
       "      <td>False</td>\n",
       "      <td>False</td>\n",
       "      <td>False</td>\n",
       "      <td>False</td>\n",
       "      <td>False</td>\n",
       "      <td>...</td>\n",
       "      <td>False</td>\n",
       "      <td>False</td>\n",
       "      <td>False</td>\n",
       "      <td>True</td>\n",
       "      <td>False</td>\n",
       "      <td>False</td>\n",
       "      <td>False</td>\n",
       "      <td>False</td>\n",
       "      <td>False</td>\n",
       "      <td>False</td>\n",
       "    </tr>\n",
       "    <tr>\n",
       "      <th>High</th>\n",
       "      <td>False</td>\n",
       "      <td>False</td>\n",
       "      <td>False</td>\n",
       "      <td>False</td>\n",
       "      <td>False</td>\n",
       "      <td>False</td>\n",
       "      <td>False</td>\n",
       "      <td>False</td>\n",
       "      <td>False</td>\n",
       "      <td>False</td>\n",
       "      <td>...</td>\n",
       "      <td>False</td>\n",
       "      <td>False</td>\n",
       "      <td>False</td>\n",
       "      <td>False</td>\n",
       "      <td>True</td>\n",
       "      <td>False</td>\n",
       "      <td>False</td>\n",
       "      <td>False</td>\n",
       "      <td>False</td>\n",
       "      <td>False</td>\n",
       "    </tr>\n",
       "    <tr>\n",
       "      <th>1</th>\n",
       "      <td>False</td>\n",
       "      <td>False</td>\n",
       "      <td>False</td>\n",
       "      <td>False</td>\n",
       "      <td>False</td>\n",
       "      <td>False</td>\n",
       "      <td>False</td>\n",
       "      <td>False</td>\n",
       "      <td>False</td>\n",
       "      <td>False</td>\n",
       "      <td>...</td>\n",
       "      <td>False</td>\n",
       "      <td>False</td>\n",
       "      <td>False</td>\n",
       "      <td>False</td>\n",
       "      <td>False</td>\n",
       "      <td>True</td>\n",
       "      <td>False</td>\n",
       "      <td>False</td>\n",
       "      <td>False</td>\n",
       "      <td>False</td>\n",
       "    </tr>\n",
       "    <tr>\n",
       "      <th>2</th>\n",
       "      <td>False</td>\n",
       "      <td>False</td>\n",
       "      <td>False</td>\n",
       "      <td>False</td>\n",
       "      <td>False</td>\n",
       "      <td>False</td>\n",
       "      <td>False</td>\n",
       "      <td>False</td>\n",
       "      <td>False</td>\n",
       "      <td>False</td>\n",
       "      <td>...</td>\n",
       "      <td>False</td>\n",
       "      <td>False</td>\n",
       "      <td>False</td>\n",
       "      <td>False</td>\n",
       "      <td>False</td>\n",
       "      <td>False</td>\n",
       "      <td>True</td>\n",
       "      <td>False</td>\n",
       "      <td>False</td>\n",
       "      <td>False</td>\n",
       "    </tr>\n",
       "    <tr>\n",
       "      <th>3</th>\n",
       "      <td>False</td>\n",
       "      <td>False</td>\n",
       "      <td>False</td>\n",
       "      <td>False</td>\n",
       "      <td>False</td>\n",
       "      <td>False</td>\n",
       "      <td>False</td>\n",
       "      <td>False</td>\n",
       "      <td>False</td>\n",
       "      <td>False</td>\n",
       "      <td>...</td>\n",
       "      <td>False</td>\n",
       "      <td>False</td>\n",
       "      <td>False</td>\n",
       "      <td>False</td>\n",
       "      <td>False</td>\n",
       "      <td>False</td>\n",
       "      <td>False</td>\n",
       "      <td>True</td>\n",
       "      <td>False</td>\n",
       "      <td>False</td>\n",
       "    </tr>\n",
       "    <tr>\n",
       "      <th>4</th>\n",
       "      <td>False</td>\n",
       "      <td>False</td>\n",
       "      <td>False</td>\n",
       "      <td>False</td>\n",
       "      <td>False</td>\n",
       "      <td>False</td>\n",
       "      <td>False</td>\n",
       "      <td>False</td>\n",
       "      <td>False</td>\n",
       "      <td>False</td>\n",
       "      <td>...</td>\n",
       "      <td>False</td>\n",
       "      <td>False</td>\n",
       "      <td>False</td>\n",
       "      <td>False</td>\n",
       "      <td>False</td>\n",
       "      <td>False</td>\n",
       "      <td>False</td>\n",
       "      <td>False</td>\n",
       "      <td>True</td>\n",
       "      <td>False</td>\n",
       "    </tr>\n",
       "    <tr>\n",
       "      <th>5</th>\n",
       "      <td>False</td>\n",
       "      <td>False</td>\n",
       "      <td>False</td>\n",
       "      <td>False</td>\n",
       "      <td>False</td>\n",
       "      <td>False</td>\n",
       "      <td>False</td>\n",
       "      <td>False</td>\n",
       "      <td>False</td>\n",
       "      <td>False</td>\n",
       "      <td>...</td>\n",
       "      <td>False</td>\n",
       "      <td>False</td>\n",
       "      <td>False</td>\n",
       "      <td>False</td>\n",
       "      <td>False</td>\n",
       "      <td>False</td>\n",
       "      <td>False</td>\n",
       "      <td>False</td>\n",
       "      <td>False</td>\n",
       "      <td>True</td>\n",
       "    </tr>\n",
       "  </tbody>\n",
       "</table>\n",
       "<p>30 rows × 30 columns</p>\n",
       "</div>"
      ],
      "text/plain": [
       "                  id  price  bedrooms  bathrooms  sqft_living  sqft_lot  \\\n",
       "id              True  False     False      False        False     False   \n",
       "price          False   True     False      False        False     False   \n",
       "bedrooms       False  False      True      False        False     False   \n",
       "bathrooms      False  False     False       True         True     False   \n",
       "sqft_living    False  False     False       True         True     False   \n",
       "sqft_lot       False  False     False      False        False      True   \n",
       "floors         False  False     False      False        False     False   \n",
       "waterfront     False  False     False      False        False     False   \n",
       "condition      False  False     False      False        False     False   \n",
       "grade          False  False     False      False         True     False   \n",
       "sqft_above     False  False     False      False         True     False   \n",
       "sqft_basement  False  False     False      False        False     False   \n",
       "yr_built       False  False     False      False        False     False   \n",
       "yr_renovated   False  False     False      False        False     False   \n",
       "zipcode        False  False     False      False        False     False   \n",
       "lat            False  False     False      False        False     False   \n",
       "long           False  False     False      False        False     False   \n",
       "sqft_living15  False  False     False      False         True     False   \n",
       "sqft_lot15     False  False     False      False        False     False   \n",
       "renovate_15    False  False     False      False        False     False   \n",
       "basement       False  False     False      False        False     False   \n",
       "Average        False  False     False      False        False     False   \n",
       "Below Average  False  False     False      False        False     False   \n",
       "Good           False  False     False      False        False     False   \n",
       "High           False  False     False      False        False     False   \n",
       "1              False  False     False      False        False     False   \n",
       "2              False  False     False      False        False     False   \n",
       "3              False  False     False      False        False     False   \n",
       "4              False  False     False      False        False     False   \n",
       "5              False  False     False      False        False     False   \n",
       "\n",
       "               floors  waterfront  condition  grade  ...  basement  Average  \\\n",
       "id              False       False      False  False  ...     False    False   \n",
       "price           False       False      False  False  ...     False    False   \n",
       "bedrooms        False       False      False  False  ...     False    False   \n",
       "bathrooms       False       False      False  False  ...     False    False   \n",
       "sqft_living     False       False      False   True  ...     False    False   \n",
       "sqft_lot        False       False      False  False  ...     False    False   \n",
       "floors           True       False      False  False  ...     False    False   \n",
       "waterfront      False        True      False  False  ...     False    False   \n",
       "condition       False       False       True  False  ...     False    False   \n",
       "grade           False       False      False   True  ...     False    False   \n",
       "sqft_above      False       False      False   True  ...     False    False   \n",
       "sqft_basement   False       False      False  False  ...      True    False   \n",
       "yr_built        False       False      False  False  ...     False    False   \n",
       "yr_renovated    False       False      False  False  ...     False    False   \n",
       "zipcode         False       False      False  False  ...     False    False   \n",
       "lat             False       False      False  False  ...     False    False   \n",
       "long            False       False      False  False  ...     False    False   \n",
       "sqft_living15   False       False      False  False  ...     False    False   \n",
       "sqft_lot15      False       False      False  False  ...     False    False   \n",
       "renovate_15     False       False      False  False  ...     False    False   \n",
       "basement        False       False      False  False  ...      True    False   \n",
       "Average         False       False      False  False  ...     False     True   \n",
       "Below Average   False       False      False  False  ...     False    False   \n",
       "Good            False       False      False  False  ...     False    False   \n",
       "High            False       False      False  False  ...     False    False   \n",
       "1               False       False      False  False  ...     False    False   \n",
       "2               False       False      False  False  ...     False    False   \n",
       "3               False       False      False  False  ...     False    False   \n",
       "4               False       False      False  False  ...     False    False   \n",
       "5               False       False      False  False  ...     False    False   \n",
       "\n",
       "               Below Average   Good   High      1      2      3      4      5  \n",
       "id                     False  False  False  False  False  False  False  False  \n",
       "price                  False  False  False  False  False  False  False  False  \n",
       "bedrooms               False  False  False  False  False  False  False  False  \n",
       "bathrooms              False  False  False  False  False  False  False  False  \n",
       "sqft_living            False  False  False  False  False  False  False  False  \n",
       "sqft_lot               False  False  False  False  False  False  False  False  \n",
       "floors                 False  False  False  False  False  False  False  False  \n",
       "waterfront             False  False  False  False  False  False  False  False  \n",
       "condition              False  False  False  False  False  False  False  False  \n",
       "grade                  False  False  False  False  False  False  False  False  \n",
       "sqft_above             False  False  False  False  False  False  False  False  \n",
       "sqft_basement          False  False  False  False  False  False  False  False  \n",
       "yr_built               False  False  False  False  False  False  False  False  \n",
       "yr_renovated           False  False  False  False  False  False  False  False  \n",
       "zipcode                False  False  False  False  False  False  False  False  \n",
       "lat                    False  False  False  False  False  False  False  False  \n",
       "long                   False  False  False  False  False  False  False  False  \n",
       "sqft_living15          False  False  False  False  False  False  False  False  \n",
       "sqft_lot15             False  False  False  False  False  False  False  False  \n",
       "renovate_15            False  False  False  False  False  False  False  False  \n",
       "basement               False  False  False  False  False  False  False  False  \n",
       "Average                False  False  False  False  False  False  False  False  \n",
       "Below Average           True  False  False  False  False  False  False  False  \n",
       "Good                   False   True  False  False  False  False  False  False  \n",
       "High                   False  False   True  False  False  False  False  False  \n",
       "1                      False  False  False   True  False  False  False  False  \n",
       "2                      False  False  False  False   True  False  False  False  \n",
       "3                      False  False  False  False  False   True  False  False  \n",
       "4                      False  False  False  False  False  False   True  False  \n",
       "5                      False  False  False  False  False  False  False   True  \n",
       "\n",
       "[30 rows x 30 columns]"
      ]
     },
     "execution_count": 646,
     "metadata": {},
     "output_type": "execute_result"
    }
   ],
   "source": [
    "#Checking which variables ahve correlation >.75\n",
    "abs(df_merged.corr()>.75)"
   ]
  },
  {
   "cell_type": "code",
   "execution_count": 720,
   "metadata": {},
   "outputs": [
    {
     "data": {
      "image/png": "[encoded data removed]",
      "text/plain": [
       "<Figure size 1080x1080 with 2 Axes>"
      ]
     },
     "metadata": {
      "needs_background": "light"
     },
     "output_type": "display_data"
    }
   ],
   "source": [
    "#Plotting correlation heatmap\n",
    "fig, ax = plt.subplots(figsize=(15,15))\n",
    "sns.heatmap(df.corr())\n",
    "plt.title('Correlation Heatmap')\n",
    "plt.show()"
   ]
  },
  {
   "cell_type": "markdown",
   "metadata": {},
   "source": [
    "Now that we have cleaned our data and created the necessary dummy variables, we will look at building a regression model on our data. The data frame that we will work on is df_merged. Correlation plots and heatmaps for this as shown above."
   ]
  },
  {
   "cell_type": "markdown",
   "metadata": {},
   "source": [
    "# Regression Models"
   ]
  },
  {
   "cell_type": "markdown",
   "metadata": {},
   "source": [
    "This section will focus on running a few regression models in order to see which features on the dataframe df_merged we could use to best predict prices in King County Washington."
   ]
  },
  {
   "cell_type": "markdown",
   "metadata": {},
   "source": [
    "We will first split the data into a training set and a test set using a 80:20 split."
   ]
  },
  {
   "cell_type": "code",
   "execution_count": 187,
   "metadata": {},
   "outputs": [],
   "source": [
    "#save the target variable\n",
    "target = df_merged['price']"
   ]
  },
  {
   "cell_type": "code",
   "execution_count": 177,
   "metadata": {},
   "outputs": [],
   "source": [
    "#Set up the train and test variables for X and y.\n",
    "X_train, X_test, y_train, y_test = train_test_split(df_merged,target, test_size=.2)"
   ]
  },
  {
   "cell_type": "code",
   "execution_count": 179,
   "metadata": {},
   "outputs": [
    {
     "name": "stdout",
     "output_type": "stream",
     "text": [
      "My training set's shape is: (17276, 31)\n",
      "My target variales shape is: (17276,)\n",
      "My test set's shape is: (4319, 31)\n",
      "My test set's shape is: (4319,)\n"
     ]
    }
   ],
   "source": [
    "#Check shape of each new dataframe.\n",
    "print(\"My training set's shape is:\", X_train.shape)\n",
    "print(\"My target variales shape is:\", y_train.shape)\n",
    "print(\"My test set's shape is:\", X_test.shape)\n",
    "print(\"My test set's shape is:\", y_test.shape)"
   ]
  },
  {
   "cell_type": "code",
   "execution_count": 657,
   "metadata": {},
   "outputs": [],
   "source": [
    "#The following is a function we have built to work out regression using statsmodels OLS.\n",
    "def regression(X,y):\n",
    "    X_const = sm.add_constant(X)\n",
    "    model_sm = sm.OLS(y, X_const)\n",
    "    results = model_sm.fit()\n",
    "    return results.summary()"
   ]
  },
  {
   "cell_type": "markdown",
   "metadata": {},
   "source": [
    "## Baseline model"
   ]
  },
  {
   "cell_type": "markdown",
   "metadata": {},
   "source": [
    "The baseline model will include the variables sqft_living, waterfront and basement."
   ]
  },
  {
   "cell_type": "code",
   "execution_count": 85,
   "metadata": {},
   "outputs": [],
   "source": [
    "#Creating X1 and y1 variables\n",
    "X1 = df[['sqft_living','waterfront','basement']]\n",
    "y1 = df['price']"
   ]
  },
  {
   "cell_type": "code",
   "execution_count": 88,
   "metadata": {},
   "outputs": [
    {
     "data": {
      "text/html": [
       "<table class=\"simpletable\">\n",
       "<caption>OLS Regression Results</caption>\n",
       "<tr>\n",
       "  <th>Dep. Variable:</th>          <td>price</td>      <th>  R-squared:         </th>  <td>   0.531</td>  \n",
       "</tr>\n",
       "<tr>\n",
       "  <th>Model:</th>                   <td>OLS</td>       <th>  Adj. R-squared:    </th>  <td>   0.531</td>  \n",
       "</tr>\n",
       "<tr>\n",
       "  <th>Method:</th>             <td>Least Squares</td>  <th>  F-statistic:       </th>  <td>   8139.</td>  \n",
       "</tr>\n",
       "<tr>\n",
       "  <th>Date:</th>             <td>Fri, 27 Mar 2020</td> <th>  Prob (F-statistic):</th>   <td>  0.00</td>   \n",
       "</tr>\n",
       "<tr>\n",
       "  <th>Time:</th>                 <td>10:43:45</td>     <th>  Log-Likelihood:    </th> <td>-2.9921e+05</td>\n",
       "</tr>\n",
       "<tr>\n",
       "  <th>No. Observations:</th>      <td> 21596</td>      <th>  AIC:               </th>  <td>5.984e+05</td> \n",
       "</tr>\n",
       "<tr>\n",
       "  <th>Df Residuals:</th>          <td> 21592</td>      <th>  BIC:               </th>  <td>5.985e+05</td> \n",
       "</tr>\n",
       "<tr>\n",
       "  <th>Df Model:</th>              <td>     3</td>      <th>                     </th>      <td> </td>     \n",
       "</tr>\n",
       "<tr>\n",
       "  <th>Covariance Type:</th>      <td>nonrobust</td>    <th>                     </th>      <td> </td>     \n",
       "</tr>\n",
       "</table>\n",
       "<table class=\"simpletable\">\n",
       "<tr>\n",
       "       <td></td>          <th>coef</th>     <th>std err</th>      <th>t</th>      <th>P>|t|</th>  <th>[0.025</th>    <th>0.975]</th>  \n",
       "</tr>\n",
       "<tr>\n",
       "  <th>const</th>       <td>-3.739e+04</td> <td> 4291.221</td> <td>   -8.713</td> <td> 0.000</td> <td>-4.58e+04</td> <td> -2.9e+04</td>\n",
       "</tr>\n",
       "<tr>\n",
       "  <th>sqft_living</th> <td>  270.0042</td> <td>    1.914</td> <td>  141.083</td> <td> 0.000</td> <td>  266.253</td> <td>  273.755</td>\n",
       "</tr>\n",
       "<tr>\n",
       "  <th>waterfront</th>  <td> 8.623e+05</td> <td>  2.1e+04</td> <td>   41.021</td> <td> 0.000</td> <td> 8.21e+05</td> <td> 9.03e+05</td>\n",
       "</tr>\n",
       "<tr>\n",
       "  <th>basement</th>    <td> 2.636e+04</td> <td> 3593.738</td> <td>    7.336</td> <td> 0.000</td> <td> 1.93e+04</td> <td> 3.34e+04</td>\n",
       "</tr>\n",
       "</table>\n",
       "<table class=\"simpletable\">\n",
       "<tr>\n",
       "  <th>Omnibus:</th>       <td>13465.033</td> <th>  Durbin-Watson:     </th>  <td>   1.977</td> \n",
       "</tr>\n",
       "<tr>\n",
       "  <th>Prob(Omnibus):</th>  <td> 0.000</td>   <th>  Jarque-Bera (JB):  </th> <td>443794.142</td>\n",
       "</tr>\n",
       "<tr>\n",
       "  <th>Skew:</th>           <td> 2.477</td>   <th>  Prob(JB):          </th>  <td>    0.00</td> \n",
       "</tr>\n",
       "<tr>\n",
       "  <th>Kurtosis:</th>       <td>24.648</td>   <th>  Cond. No.          </th>  <td>2.79e+04</td> \n",
       "</tr>\n",
       "</table><br/><br/>Warnings:<br/>[1] Standard Errors assume that the covariance matrix of the errors is correctly specified.<br/>[2] The condition number is large, 2.79e+04. This might indicate that there are<br/>strong multicollinearity or other numerical problems."
      ],
      "text/plain": [
       "<class 'statsmodels.iolib.summary.Summary'>\n",
       "\"\"\"\n",
       "                            OLS Regression Results                            \n",
       "==============================================================================\n",
       "Dep. Variable:                  price   R-squared:                       0.531\n",
       "Model:                            OLS   Adj. R-squared:                  0.531\n",
       "Method:                 Least Squares   F-statistic:                     8139.\n",
       "Date:                Fri, 27 Mar 2020   Prob (F-statistic):               0.00\n",
       "Time:                        10:43:45   Log-Likelihood:            -2.9921e+05\n",
       "No. Observations:               21596   AIC:                         5.984e+05\n",
       "Df Residuals:                   21592   BIC:                         5.985e+05\n",
       "Df Model:                           3                                         \n",
       "Covariance Type:            nonrobust                                         \n",
       "===============================================================================\n",
       "                  coef    std err          t      P>|t|      [0.025      0.975]\n",
       "-------------------------------------------------------------------------------\n",
       "const       -3.739e+04   4291.221     -8.713      0.000   -4.58e+04    -2.9e+04\n",
       "sqft_living   270.0042      1.914    141.083      0.000     266.253     273.755\n",
       "waterfront   8.623e+05    2.1e+04     41.021      0.000    8.21e+05    9.03e+05\n",
       "basement     2.636e+04   3593.738      7.336      0.000    1.93e+04    3.34e+04\n",
       "==============================================================================\n",
       "Omnibus:                    13465.033   Durbin-Watson:                   1.977\n",
       "Prob(Omnibus):                  0.000   Jarque-Bera (JB):           443794.142\n",
       "Skew:                           2.477   Prob(JB):                         0.00\n",
       "Kurtosis:                      24.648   Cond. No.                     2.79e+04\n",
       "==============================================================================\n",
       "\n",
       "Warnings:\n",
       "[1] Standard Errors assume that the covariance matrix of the errors is correctly specified.\n",
       "[2] The condition number is large, 2.79e+04. This might indicate that there are\n",
       "strong multicollinearity or other numerical problems.\n",
       "\"\"\""
      ]
     },
     "execution_count": 88,
     "metadata": {},
     "output_type": "execute_result"
    }
   ],
   "source": [
    "#Running the regression with the selected features\n",
    "X_const = sm.add_constant(X1)\n",
    "model_sm = sm.OLS(y1, X_const)\n",
    "results_1 = model_sm.fit()\n",
    "results_1.summary()"
   ]
  },
  {
   "cell_type": "code",
   "execution_count": 90,
   "metadata": {},
   "outputs": [
    {
     "name": "stdout",
     "output_type": "stream",
     "text": [
      "const          -37390.496231\n",
      "sqft_living       270.004228\n",
      "waterfront     862256.800839\n",
      "basement        26363.184368\n",
      "dtype: float64\n"
     ]
    }
   ],
   "source": [
    "print(results_1.params)"
   ]
  },
  {
   "cell_type": "markdown",
   "metadata": {},
   "source": [
    "\n",
    "\n",
    "$price = 270 * \\beta_{sqft_living} + 862,256 * \\beta_{waterfront} + 26,363 * \\beta_{basement} - 37,390$\n",
    "\n",
    "\n"
   ]
  },
  {
   "cell_type": "code",
   "execution_count": 723,
   "metadata": {},
   "outputs": [
    {
     "data": {
      "image/png": "[encoded data removed]",
      "text/plain": [
       "<Figure size 720x432 with 1 Axes>"
      ]
     },
     "metadata": {
      "needs_background": "light"
     },
     "output_type": "display_data"
    }
   ],
   "source": [
    "plt.figure(figsize=(10,6))\n",
    "sns.regplot(results.resid, y1)\n",
    "plt.show('Diagnostic Plot')\n",
    "plt.show()"
   ]
  },
  {
   "cell_type": "markdown",
   "metadata": {},
   "source": [
    "We have run a few iterations of the model. These can be found in the Appendix."
   ]
  },
  {
   "cell_type": "markdown",
   "metadata": {},
   "source": [
    "## Final Model"
   ]
  },
  {
   "cell_type": "markdown",
   "metadata": {},
   "source": [
    "Following multiple iterations, we have found that sqft_living, basement, grade and waterfront provides the best regression fit. We will explore this in more detail below."
   ]
  },
  {
   "cell_type": "code",
   "execution_count": null,
   "metadata": {},
   "outputs": [],
   "source": [
    "X9 = df_merged[['sqft_living','renovate_15','waterfront','yr_built']]\n",
    "y9 = df_merged['price']"
   ]
  },
  {
   "cell_type": "code",
   "execution_count": 685,
   "metadata": {},
   "outputs": [],
   "source": [
    "#Setting up X10 and y10 variables\n",
    "X10 = df_merged[['sqft_living','renovate_15','waterfront','yr_built']]\n",
    "y10 = df_merged['price']"
   ]
  },
  {
   "cell_type": "code",
   "execution_count": 686,
   "metadata": {},
   "outputs": [
    {
     "data": {
      "text/html": [
       "<table class=\"simpletable\">\n",
       "<caption>OLS Regression Results</caption>\n",
       "<tr>\n",
       "  <th>Dep. Variable:</th>          <td>price</td>      <th>  R-squared:         </th>  <td>   0.559</td>  \n",
       "</tr>\n",
       "<tr>\n",
       "  <th>Model:</th>                   <td>OLS</td>       <th>  Adj. R-squared:    </th>  <td>   0.559</td>  \n",
       "</tr>\n",
       "<tr>\n",
       "  <th>Method:</th>             <td>Least Squares</td>  <th>  F-statistic:       </th>  <td>   6853.</td>  \n",
       "</tr>\n",
       "<tr>\n",
       "  <th>Date:</th>             <td>Fri, 27 Mar 2020</td> <th>  Prob (F-statistic):</th>   <td>  0.00</td>   \n",
       "</tr>\n",
       "<tr>\n",
       "  <th>Time:</th>                 <td>03:33:12</td>     <th>  Log-Likelihood:    </th> <td>-2.9851e+05</td>\n",
       "</tr>\n",
       "<tr>\n",
       "  <th>No. Observations:</th>      <td> 21595</td>      <th>  AIC:               </th>  <td>5.970e+05</td> \n",
       "</tr>\n",
       "<tr>\n",
       "  <th>Df Residuals:</th>          <td> 21590</td>      <th>  BIC:               </th>  <td>5.971e+05</td> \n",
       "</tr>\n",
       "<tr>\n",
       "  <th>Df Model:</th>              <td>     4</td>      <th>                     </th>      <td> </td>     \n",
       "</tr>\n",
       "<tr>\n",
       "  <th>Covariance Type:</th>      <td>nonrobust</td>    <th>                     </th>      <td> </td>     \n",
       "</tr>\n",
       "</table>\n",
       "<table class=\"simpletable\">\n",
       "<tr>\n",
       "       <td></td>          <th>coef</th>     <th>std err</th>      <th>t</th>      <th>P>|t|</th>  <th>[0.025</th>    <th>0.975]</th>  \n",
       "</tr>\n",
       "<tr>\n",
       "  <th>const</th>       <td> 4.103e+06</td> <td> 1.18e+05</td> <td>   34.828</td> <td> 0.000</td> <td> 3.87e+06</td> <td> 4.33e+06</td>\n",
       "</tr>\n",
       "<tr>\n",
       "  <th>sqft_living</th> <td>  293.9264</td> <td>    1.929</td> <td>  152.348</td> <td> 0.000</td> <td>  290.145</td> <td>  297.708</td>\n",
       "</tr>\n",
       "<tr>\n",
       "  <th>renovate_15</th> <td> 1.241e+05</td> <td> 1.28e+04</td> <td>    9.692</td> <td> 0.000</td> <td>  9.9e+04</td> <td> 1.49e+05</td>\n",
       "</tr>\n",
       "<tr>\n",
       "  <th>waterfront</th>  <td> 8.188e+05</td> <td> 2.04e+04</td> <td>   40.132</td> <td> 0.000</td> <td> 7.79e+05</td> <td> 8.59e+05</td>\n",
       "</tr>\n",
       "<tr>\n",
       "  <th>yr_built</th>    <td>-2121.9655</td> <td>   60.396</td> <td>  -35.134</td> <td> 0.000</td> <td>-2240.347</td> <td>-2003.584</td>\n",
       "</tr>\n",
       "</table>\n",
       "<table class=\"simpletable\">\n",
       "<tr>\n",
       "  <th>Omnibus:</th>       <td>12947.000</td> <th>  Durbin-Watson:     </th>  <td>   1.966</td> \n",
       "</tr>\n",
       "<tr>\n",
       "  <th>Prob(Omnibus):</th>  <td> 0.000</td>   <th>  Jarque-Bera (JB):  </th> <td>416324.977</td>\n",
       "</tr>\n",
       "<tr>\n",
       "  <th>Skew:</th>           <td> 2.345</td>   <th>  Prob(JB):          </th>  <td>    0.00</td> \n",
       "</tr>\n",
       "<tr>\n",
       "  <th>Kurtosis:</th>       <td>23.993</td>   <th>  Cond. No.          </th>  <td>2.09e+05</td> \n",
       "</tr>\n",
       "</table><br/><br/>Warnings:<br/>[1] Standard Errors assume that the covariance matrix of the errors is correctly specified.<br/>[2] The condition number is large, 2.09e+05. This might indicate that there are<br/>strong multicollinearity or other numerical problems."
      ],
      "text/plain": [
       "<class 'statsmodels.iolib.summary.Summary'>\n",
       "\"\"\"\n",
       "                            OLS Regression Results                            \n",
       "==============================================================================\n",
       "Dep. Variable:                  price   R-squared:                       0.559\n",
       "Model:                            OLS   Adj. R-squared:                  0.559\n",
       "Method:                 Least Squares   F-statistic:                     6853.\n",
       "Date:                Fri, 27 Mar 2020   Prob (F-statistic):               0.00\n",
       "Time:                        03:33:12   Log-Likelihood:            -2.9851e+05\n",
       "No. Observations:               21595   AIC:                         5.970e+05\n",
       "Df Residuals:                   21590   BIC:                         5.971e+05\n",
       "Df Model:                           4                                         \n",
       "Covariance Type:            nonrobust                                         \n",
       "===============================================================================\n",
       "                  coef    std err          t      P>|t|      [0.025      0.975]\n",
       "-------------------------------------------------------------------------------\n",
       "const        4.103e+06   1.18e+05     34.828      0.000    3.87e+06    4.33e+06\n",
       "sqft_living   293.9264      1.929    152.348      0.000     290.145     297.708\n",
       "renovate_15  1.241e+05   1.28e+04      9.692      0.000     9.9e+04    1.49e+05\n",
       "waterfront   8.188e+05   2.04e+04     40.132      0.000    7.79e+05    8.59e+05\n",
       "yr_built    -2121.9655     60.396    -35.134      0.000   -2240.347   -2003.584\n",
       "==============================================================================\n",
       "Omnibus:                    12947.000   Durbin-Watson:                   1.966\n",
       "Prob(Omnibus):                  0.000   Jarque-Bera (JB):           416324.977\n",
       "Skew:                           2.345   Prob(JB):                         0.00\n",
       "Kurtosis:                      23.993   Cond. No.                     2.09e+05\n",
       "==============================================================================\n",
       "\n",
       "Warnings:\n",
       "[1] Standard Errors assume that the covariance matrix of the errors is correctly specified.\n",
       "[2] The condition number is large, 2.09e+05. This might indicate that there are\n",
       "strong multicollinearity or other numerical problems.\n",
       "\"\"\""
      ]
     },
     "execution_count": 686,
     "metadata": {},
     "output_type": "execute_result"
    }
   ],
   "source": [
    "#Running the regression using these 2 variables\n",
    "X_const = sm.add_constant(X10)\n",
    "model_sm = sm.OLS(y10, X_const)\n",
    "results_10 = model_sm.fit()\n",
    "results_10.summary()"
   ]
  },
  {
   "cell_type": "code",
   "execution_count": 687,
   "metadata": {},
   "outputs": [
    {
     "name": "stdout",
     "output_type": "stream",
     "text": [
      "const          4.103498e+06\n",
      "sqft_living    2.939264e+02\n",
      "renovate_15    1.240775e+05\n",
      "waterfront     8.187907e+05\n",
      "yr_built      -2.121966e+03\n",
      "dtype: float64\n"
     ]
    }
   ],
   "source": [
    "print(results_10.params)"
   ]
  },
  {
   "cell_type": "markdown",
   "metadata": {},
   "source": [
    "In our Final model the coefs are:\n",
    "\n",
    "$price = 293 * \\beta_{sqft_living} + 124,077 * \\beta_{renovate_15} + 818,790 * \\beta_{waterfront} - 26,368 * \\beta_{yr_built} + 4,100,000$\n",
    "\n",
    "This means that for every sqft that is added to the property, the property price will go up by USD 293, for every unit increase in renovate_15 it goes up by USD 124,077, by USD26,368 if it is a waterfront property and it goes down in value by USD 2,121 each year.\n"
   ]
  },
  {
   "cell_type": "code",
   "execution_count": 724,
   "metadata": {},
   "outputs": [
    {
     "data": {
      "image/png": "[encoded data removed]",
      "text/plain": [
       "<Figure size 720x432 with 1 Axes>"
      ]
     },
     "metadata": {
      "needs_background": "light"
     },
     "output_type": "display_data"
    }
   ],
   "source": [
    "plt.figure(figsize=(10,6))\n",
    "sns.regplot(results_10.resid, y1)\n",
    "plt.show('Diagnostic Plot')\n",
    "plt.show()"
   ]
  },
  {
   "cell_type": "markdown",
   "metadata": {},
   "source": [
    "The features in X10 provides an improved R-squared value of 0.576. We will now run these features through the test-train split to see if the model suggests low bias."
   ]
  },
  {
   "cell_type": "markdown",
   "metadata": {},
   "source": [
    "## Training Data Set"
   ]
  },
  {
   "cell_type": "code",
   "execution_count": 690,
   "metadata": {},
   "outputs": [],
   "source": [
    "X14 = X_train[['sqft_living','renovate_15','waterfront','yr_built']]\n",
    "y14 = y_train"
   ]
  },
  {
   "cell_type": "code",
   "execution_count": 691,
   "metadata": {},
   "outputs": [
    {
     "data": {
      "text/html": [
       "<table class=\"simpletable\">\n",
       "<caption>OLS Regression Results</caption>\n",
       "<tr>\n",
       "  <th>Dep. Variable:</th>          <td>price</td>      <th>  R-squared:         </th>  <td>   0.568</td>  \n",
       "</tr>\n",
       "<tr>\n",
       "  <th>Model:</th>                   <td>OLS</td>       <th>  Adj. R-squared:    </th>  <td>   0.568</td>  \n",
       "</tr>\n",
       "<tr>\n",
       "  <th>Method:</th>             <td>Least Squares</td>  <th>  F-statistic:       </th>  <td>   5681.</td>  \n",
       "</tr>\n",
       "<tr>\n",
       "  <th>Date:</th>             <td>Fri, 27 Mar 2020</td> <th>  Prob (F-statistic):</th>   <td>  0.00</td>   \n",
       "</tr>\n",
       "<tr>\n",
       "  <th>Time:</th>                 <td>03:42:47</td>     <th>  Log-Likelihood:    </th> <td>-2.3895e+05</td>\n",
       "</tr>\n",
       "<tr>\n",
       "  <th>No. Observations:</th>      <td> 17276</td>      <th>  AIC:               </th>  <td>4.779e+05</td> \n",
       "</tr>\n",
       "<tr>\n",
       "  <th>Df Residuals:</th>          <td> 17271</td>      <th>  BIC:               </th>  <td>4.779e+05</td> \n",
       "</tr>\n",
       "<tr>\n",
       "  <th>Df Model:</th>              <td>     4</td>      <th>                     </th>      <td> </td>     \n",
       "</tr>\n",
       "<tr>\n",
       "  <th>Covariance Type:</th>      <td>nonrobust</td>    <th>                     </th>      <td> </td>     \n",
       "</tr>\n",
       "</table>\n",
       "<table class=\"simpletable\">\n",
       "<tr>\n",
       "       <td></td>          <th>coef</th>     <th>std err</th>      <th>t</th>      <th>P>|t|</th>  <th>[0.025</th>    <th>0.975]</th>  \n",
       "</tr>\n",
       "<tr>\n",
       "  <th>const</th>       <td> 4.097e+06</td> <td> 1.33e+05</td> <td>   30.909</td> <td> 0.000</td> <td> 3.84e+06</td> <td> 4.36e+06</td>\n",
       "</tr>\n",
       "<tr>\n",
       "  <th>sqft_living</th> <td>  298.8395</td> <td>    2.163</td> <td>  138.162</td> <td> 0.000</td> <td>  294.600</td> <td>  303.079</td>\n",
       "</tr>\n",
       "<tr>\n",
       "  <th>renovate_15</th> <td> 1.419e+05</td> <td> 1.45e+04</td> <td>    9.792</td> <td> 0.000</td> <td> 1.13e+05</td> <td>  1.7e+05</td>\n",
       "</tr>\n",
       "<tr>\n",
       "  <th>waterfront</th>  <td> 8.634e+05</td> <td> 2.37e+04</td> <td>   36.403</td> <td> 0.000</td> <td> 8.17e+05</td> <td>  9.1e+05</td>\n",
       "</tr>\n",
       "<tr>\n",
       "  <th>yr_built</th>    <td>-2123.2576</td> <td>   67.947</td> <td>  -31.249</td> <td> 0.000</td> <td>-2256.441</td> <td>-1990.074</td>\n",
       "</tr>\n",
       "</table>\n",
       "<table class=\"simpletable\">\n",
       "<tr>\n",
       "  <th>Omnibus:</th>       <td>10489.097</td> <th>  Durbin-Watson:     </th>  <td>   1.994</td> \n",
       "</tr>\n",
       "<tr>\n",
       "  <th>Prob(Omnibus):</th>  <td> 0.000</td>   <th>  Jarque-Bera (JB):  </th> <td>347952.372</td>\n",
       "</tr>\n",
       "<tr>\n",
       "  <th>Skew:</th>           <td> 2.377</td>   <th>  Prob(JB):          </th>  <td>    0.00</td> \n",
       "</tr>\n",
       "<tr>\n",
       "  <th>Kurtosis:</th>       <td>24.466</td>   <th>  Cond. No.          </th>  <td>2.09e+05</td> \n",
       "</tr>\n",
       "</table><br/><br/>Warnings:<br/>[1] Standard Errors assume that the covariance matrix of the errors is correctly specified.<br/>[2] The condition number is large, 2.09e+05. This might indicate that there are<br/>strong multicollinearity or other numerical problems."
      ],
      "text/plain": [
       "<class 'statsmodels.iolib.summary.Summary'>\n",
       "\"\"\"\n",
       "                            OLS Regression Results                            \n",
       "==============================================================================\n",
       "Dep. Variable:                  price   R-squared:                       0.568\n",
       "Model:                            OLS   Adj. R-squared:                  0.568\n",
       "Method:                 Least Squares   F-statistic:                     5681.\n",
       "Date:                Fri, 27 Mar 2020   Prob (F-statistic):               0.00\n",
       "Time:                        03:42:47   Log-Likelihood:            -2.3895e+05\n",
       "No. Observations:               17276   AIC:                         4.779e+05\n",
       "Df Residuals:                   17271   BIC:                         4.779e+05\n",
       "Df Model:                           4                                         \n",
       "Covariance Type:            nonrobust                                         \n",
       "===============================================================================\n",
       "                  coef    std err          t      P>|t|      [0.025      0.975]\n",
       "-------------------------------------------------------------------------------\n",
       "const        4.097e+06   1.33e+05     30.909      0.000    3.84e+06    4.36e+06\n",
       "sqft_living   298.8395      2.163    138.162      0.000     294.600     303.079\n",
       "renovate_15  1.419e+05   1.45e+04      9.792      0.000    1.13e+05     1.7e+05\n",
       "waterfront   8.634e+05   2.37e+04     36.403      0.000    8.17e+05     9.1e+05\n",
       "yr_built    -2123.2576     67.947    -31.249      0.000   -2256.441   -1990.074\n",
       "==============================================================================\n",
       "Omnibus:                    10489.097   Durbin-Watson:                   1.994\n",
       "Prob(Omnibus):                  0.000   Jarque-Bera (JB):           347952.372\n",
       "Skew:                           2.377   Prob(JB):                         0.00\n",
       "Kurtosis:                      24.466   Cond. No.                     2.09e+05\n",
       "==============================================================================\n",
       "\n",
       "Warnings:\n",
       "[1] Standard Errors assume that the covariance matrix of the errors is correctly specified.\n",
       "[2] The condition number is large, 2.09e+05. This might indicate that there are\n",
       "strong multicollinearity or other numerical problems.\n",
       "\"\"\""
      ]
     },
     "execution_count": 691,
     "metadata": {},
     "output_type": "execute_result"
    }
   ],
   "source": [
    "X_const = sm.add_constant(X14)\n",
    "model_sm = sm.OLS(y14, X_const)\n",
    "results_14 = model_sm.fit()\n",
    "results_14.summary()"
   ]
  },
  {
   "cell_type": "markdown",
   "metadata": {},
   "source": [
    "## Test Data Set"
   ]
  },
  {
   "cell_type": "code",
   "execution_count": 695,
   "metadata": {},
   "outputs": [],
   "source": [
    "X15 = X_test[['sqft_living','renovate_15','waterfront','yr_built']]\n",
    "y15 = y_test"
   ]
  },
  {
   "cell_type": "code",
   "execution_count": 696,
   "metadata": {},
   "outputs": [
    {
     "data": {
      "text/html": [
       "<table class=\"simpletable\">\n",
       "<caption>OLS Regression Results</caption>\n",
       "<tr>\n",
       "  <th>Dep. Variable:</th>          <td>price</td>      <th>  R-squared:         </th> <td>   0.524</td> \n",
       "</tr>\n",
       "<tr>\n",
       "  <th>Model:</th>                   <td>OLS</td>       <th>  Adj. R-squared:    </th> <td>   0.524</td> \n",
       "</tr>\n",
       "<tr>\n",
       "  <th>Method:</th>             <td>Least Squares</td>  <th>  F-statistic:       </th> <td>   1189.</td> \n",
       "</tr>\n",
       "<tr>\n",
       "  <th>Date:</th>             <td>Fri, 27 Mar 2020</td> <th>  Prob (F-statistic):</th>  <td>  0.00</td>  \n",
       "</tr>\n",
       "<tr>\n",
       "  <th>Time:</th>                 <td>03:45:05</td>     <th>  Log-Likelihood:    </th> <td> -59523.</td> \n",
       "</tr>\n",
       "<tr>\n",
       "  <th>No. Observations:</th>      <td>  4319</td>      <th>  AIC:               </th> <td>1.191e+05</td>\n",
       "</tr>\n",
       "<tr>\n",
       "  <th>Df Residuals:</th>          <td>  4314</td>      <th>  BIC:               </th> <td>1.191e+05</td>\n",
       "</tr>\n",
       "<tr>\n",
       "  <th>Df Model:</th>              <td>     4</td>      <th>                     </th>     <td> </td>    \n",
       "</tr>\n",
       "<tr>\n",
       "  <th>Covariance Type:</th>      <td>nonrobust</td>    <th>                     </th>     <td> </td>    \n",
       "</tr>\n",
       "</table>\n",
       "<table class=\"simpletable\">\n",
       "<tr>\n",
       "       <td></td>          <th>coef</th>     <th>std err</th>      <th>t</th>      <th>P>|t|</th>  <th>[0.025</th>    <th>0.975]</th>  \n",
       "</tr>\n",
       "<tr>\n",
       "  <th>const</th>       <td> 4.105e+06</td> <td> 2.55e+05</td> <td>   16.105</td> <td> 0.000</td> <td> 3.61e+06</td> <td>  4.6e+06</td>\n",
       "</tr>\n",
       "<tr>\n",
       "  <th>sqft_living</th> <td>  272.1359</td> <td>    4.239</td> <td>   64.191</td> <td> 0.000</td> <td>  263.824</td> <td>  280.447</td>\n",
       "</tr>\n",
       "<tr>\n",
       "  <th>renovate_15</th> <td> 5.948e+04</td> <td>  2.7e+04</td> <td>    2.201</td> <td> 0.028</td> <td> 6488.778</td> <td> 1.12e+05</td>\n",
       "</tr>\n",
       "<tr>\n",
       "  <th>waterfront</th>  <td> 6.784e+05</td> <td> 3.93e+04</td> <td>   17.244</td> <td> 0.000</td> <td> 6.01e+05</td> <td> 7.56e+05</td>\n",
       "</tr>\n",
       "<tr>\n",
       "  <th>yr_built</th>    <td>-2102.0338</td> <td>  130.648</td> <td>  -16.089</td> <td> 0.000</td> <td>-2358.171</td> <td>-1845.897</td>\n",
       "</tr>\n",
       "</table>\n",
       "<table class=\"simpletable\">\n",
       "<tr>\n",
       "  <th>Omnibus:</th>       <td>2310.947</td> <th>  Durbin-Watson:     </th> <td>   2.070</td> \n",
       "</tr>\n",
       "<tr>\n",
       "  <th>Prob(Omnibus):</th>  <td> 0.000</td>  <th>  Jarque-Bera (JB):  </th> <td>51047.786</td>\n",
       "</tr>\n",
       "<tr>\n",
       "  <th>Skew:</th>           <td> 2.076</td>  <th>  Prob(JB):          </th> <td>    0.00</td> \n",
       "</tr>\n",
       "<tr>\n",
       "  <th>Kurtosis:</th>       <td>19.323</td>  <th>  Cond. No.          </th> <td>2.11e+05</td> \n",
       "</tr>\n",
       "</table><br/><br/>Warnings:<br/>[1] Standard Errors assume that the covariance matrix of the errors is correctly specified.<br/>[2] The condition number is large, 2.11e+05. This might indicate that there are<br/>strong multicollinearity or other numerical problems."
      ],
      "text/plain": [
       "<class 'statsmodels.iolib.summary.Summary'>\n",
       "\"\"\"\n",
       "                            OLS Regression Results                            \n",
       "==============================================================================\n",
       "Dep. Variable:                  price   R-squared:                       0.524\n",
       "Model:                            OLS   Adj. R-squared:                  0.524\n",
       "Method:                 Least Squares   F-statistic:                     1189.\n",
       "Date:                Fri, 27 Mar 2020   Prob (F-statistic):               0.00\n",
       "Time:                        03:45:05   Log-Likelihood:                -59523.\n",
       "No. Observations:                4319   AIC:                         1.191e+05\n",
       "Df Residuals:                    4314   BIC:                         1.191e+05\n",
       "Df Model:                           4                                         \n",
       "Covariance Type:            nonrobust                                         \n",
       "===============================================================================\n",
       "                  coef    std err          t      P>|t|      [0.025      0.975]\n",
       "-------------------------------------------------------------------------------\n",
       "const        4.105e+06   2.55e+05     16.105      0.000    3.61e+06     4.6e+06\n",
       "sqft_living   272.1359      4.239     64.191      0.000     263.824     280.447\n",
       "renovate_15  5.948e+04    2.7e+04      2.201      0.028    6488.778    1.12e+05\n",
       "waterfront   6.784e+05   3.93e+04     17.244      0.000    6.01e+05    7.56e+05\n",
       "yr_built    -2102.0338    130.648    -16.089      0.000   -2358.171   -1845.897\n",
       "==============================================================================\n",
       "Omnibus:                     2310.947   Durbin-Watson:                   2.070\n",
       "Prob(Omnibus):                  0.000   Jarque-Bera (JB):            51047.786\n",
       "Skew:                           2.076   Prob(JB):                         0.00\n",
       "Kurtosis:                      19.323   Cond. No.                     2.11e+05\n",
       "==============================================================================\n",
       "\n",
       "Warnings:\n",
       "[1] Standard Errors assume that the covariance matrix of the errors is correctly specified.\n",
       "[2] The condition number is large, 2.11e+05. This might indicate that there are\n",
       "strong multicollinearity or other numerical problems.\n",
       "\"\"\""
      ]
     },
     "execution_count": 696,
     "metadata": {},
     "output_type": "execute_result"
    }
   ],
   "source": [
    "X_const = sm.add_constant(X15)\n",
    "model_sm = sm.OLS(y15, X_const)\n",
    "results_15 = model_sm.fit()\n",
    "results_15.summary()"
   ]
  },
  {
   "cell_type": "markdown",
   "metadata": {},
   "source": [
    "Our Training Dataset gave us an R-Squared value of 0.568 and the Test Dataset R-Squared of 0.524. This is compared to an R-Squared of 0.559 on the Final Model we had run previously."
   ]
  },
  {
   "cell_type": "markdown",
   "metadata": {},
   "source": [
    "## Appendix of Regression Model Iterations:"
   ]
  },
  {
   "cell_type": "code",
   "execution_count": 698,
   "metadata": {},
   "outputs": [],
   "source": [
    "X2 = X_train[['sqft_living','waterfront','basement']]\n",
    "y2 = y_train"
   ]
  },
  {
   "cell_type": "code",
   "execution_count": 699,
   "metadata": {},
   "outputs": [
    {
     "data": {
      "text/html": [
       "<table class=\"simpletable\">\n",
       "<caption>OLS Regression Results</caption>\n",
       "<tr>\n",
       "  <th>Dep. Variable:</th>          <td>price</td>      <th>  R-squared:         </th>  <td>   0.540</td>  \n",
       "</tr>\n",
       "<tr>\n",
       "  <th>Model:</th>                   <td>OLS</td>       <th>  Adj. R-squared:    </th>  <td>   0.539</td>  \n",
       "</tr>\n",
       "<tr>\n",
       "  <th>Method:</th>             <td>Least Squares</td>  <th>  F-statistic:       </th>  <td>   6747.</td>  \n",
       "</tr>\n",
       "<tr>\n",
       "  <th>Date:</th>             <td>Fri, 27 Mar 2020</td> <th>  Prob (F-statistic):</th>   <td>  0.00</td>   \n",
       "</tr>\n",
       "<tr>\n",
       "  <th>Time:</th>                 <td>03:48:08</td>     <th>  Log-Likelihood:    </th> <td>-2.3950e+05</td>\n",
       "</tr>\n",
       "<tr>\n",
       "  <th>No. Observations:</th>      <td> 17276</td>      <th>  AIC:               </th>  <td>4.790e+05</td> \n",
       "</tr>\n",
       "<tr>\n",
       "  <th>Df Residuals:</th>          <td> 17272</td>      <th>  BIC:               </th>  <td>4.790e+05</td> \n",
       "</tr>\n",
       "<tr>\n",
       "  <th>Df Model:</th>              <td>     3</td>      <th>                     </th>      <td> </td>     \n",
       "</tr>\n",
       "<tr>\n",
       "  <th>Covariance Type:</th>      <td>nonrobust</td>    <th>                     </th>      <td> </td>     \n",
       "</tr>\n",
       "</table>\n",
       "<table class=\"simpletable\">\n",
       "<tr>\n",
       "       <td></td>          <th>coef</th>     <th>std err</th>      <th>t</th>      <th>P>|t|</th>  <th>[0.025</th>    <th>0.975]</th>  \n",
       "</tr>\n",
       "<tr>\n",
       "  <th>const</th>       <td>-4.595e+04</td> <td> 4819.810</td> <td>   -9.534</td> <td> 0.000</td> <td>-5.54e+04</td> <td>-3.65e+04</td>\n",
       "</tr>\n",
       "<tr>\n",
       "  <th>sqft_living</th> <td>  275.0616</td> <td>    2.148</td> <td>  128.034</td> <td> 0.000</td> <td>  270.851</td> <td>  279.273</td>\n",
       "</tr>\n",
       "<tr>\n",
       "  <th>waterfront</th>  <td> 9.114e+05</td> <td> 2.44e+04</td> <td>   37.288</td> <td> 0.000</td> <td> 8.64e+05</td> <td> 9.59e+05</td>\n",
       "</tr>\n",
       "<tr>\n",
       "  <th>basement</th>    <td> 2.553e+04</td> <td> 4051.064</td> <td>    6.303</td> <td> 0.000</td> <td> 1.76e+04</td> <td> 3.35e+04</td>\n",
       "</tr>\n",
       "</table>\n",
       "<table class=\"simpletable\">\n",
       "<tr>\n",
       "  <th>Omnibus:</th>       <td>10946.000</td> <th>  Durbin-Watson:     </th>  <td>   1.984</td> \n",
       "</tr>\n",
       "<tr>\n",
       "  <th>Prob(Omnibus):</th>  <td> 0.000</td>   <th>  Jarque-Bera (JB):  </th> <td>376439.000</td>\n",
       "</tr>\n",
       "<tr>\n",
       "  <th>Skew:</th>           <td> 2.521</td>   <th>  Prob(JB):          </th>  <td>    0.00</td> \n",
       "</tr>\n",
       "<tr>\n",
       "  <th>Kurtosis:</th>       <td>25.305</td>   <th>  Cond. No.          </th>  <td>2.88e+04</td> \n",
       "</tr>\n",
       "</table><br/><br/>Warnings:<br/>[1] Standard Errors assume that the covariance matrix of the errors is correctly specified.<br/>[2] The condition number is large, 2.88e+04. This might indicate that there are<br/>strong multicollinearity or other numerical problems."
      ],
      "text/plain": [
       "<class 'statsmodels.iolib.summary.Summary'>\n",
       "\"\"\"\n",
       "                            OLS Regression Results                            \n",
       "==============================================================================\n",
       "Dep. Variable:                  price   R-squared:                       0.540\n",
       "Model:                            OLS   Adj. R-squared:                  0.539\n",
       "Method:                 Least Squares   F-statistic:                     6747.\n",
       "Date:                Fri, 27 Mar 2020   Prob (F-statistic):               0.00\n",
       "Time:                        03:48:08   Log-Likelihood:            -2.3950e+05\n",
       "No. Observations:               17276   AIC:                         4.790e+05\n",
       "Df Residuals:                   17272   BIC:                         4.790e+05\n",
       "Df Model:                           3                                         \n",
       "Covariance Type:            nonrobust                                         \n",
       "===============================================================================\n",
       "                  coef    std err          t      P>|t|      [0.025      0.975]\n",
       "-------------------------------------------------------------------------------\n",
       "const       -4.595e+04   4819.810     -9.534      0.000   -5.54e+04   -3.65e+04\n",
       "sqft_living   275.0616      2.148    128.034      0.000     270.851     279.273\n",
       "waterfront   9.114e+05   2.44e+04     37.288      0.000    8.64e+05    9.59e+05\n",
       "basement     2.553e+04   4051.064      6.303      0.000    1.76e+04    3.35e+04\n",
       "==============================================================================\n",
       "Omnibus:                    10946.000   Durbin-Watson:                   1.984\n",
       "Prob(Omnibus):                  0.000   Jarque-Bera (JB):           376439.000\n",
       "Skew:                           2.521   Prob(JB):                         0.00\n",
       "Kurtosis:                      25.305   Cond. No.                     2.88e+04\n",
       "==============================================================================\n",
       "\n",
       "Warnings:\n",
       "[1] Standard Errors assume that the covariance matrix of the errors is correctly specified.\n",
       "[2] The condition number is large, 2.88e+04. This might indicate that there are\n",
       "strong multicollinearity or other numerical problems.\n",
       "\"\"\""
      ]
     },
     "execution_count": 699,
     "metadata": {},
     "output_type": "execute_result"
    }
   ],
   "source": [
    "regression(X2,y2)"
   ]
  },
  {
   "cell_type": "code",
   "execution_count": 700,
   "metadata": {},
   "outputs": [],
   "source": [
    "X3 = X_test[['sqft_living','waterfront','basement']]\n",
    "y3 = y_test"
   ]
  },
  {
   "cell_type": "code",
   "execution_count": 701,
   "metadata": {},
   "outputs": [
    {
     "data": {
      "text/html": [
       "<table class=\"simpletable\">\n",
       "<caption>OLS Regression Results</caption>\n",
       "<tr>\n",
       "  <th>Dep. Variable:</th>          <td>price</td>      <th>  R-squared:         </th> <td>   0.495</td> \n",
       "</tr>\n",
       "<tr>\n",
       "  <th>Model:</th>                   <td>OLS</td>       <th>  Adj. R-squared:    </th> <td>   0.494</td> \n",
       "</tr>\n",
       "<tr>\n",
       "  <th>Method:</th>             <td>Least Squares</td>  <th>  F-statistic:       </th> <td>   1409.</td> \n",
       "</tr>\n",
       "<tr>\n",
       "  <th>Date:</th>             <td>Fri, 27 Mar 2020</td> <th>  Prob (F-statistic):</th>  <td>  0.00</td>  \n",
       "</tr>\n",
       "<tr>\n",
       "  <th>Time:</th>                 <td>03:48:52</td>     <th>  Log-Likelihood:    </th> <td> -59653.</td> \n",
       "</tr>\n",
       "<tr>\n",
       "  <th>No. Observations:</th>      <td>  4319</td>      <th>  AIC:               </th> <td>1.193e+05</td>\n",
       "</tr>\n",
       "<tr>\n",
       "  <th>Df Residuals:</th>          <td>  4315</td>      <th>  BIC:               </th> <td>1.193e+05</td>\n",
       "</tr>\n",
       "<tr>\n",
       "  <th>Df Model:</th>              <td>     3</td>      <th>                     </th>     <td> </td>    \n",
       "</tr>\n",
       "<tr>\n",
       "  <th>Covariance Type:</th>      <td>nonrobust</td>    <th>                     </th>     <td> </td>    \n",
       "</tr>\n",
       "</table>\n",
       "<table class=\"simpletable\">\n",
       "<tr>\n",
       "       <td></td>          <th>coef</th>     <th>std err</th>      <th>t</th>      <th>P>|t|</th>  <th>[0.025</th>    <th>0.975]</th>  \n",
       "</tr>\n",
       "<tr>\n",
       "  <th>const</th>       <td> 1283.4662</td> <td> 9359.838</td> <td>    0.137</td> <td> 0.891</td> <td>-1.71e+04</td> <td> 1.96e+04</td>\n",
       "</tr>\n",
       "<tr>\n",
       "  <th>sqft_living</th> <td>  247.4868</td> <td>    4.186</td> <td>   59.126</td> <td> 0.000</td> <td>  239.281</td> <td>  255.693</td>\n",
       "</tr>\n",
       "<tr>\n",
       "  <th>waterfront</th>  <td> 7.081e+05</td> <td> 4.05e+04</td> <td>   17.478</td> <td> 0.000</td> <td> 6.29e+05</td> <td> 7.88e+05</td>\n",
       "</tr>\n",
       "<tr>\n",
       "  <th>basement</th>    <td> 3.047e+04</td> <td> 7715.360</td> <td>    3.949</td> <td> 0.000</td> <td> 1.53e+04</td> <td> 4.56e+04</td>\n",
       "</tr>\n",
       "</table>\n",
       "<table class=\"simpletable\">\n",
       "<tr>\n",
       "  <th>Omnibus:</th>       <td>2336.528</td> <th>  Durbin-Watson:     </th> <td>   2.090</td> \n",
       "</tr>\n",
       "<tr>\n",
       "  <th>Prob(Omnibus):</th>  <td> 0.000</td>  <th>  Jarque-Bera (JB):  </th> <td>47512.104</td>\n",
       "</tr>\n",
       "<tr>\n",
       "  <th>Skew:</th>           <td> 2.136</td>  <th>  Prob(JB):          </th> <td>    0.00</td> \n",
       "</tr>\n",
       "<tr>\n",
       "  <th>Kurtosis:</th>       <td>18.677</td>  <th>  Cond. No.          </th> <td>2.50e+04</td> \n",
       "</tr>\n",
       "</table><br/><br/>Warnings:<br/>[1] Standard Errors assume that the covariance matrix of the errors is correctly specified.<br/>[2] The condition number is large, 2.5e+04. This might indicate that there are<br/>strong multicollinearity or other numerical problems."
      ],
      "text/plain": [
       "<class 'statsmodels.iolib.summary.Summary'>\n",
       "\"\"\"\n",
       "                            OLS Regression Results                            \n",
       "==============================================================================\n",
       "Dep. Variable:                  price   R-squared:                       0.495\n",
       "Model:                            OLS   Adj. R-squared:                  0.494\n",
       "Method:                 Least Squares   F-statistic:                     1409.\n",
       "Date:                Fri, 27 Mar 2020   Prob (F-statistic):               0.00\n",
       "Time:                        03:48:52   Log-Likelihood:                -59653.\n",
       "No. Observations:                4319   AIC:                         1.193e+05\n",
       "Df Residuals:                    4315   BIC:                         1.193e+05\n",
       "Df Model:                           3                                         \n",
       "Covariance Type:            nonrobust                                         \n",
       "===============================================================================\n",
       "                  coef    std err          t      P>|t|      [0.025      0.975]\n",
       "-------------------------------------------------------------------------------\n",
       "const        1283.4662   9359.838      0.137      0.891   -1.71e+04    1.96e+04\n",
       "sqft_living   247.4868      4.186     59.126      0.000     239.281     255.693\n",
       "waterfront   7.081e+05   4.05e+04     17.478      0.000    6.29e+05    7.88e+05\n",
       "basement     3.047e+04   7715.360      3.949      0.000    1.53e+04    4.56e+04\n",
       "==============================================================================\n",
       "Omnibus:                     2336.528   Durbin-Watson:                   2.090\n",
       "Prob(Omnibus):                  0.000   Jarque-Bera (JB):            47512.104\n",
       "Skew:                           2.136   Prob(JB):                         0.00\n",
       "Kurtosis:                      18.677   Cond. No.                     2.50e+04\n",
       "==============================================================================\n",
       "\n",
       "Warnings:\n",
       "[1] Standard Errors assume that the covariance matrix of the errors is correctly specified.\n",
       "[2] The condition number is large, 2.5e+04. This might indicate that there are\n",
       "strong multicollinearity or other numerical problems.\n",
       "\"\"\""
      ]
     },
     "execution_count": 701,
     "metadata": {},
     "output_type": "execute_result"
    }
   ],
   "source": [
    "regression(X3,y3)"
   ]
  },
  {
   "cell_type": "code",
   "execution_count": 702,
   "metadata": {},
   "outputs": [],
   "source": [
    "X4 = df_merged[['sqft_living', 'sqft_above','renovate_15']]"
   ]
  },
  {
   "cell_type": "code",
   "execution_count": 703,
   "metadata": {},
   "outputs": [],
   "source": [
    "y4 = df_merged['price']"
   ]
  },
  {
   "cell_type": "code",
   "execution_count": 704,
   "metadata": {},
   "outputs": [
    {
     "data": {
      "text/html": [
       "<table class=\"simpletable\">\n",
       "<caption>OLS Regression Results</caption>\n",
       "<tr>\n",
       "  <th>Dep. Variable:</th>          <td>price</td>      <th>  R-squared:         </th>  <td>   0.498</td>  \n",
       "</tr>\n",
       "<tr>\n",
       "  <th>Model:</th>                   <td>OLS</td>       <th>  Adj. R-squared:    </th>  <td>   0.498</td>  \n",
       "</tr>\n",
       "<tr>\n",
       "  <th>Method:</th>             <td>Least Squares</td>  <th>  F-statistic:       </th>  <td>   7137.</td>  \n",
       "</tr>\n",
       "<tr>\n",
       "  <th>Date:</th>             <td>Fri, 27 Mar 2020</td> <th>  Prob (F-statistic):</th>   <td>  0.00</td>   \n",
       "</tr>\n",
       "<tr>\n",
       "  <th>Time:</th>                 <td>03:49:01</td>     <th>  Log-Likelihood:    </th> <td>-2.9992e+05</td>\n",
       "</tr>\n",
       "<tr>\n",
       "  <th>No. Observations:</th>      <td> 21595</td>      <th>  AIC:               </th>  <td>5.999e+05</td> \n",
       "</tr>\n",
       "<tr>\n",
       "  <th>Df Residuals:</th>          <td> 21591</td>      <th>  BIC:               </th>  <td>5.999e+05</td> \n",
       "</tr>\n",
       "<tr>\n",
       "  <th>Df Model:</th>              <td>     3</td>      <th>                     </th>      <td> </td>     \n",
       "</tr>\n",
       "<tr>\n",
       "  <th>Covariance Type:</th>      <td>nonrobust</td>    <th>                     </th>      <td> </td>     \n",
       "</tr>\n",
       "</table>\n",
       "<table class=\"simpletable\">\n",
       "<tr>\n",
       "       <td></td>          <th>coef</th>     <th>std err</th>      <th>t</th>      <th>P>|t|</th>  <th>[0.025</th>    <th>0.975]</th>  \n",
       "</tr>\n",
       "<tr>\n",
       "  <th>const</th>       <td>-4.232e+04</td> <td> 4435.452</td> <td>   -9.541</td> <td> 0.000</td> <td> -5.1e+04</td> <td>-3.36e+04</td>\n",
       "</tr>\n",
       "<tr>\n",
       "  <th>sqft_living</th> <td>  291.2772</td> <td>    4.019</td> <td>   72.466</td> <td> 0.000</td> <td>  283.399</td> <td>  299.156</td>\n",
       "</tr>\n",
       "<tr>\n",
       "  <th>sqft_above</th>  <td>  -14.9591</td> <td>    4.453</td> <td>   -3.359</td> <td> 0.001</td> <td>  -23.687</td> <td>   -6.231</td>\n",
       "</tr>\n",
       "<tr>\n",
       "  <th>renovate_15</th> <td> 1.942e+05</td> <td> 1.35e+04</td> <td>   14.346</td> <td> 0.000</td> <td> 1.68e+05</td> <td> 2.21e+05</td>\n",
       "</tr>\n",
       "</table>\n",
       "<table class=\"simpletable\">\n",
       "<tr>\n",
       "  <th>Omnibus:</th>       <td>14743.927</td> <th>  Durbin-Watson:     </th>  <td>   1.984</td> \n",
       "</tr>\n",
       "<tr>\n",
       "  <th>Prob(Omnibus):</th>  <td> 0.000</td>   <th>  Jarque-Bera (JB):  </th> <td>537219.985</td>\n",
       "</tr>\n",
       "<tr>\n",
       "  <th>Skew:</th>           <td> 2.805</td>   <th>  Prob(JB):          </th>  <td>    0.00</td> \n",
       "</tr>\n",
       "<tr>\n",
       "  <th>Kurtosis:</th>       <td>26.782</td>   <th>  Cond. No.          </th>  <td>2.29e+04</td> \n",
       "</tr>\n",
       "</table><br/><br/>Warnings:<br/>[1] Standard Errors assume that the covariance matrix of the errors is correctly specified.<br/>[2] The condition number is large, 2.29e+04. This might indicate that there are<br/>strong multicollinearity or other numerical problems."
      ],
      "text/plain": [
       "<class 'statsmodels.iolib.summary.Summary'>\n",
       "\"\"\"\n",
       "                            OLS Regression Results                            \n",
       "==============================================================================\n",
       "Dep. Variable:                  price   R-squared:                       0.498\n",
       "Model:                            OLS   Adj. R-squared:                  0.498\n",
       "Method:                 Least Squares   F-statistic:                     7137.\n",
       "Date:                Fri, 27 Mar 2020   Prob (F-statistic):               0.00\n",
       "Time:                        03:49:01   Log-Likelihood:            -2.9992e+05\n",
       "No. Observations:               21595   AIC:                         5.999e+05\n",
       "Df Residuals:                   21591   BIC:                         5.999e+05\n",
       "Df Model:                           3                                         \n",
       "Covariance Type:            nonrobust                                         \n",
       "===============================================================================\n",
       "                  coef    std err          t      P>|t|      [0.025      0.975]\n",
       "-------------------------------------------------------------------------------\n",
       "const       -4.232e+04   4435.452     -9.541      0.000    -5.1e+04   -3.36e+04\n",
       "sqft_living   291.2772      4.019     72.466      0.000     283.399     299.156\n",
       "sqft_above    -14.9591      4.453     -3.359      0.001     -23.687      -6.231\n",
       "renovate_15  1.942e+05   1.35e+04     14.346      0.000    1.68e+05    2.21e+05\n",
       "==============================================================================\n",
       "Omnibus:                    14743.927   Durbin-Watson:                   1.984\n",
       "Prob(Omnibus):                  0.000   Jarque-Bera (JB):           537219.985\n",
       "Skew:                           2.805   Prob(JB):                         0.00\n",
       "Kurtosis:                      26.782   Cond. No.                     2.29e+04\n",
       "==============================================================================\n",
       "\n",
       "Warnings:\n",
       "[1] Standard Errors assume that the covariance matrix of the errors is correctly specified.\n",
       "[2] The condition number is large, 2.29e+04. This might indicate that there are\n",
       "strong multicollinearity or other numerical problems.\n",
       "\"\"\""
      ]
     },
     "execution_count": 704,
     "metadata": {},
     "output_type": "execute_result"
    }
   ],
   "source": [
    "regression(X4,y4)"
   ]
  },
  {
   "cell_type": "code",
   "execution_count": 705,
   "metadata": {},
   "outputs": [],
   "source": [
    "X7 = df_merged[['sqft_living', 'yr_built','basement','bathrooms']]\n",
    "y7 = df_merged['price']"
   ]
  },
  {
   "cell_type": "code",
   "execution_count": 706,
   "metadata": {},
   "outputs": [
    {
     "data": {
      "text/html": [
       "<table class=\"simpletable\">\n",
       "<caption>OLS Regression Results</caption>\n",
       "<tr>\n",
       "  <th>Dep. Variable:</th>          <td>price</td>      <th>  R-squared:         </th>  <td>   0.531</td>  \n",
       "</tr>\n",
       "<tr>\n",
       "  <th>Model:</th>                   <td>OLS</td>       <th>  Adj. R-squared:    </th>  <td>   0.531</td>  \n",
       "</tr>\n",
       "<tr>\n",
       "  <th>Method:</th>             <td>Least Squares</td>  <th>  F-statistic:       </th>  <td>   6108.</td>  \n",
       "</tr>\n",
       "<tr>\n",
       "  <th>Date:</th>             <td>Fri, 27 Mar 2020</td> <th>  Prob (F-statistic):</th>   <td>  0.00</td>   \n",
       "</tr>\n",
       "<tr>\n",
       "  <th>Time:</th>                 <td>03:49:16</td>     <th>  Log-Likelihood:    </th> <td>-2.9919e+05</td>\n",
       "</tr>\n",
       "<tr>\n",
       "  <th>No. Observations:</th>      <td> 21595</td>      <th>  AIC:               </th>  <td>5.984e+05</td> \n",
       "</tr>\n",
       "<tr>\n",
       "  <th>Df Residuals:</th>          <td> 21590</td>      <th>  BIC:               </th>  <td>5.984e+05</td> \n",
       "</tr>\n",
       "<tr>\n",
       "  <th>Df Model:</th>              <td>     4</td>      <th>                     </th>      <td> </td>     \n",
       "</tr>\n",
       "<tr>\n",
       "  <th>Covariance Type:</th>      <td>nonrobust</td>    <th>                     </th>      <td> </td>     \n",
       "</tr>\n",
       "</table>\n",
       "<table class=\"simpletable\">\n",
       "<tr>\n",
       "       <td></td>          <th>coef</th>     <th>std err</th>      <th>t</th>      <th>P>|t|</th>  <th>[0.025</th>    <th>0.975]</th>  \n",
       "</tr>\n",
       "<tr>\n",
       "  <th>const</th>       <td> 5.588e+06</td> <td> 1.37e+05</td> <td>   40.745</td> <td> 0.000</td> <td> 5.32e+06</td> <td> 5.86e+06</td>\n",
       "</tr>\n",
       "<tr>\n",
       "  <th>sqft_living</th> <td>  271.2639</td> <td>    2.881</td> <td>   94.166</td> <td> 0.000</td> <td>  265.618</td> <td>  276.910</td>\n",
       "</tr>\n",
       "<tr>\n",
       "  <th>yr_built</th>    <td>-2913.5106</td> <td>   70.894</td> <td>  -41.097</td> <td> 0.000</td> <td>-3052.467</td> <td>-2774.554</td>\n",
       "</tr>\n",
       "<tr>\n",
       "  <th>basement</th>    <td>-1.349e+04</td> <td> 3739.923</td> <td>   -3.606</td> <td> 0.000</td> <td>-2.08e+04</td> <td>-6157.128</td>\n",
       "</tr>\n",
       "<tr>\n",
       "  <th>bathrooms</th>   <td> 6.432e+04</td> <td> 3800.819</td> <td>   16.923</td> <td> 0.000</td> <td> 5.69e+04</td> <td> 7.18e+04</td>\n",
       "</tr>\n",
       "</table>\n",
       "<table class=\"simpletable\">\n",
       "<tr>\n",
       "  <th>Omnibus:</th>       <td>14481.781</td> <th>  Durbin-Watson:     </th>  <td>   1.972</td> \n",
       "</tr>\n",
       "<tr>\n",
       "  <th>Prob(Omnibus):</th>  <td> 0.000</td>   <th>  Jarque-Bera (JB):  </th> <td>535719.797</td>\n",
       "</tr>\n",
       "<tr>\n",
       "  <th>Skew:</th>           <td> 2.724</td>   <th>  Prob(JB):          </th>  <td>    0.00</td> \n",
       "</tr>\n",
       "<tr>\n",
       "  <th>Kurtosis:</th>       <td>26.785</td>   <th>  Cond. No.          </th>  <td>2.36e+05</td> \n",
       "</tr>\n",
       "</table><br/><br/>Warnings:<br/>[1] Standard Errors assume that the covariance matrix of the errors is correctly specified.<br/>[2] The condition number is large, 2.36e+05. This might indicate that there are<br/>strong multicollinearity or other numerical problems."
      ],
      "text/plain": [
       "<class 'statsmodels.iolib.summary.Summary'>\n",
       "\"\"\"\n",
       "                            OLS Regression Results                            \n",
       "==============================================================================\n",
       "Dep. Variable:                  price   R-squared:                       0.531\n",
       "Model:                            OLS   Adj. R-squared:                  0.531\n",
       "Method:                 Least Squares   F-statistic:                     6108.\n",
       "Date:                Fri, 27 Mar 2020   Prob (F-statistic):               0.00\n",
       "Time:                        03:49:16   Log-Likelihood:            -2.9919e+05\n",
       "No. Observations:               21595   AIC:                         5.984e+05\n",
       "Df Residuals:                   21590   BIC:                         5.984e+05\n",
       "Df Model:                           4                                         \n",
       "Covariance Type:            nonrobust                                         \n",
       "===============================================================================\n",
       "                  coef    std err          t      P>|t|      [0.025      0.975]\n",
       "-------------------------------------------------------------------------------\n",
       "const        5.588e+06   1.37e+05     40.745      0.000    5.32e+06    5.86e+06\n",
       "sqft_living   271.2639      2.881     94.166      0.000     265.618     276.910\n",
       "yr_built    -2913.5106     70.894    -41.097      0.000   -3052.467   -2774.554\n",
       "basement    -1.349e+04   3739.923     -3.606      0.000   -2.08e+04   -6157.128\n",
       "bathrooms    6.432e+04   3800.819     16.923      0.000    5.69e+04    7.18e+04\n",
       "==============================================================================\n",
       "Omnibus:                    14481.781   Durbin-Watson:                   1.972\n",
       "Prob(Omnibus):                  0.000   Jarque-Bera (JB):           535719.797\n",
       "Skew:                           2.724   Prob(JB):                         0.00\n",
       "Kurtosis:                      26.785   Cond. No.                     2.36e+05\n",
       "==============================================================================\n",
       "\n",
       "Warnings:\n",
       "[1] Standard Errors assume that the covariance matrix of the errors is correctly specified.\n",
       "[2] The condition number is large, 2.36e+05. This might indicate that there are\n",
       "strong multicollinearity or other numerical problems.\n",
       "\"\"\""
      ]
     },
     "execution_count": 706,
     "metadata": {},
     "output_type": "execute_result"
    }
   ],
   "source": [
    "regression(X7,y7)"
   ]
  },
  {
   "cell_type": "code",
   "execution_count": 707,
   "metadata": {},
   "outputs": [],
   "source": [
    "X11 = X_train[['sqft_living','basement','grade','waterfront']]\n",
    "y11 = y_train"
   ]
  },
  {
   "cell_type": "code",
   "execution_count": 708,
   "metadata": {},
   "outputs": [
    {
     "data": {
      "text/html": [
       "<table class=\"simpletable\">\n",
       "<caption>OLS Regression Results</caption>\n",
       "<tr>\n",
       "  <th>Dep. Variable:</th>          <td>price</td>      <th>  R-squared:         </th>  <td>   0.583</td>  \n",
       "</tr>\n",
       "<tr>\n",
       "  <th>Model:</th>                   <td>OLS</td>       <th>  Adj. R-squared:    </th>  <td>   0.583</td>  \n",
       "</tr>\n",
       "<tr>\n",
       "  <th>Method:</th>             <td>Least Squares</td>  <th>  F-statistic:       </th>  <td>   6028.</td>  \n",
       "</tr>\n",
       "<tr>\n",
       "  <th>Date:</th>             <td>Fri, 27 Mar 2020</td> <th>  Prob (F-statistic):</th>   <td>  0.00</td>   \n",
       "</tr>\n",
       "<tr>\n",
       "  <th>Time:</th>                 <td>03:49:30</td>     <th>  Log-Likelihood:    </th> <td>-2.3865e+05</td>\n",
       "</tr>\n",
       "<tr>\n",
       "  <th>No. Observations:</th>      <td> 17276</td>      <th>  AIC:               </th>  <td>4.773e+05</td> \n",
       "</tr>\n",
       "<tr>\n",
       "  <th>Df Residuals:</th>          <td> 17271</td>      <th>  BIC:               </th>  <td>4.774e+05</td> \n",
       "</tr>\n",
       "<tr>\n",
       "  <th>Df Model:</th>              <td>     4</td>      <th>                     </th>      <td> </td>     \n",
       "</tr>\n",
       "<tr>\n",
       "  <th>Covariance Type:</th>      <td>nonrobust</td>    <th>                     </th>      <td> </td>     \n",
       "</tr>\n",
       "</table>\n",
       "<table class=\"simpletable\">\n",
       "<tr>\n",
       "       <td></td>          <th>coef</th>     <th>std err</th>      <th>t</th>      <th>P>|t|</th>  <th>[0.025</th>    <th>0.975]</th>  \n",
       "</tr>\n",
       "<tr>\n",
       "  <th>const</th>       <td>-6.314e+05</td> <td> 1.46e+04</td> <td>  -43.220</td> <td> 0.000</td> <td> -6.6e+05</td> <td>-6.03e+05</td>\n",
       "</tr>\n",
       "<tr>\n",
       "  <th>sqft_living</th> <td>  170.8353</td> <td>    3.206</td> <td>   53.280</td> <td> 0.000</td> <td>  164.550</td> <td>  177.120</td>\n",
       "</tr>\n",
       "<tr>\n",
       "  <th>basement</th>    <td> 5.284e+04</td> <td> 3910.996</td> <td>   13.512</td> <td> 0.000</td> <td> 4.52e+04</td> <td> 6.05e+04</td>\n",
       "</tr>\n",
       "<tr>\n",
       "  <th>grade</th>       <td> 1.034e+05</td> <td> 2449.198</td> <td>   42.211</td> <td> 0.000</td> <td> 9.86e+04</td> <td> 1.08e+05</td>\n",
       "</tr>\n",
       "<tr>\n",
       "  <th>waterfront</th>  <td> 9.093e+05</td> <td> 2.33e+04</td> <td>   39.073</td> <td> 0.000</td> <td> 8.64e+05</td> <td> 9.55e+05</td>\n",
       "</tr>\n",
       "</table>\n",
       "<table class=\"simpletable\">\n",
       "<tr>\n",
       "  <th>Omnibus:</th>       <td>12934.792</td> <th>  Durbin-Watson:     </th>  <td>   1.973</td> \n",
       "</tr>\n",
       "<tr>\n",
       "  <th>Prob(Omnibus):</th>  <td> 0.000</td>   <th>  Jarque-Bera (JB):  </th> <td>780595.454</td>\n",
       "</tr>\n",
       "<tr>\n",
       "  <th>Skew:</th>           <td> 3.049</td>   <th>  Prob(JB):          </th>  <td>    0.00</td> \n",
       "</tr>\n",
       "<tr>\n",
       "  <th>Kurtosis:</th>       <td>35.361</td>   <th>  Cond. No.          </th>  <td>2.88e+04</td> \n",
       "</tr>\n",
       "</table><br/><br/>Warnings:<br/>[1] Standard Errors assume that the covariance matrix of the errors is correctly specified.<br/>[2] The condition number is large, 2.88e+04. This might indicate that there are<br/>strong multicollinearity or other numerical problems."
      ],
      "text/plain": [
       "<class 'statsmodels.iolib.summary.Summary'>\n",
       "\"\"\"\n",
       "                            OLS Regression Results                            \n",
       "==============================================================================\n",
       "Dep. Variable:                  price   R-squared:                       0.583\n",
       "Model:                            OLS   Adj. R-squared:                  0.583\n",
       "Method:                 Least Squares   F-statistic:                     6028.\n",
       "Date:                Fri, 27 Mar 2020   Prob (F-statistic):               0.00\n",
       "Time:                        03:49:30   Log-Likelihood:            -2.3865e+05\n",
       "No. Observations:               17276   AIC:                         4.773e+05\n",
       "Df Residuals:                   17271   BIC:                         4.774e+05\n",
       "Df Model:                           4                                         \n",
       "Covariance Type:            nonrobust                                         \n",
       "===============================================================================\n",
       "                  coef    std err          t      P>|t|      [0.025      0.975]\n",
       "-------------------------------------------------------------------------------\n",
       "const       -6.314e+05   1.46e+04    -43.220      0.000    -6.6e+05   -6.03e+05\n",
       "sqft_living   170.8353      3.206     53.280      0.000     164.550     177.120\n",
       "basement     5.284e+04   3910.996     13.512      0.000    4.52e+04    6.05e+04\n",
       "grade        1.034e+05   2449.198     42.211      0.000    9.86e+04    1.08e+05\n",
       "waterfront   9.093e+05   2.33e+04     39.073      0.000    8.64e+05    9.55e+05\n",
       "==============================================================================\n",
       "Omnibus:                    12934.792   Durbin-Watson:                   1.973\n",
       "Prob(Omnibus):                  0.000   Jarque-Bera (JB):           780595.454\n",
       "Skew:                           3.049   Prob(JB):                         0.00\n",
       "Kurtosis:                      35.361   Cond. No.                     2.88e+04\n",
       "==============================================================================\n",
       "\n",
       "Warnings:\n",
       "[1] Standard Errors assume that the covariance matrix of the errors is correctly specified.\n",
       "[2] The condition number is large, 2.88e+04. This might indicate that there are\n",
       "strong multicollinearity or other numerical problems.\n",
       "\"\"\""
      ]
     },
     "execution_count": 708,
     "metadata": {},
     "output_type": "execute_result"
    }
   ],
   "source": [
    "regression(X11,y11)"
   ]
  },
  {
   "cell_type": "code",
   "execution_count": 709,
   "metadata": {},
   "outputs": [],
   "source": [
    "X12 = X_test[['sqft_living','basement','grade','waterfront']]\n",
    "y12 = y_test"
   ]
  },
  {
   "cell_type": "code",
   "execution_count": 710,
   "metadata": {},
   "outputs": [
    {
     "data": {
      "text/html": [
       "<table class=\"simpletable\">\n",
       "<caption>OLS Regression Results</caption>\n",
       "<tr>\n",
       "  <th>Dep. Variable:</th>          <td>price</td>      <th>  R-squared:         </th> <td>   0.550</td> \n",
       "</tr>\n",
       "<tr>\n",
       "  <th>Model:</th>                   <td>OLS</td>       <th>  Adj. R-squared:    </th> <td>   0.549</td> \n",
       "</tr>\n",
       "<tr>\n",
       "  <th>Method:</th>             <td>Least Squares</td>  <th>  F-statistic:       </th> <td>   1316.</td> \n",
       "</tr>\n",
       "<tr>\n",
       "  <th>Date:</th>             <td>Fri, 27 Mar 2020</td> <th>  Prob (F-statistic):</th>  <td>  0.00</td>  \n",
       "</tr>\n",
       "<tr>\n",
       "  <th>Time:</th>                 <td>03:49:36</td>     <th>  Log-Likelihood:    </th> <td> -59405.</td> \n",
       "</tr>\n",
       "<tr>\n",
       "  <th>No. Observations:</th>      <td>  4319</td>      <th>  AIC:               </th> <td>1.188e+05</td>\n",
       "</tr>\n",
       "<tr>\n",
       "  <th>Df Residuals:</th>          <td>  4314</td>      <th>  BIC:               </th> <td>1.189e+05</td>\n",
       "</tr>\n",
       "<tr>\n",
       "  <th>Df Model:</th>              <td>     4</td>      <th>                     </th>     <td> </td>    \n",
       "</tr>\n",
       "<tr>\n",
       "  <th>Covariance Type:</th>      <td>nonrobust</td>    <th>                     </th>     <td> </td>    \n",
       "</tr>\n",
       "</table>\n",
       "<table class=\"simpletable\">\n",
       "<tr>\n",
       "       <td></td>          <th>coef</th>     <th>std err</th>      <th>t</th>      <th>P>|t|</th>  <th>[0.025</th>    <th>0.975]</th>  \n",
       "</tr>\n",
       "<tr>\n",
       "  <th>const</th>       <td>-6.126e+05</td> <td> 2.82e+04</td> <td>  -21.711</td> <td> 0.000</td> <td>-6.68e+05</td> <td>-5.57e+05</td>\n",
       "</tr>\n",
       "<tr>\n",
       "  <th>sqft_living</th> <td>  142.7221</td> <td>    6.044</td> <td>   23.612</td> <td> 0.000</td> <td>  130.872</td> <td>  154.572</td>\n",
       "</tr>\n",
       "<tr>\n",
       "  <th>basement</th>    <td> 5.587e+04</td> <td> 7369.644</td> <td>    7.581</td> <td> 0.000</td> <td> 4.14e+04</td> <td> 7.03e+04</td>\n",
       "</tr>\n",
       "<tr>\n",
       "  <th>grade</th>       <td> 1.074e+05</td> <td> 4689.215</td> <td>   22.910</td> <td> 0.000</td> <td> 9.82e+04</td> <td> 1.17e+05</td>\n",
       "</tr>\n",
       "<tr>\n",
       "  <th>waterfront</th>  <td> 6.846e+05</td> <td> 3.83e+04</td> <td>   17.888</td> <td> 0.000</td> <td>  6.1e+05</td> <td>  7.6e+05</td>\n",
       "</tr>\n",
       "</table>\n",
       "<table class=\"simpletable\">\n",
       "<tr>\n",
       "  <th>Omnibus:</th>       <td>2675.550</td> <th>  Durbin-Watson:     </th> <td>   2.079</td> \n",
       "</tr>\n",
       "<tr>\n",
       "  <th>Prob(Omnibus):</th>  <td> 0.000</td>  <th>  Jarque-Bera (JB):  </th> <td>81039.987</td>\n",
       "</tr>\n",
       "<tr>\n",
       "  <th>Skew:</th>           <td> 2.449</td>  <th>  Prob(JB):          </th> <td>    0.00</td> \n",
       "</tr>\n",
       "<tr>\n",
       "  <th>Kurtosis:</th>       <td>23.648</td>  <th>  Cond. No.          </th> <td>2.50e+04</td> \n",
       "</tr>\n",
       "</table><br/><br/>Warnings:<br/>[1] Standard Errors assume that the covariance matrix of the errors is correctly specified.<br/>[2] The condition number is large, 2.5e+04. This might indicate that there are<br/>strong multicollinearity or other numerical problems."
      ],
      "text/plain": [
       "<class 'statsmodels.iolib.summary.Summary'>\n",
       "\"\"\"\n",
       "                            OLS Regression Results                            \n",
       "==============================================================================\n",
       "Dep. Variable:                  price   R-squared:                       0.550\n",
       "Model:                            OLS   Adj. R-squared:                  0.549\n",
       "Method:                 Least Squares   F-statistic:                     1316.\n",
       "Date:                Fri, 27 Mar 2020   Prob (F-statistic):               0.00\n",
       "Time:                        03:49:36   Log-Likelihood:                -59405.\n",
       "No. Observations:                4319   AIC:                         1.188e+05\n",
       "Df Residuals:                    4314   BIC:                         1.189e+05\n",
       "Df Model:                           4                                         \n",
       "Covariance Type:            nonrobust                                         \n",
       "===============================================================================\n",
       "                  coef    std err          t      P>|t|      [0.025      0.975]\n",
       "-------------------------------------------------------------------------------\n",
       "const       -6.126e+05   2.82e+04    -21.711      0.000   -6.68e+05   -5.57e+05\n",
       "sqft_living   142.7221      6.044     23.612      0.000     130.872     154.572\n",
       "basement     5.587e+04   7369.644      7.581      0.000    4.14e+04    7.03e+04\n",
       "grade        1.074e+05   4689.215     22.910      0.000    9.82e+04    1.17e+05\n",
       "waterfront   6.846e+05   3.83e+04     17.888      0.000     6.1e+05     7.6e+05\n",
       "==============================================================================\n",
       "Omnibus:                     2675.550   Durbin-Watson:                   2.079\n",
       "Prob(Omnibus):                  0.000   Jarque-Bera (JB):            81039.987\n",
       "Skew:                           2.449   Prob(JB):                         0.00\n",
       "Kurtosis:                      23.648   Cond. No.                     2.50e+04\n",
       "==============================================================================\n",
       "\n",
       "Warnings:\n",
       "[1] Standard Errors assume that the covariance matrix of the errors is correctly specified.\n",
       "[2] The condition number is large, 2.5e+04. This might indicate that there are\n",
       "strong multicollinearity or other numerical problems.\n",
       "\"\"\""
      ]
     },
     "execution_count": 710,
     "metadata": {},
     "output_type": "execute_result"
    }
   ],
   "source": [
    "regression(X12,y12)"
   ]
  },
  {
   "cell_type": "code",
   "execution_count": 585,
   "metadata": {},
   "outputs": [],
   "source": [
    "X3 = df[['sqft_living','basement','renovate_15','waterfront', 'zipcode','bathrooms']]\n",
    "y3 = df['price']"
   ]
  },
  {
   "cell_type": "code",
   "execution_count": 713,
   "metadata": {},
   "outputs": [
    {
     "data": {
      "text/html": [
       "<table class=\"simpletable\">\n",
       "<caption>OLS Regression Results</caption>\n",
       "<tr>\n",
       "  <th>Dep. Variable:</th>          <td>price</td>      <th>  R-squared:         </th> <td>   0.495</td> \n",
       "</tr>\n",
       "<tr>\n",
       "  <th>Model:</th>                   <td>OLS</td>       <th>  Adj. R-squared:    </th> <td>   0.494</td> \n",
       "</tr>\n",
       "<tr>\n",
       "  <th>Method:</th>             <td>Least Squares</td>  <th>  F-statistic:       </th> <td>   1409.</td> \n",
       "</tr>\n",
       "<tr>\n",
       "  <th>Date:</th>             <td>Fri, 27 Mar 2020</td> <th>  Prob (F-statistic):</th>  <td>  0.00</td>  \n",
       "</tr>\n",
       "<tr>\n",
       "  <th>Time:</th>                 <td>03:53:48</td>     <th>  Log-Likelihood:    </th> <td> -59653.</td> \n",
       "</tr>\n",
       "<tr>\n",
       "  <th>No. Observations:</th>      <td>  4319</td>      <th>  AIC:               </th> <td>1.193e+05</td>\n",
       "</tr>\n",
       "<tr>\n",
       "  <th>Df Residuals:</th>          <td>  4315</td>      <th>  BIC:               </th> <td>1.193e+05</td>\n",
       "</tr>\n",
       "<tr>\n",
       "  <th>Df Model:</th>              <td>     3</td>      <th>                     </th>     <td> </td>    \n",
       "</tr>\n",
       "<tr>\n",
       "  <th>Covariance Type:</th>      <td>nonrobust</td>    <th>                     </th>     <td> </td>    \n",
       "</tr>\n",
       "</table>\n",
       "<table class=\"simpletable\">\n",
       "<tr>\n",
       "       <td></td>          <th>coef</th>     <th>std err</th>      <th>t</th>      <th>P>|t|</th>  <th>[0.025</th>    <th>0.975]</th>  \n",
       "</tr>\n",
       "<tr>\n",
       "  <th>const</th>       <td> 1283.4662</td> <td> 9359.838</td> <td>    0.137</td> <td> 0.891</td> <td>-1.71e+04</td> <td> 1.96e+04</td>\n",
       "</tr>\n",
       "<tr>\n",
       "  <th>sqft_living</th> <td>  247.4868</td> <td>    4.186</td> <td>   59.126</td> <td> 0.000</td> <td>  239.281</td> <td>  255.693</td>\n",
       "</tr>\n",
       "<tr>\n",
       "  <th>waterfront</th>  <td> 7.081e+05</td> <td> 4.05e+04</td> <td>   17.478</td> <td> 0.000</td> <td> 6.29e+05</td> <td> 7.88e+05</td>\n",
       "</tr>\n",
       "<tr>\n",
       "  <th>basement</th>    <td> 3.047e+04</td> <td> 7715.360</td> <td>    3.949</td> <td> 0.000</td> <td> 1.53e+04</td> <td> 4.56e+04</td>\n",
       "</tr>\n",
       "</table>\n",
       "<table class=\"simpletable\">\n",
       "<tr>\n",
       "  <th>Omnibus:</th>       <td>2336.528</td> <th>  Durbin-Watson:     </th> <td>   2.090</td> \n",
       "</tr>\n",
       "<tr>\n",
       "  <th>Prob(Omnibus):</th>  <td> 0.000</td>  <th>  Jarque-Bera (JB):  </th> <td>47512.104</td>\n",
       "</tr>\n",
       "<tr>\n",
       "  <th>Skew:</th>           <td> 2.136</td>  <th>  Prob(JB):          </th> <td>    0.00</td> \n",
       "</tr>\n",
       "<tr>\n",
       "  <th>Kurtosis:</th>       <td>18.677</td>  <th>  Cond. No.          </th> <td>2.50e+04</td> \n",
       "</tr>\n",
       "</table><br/><br/>Warnings:<br/>[1] Standard Errors assume that the covariance matrix of the errors is correctly specified.<br/>[2] The condition number is large, 2.5e+04. This might indicate that there are<br/>strong multicollinearity or other numerical problems."
      ],
      "text/plain": [
       "<class 'statsmodels.iolib.summary.Summary'>\n",
       "\"\"\"\n",
       "                            OLS Regression Results                            \n",
       "==============================================================================\n",
       "Dep. Variable:                  price   R-squared:                       0.495\n",
       "Model:                            OLS   Adj. R-squared:                  0.494\n",
       "Method:                 Least Squares   F-statistic:                     1409.\n",
       "Date:                Fri, 27 Mar 2020   Prob (F-statistic):               0.00\n",
       "Time:                        03:53:48   Log-Likelihood:                -59653.\n",
       "No. Observations:                4319   AIC:                         1.193e+05\n",
       "Df Residuals:                    4315   BIC:                         1.193e+05\n",
       "Df Model:                           3                                         \n",
       "Covariance Type:            nonrobust                                         \n",
       "===============================================================================\n",
       "                  coef    std err          t      P>|t|      [0.025      0.975]\n",
       "-------------------------------------------------------------------------------\n",
       "const        1283.4662   9359.838      0.137      0.891   -1.71e+04    1.96e+04\n",
       "sqft_living   247.4868      4.186     59.126      0.000     239.281     255.693\n",
       "waterfront   7.081e+05   4.05e+04     17.478      0.000    6.29e+05    7.88e+05\n",
       "basement     3.047e+04   7715.360      3.949      0.000    1.53e+04    4.56e+04\n",
       "==============================================================================\n",
       "Omnibus:                     2336.528   Durbin-Watson:                   2.090\n",
       "Prob(Omnibus):                  0.000   Jarque-Bera (JB):            47512.104\n",
       "Skew:                           2.136   Prob(JB):                         0.00\n",
       "Kurtosis:                      18.677   Cond. No.                     2.50e+04\n",
       "==============================================================================\n",
       "\n",
       "Warnings:\n",
       "[1] Standard Errors assume that the covariance matrix of the errors is correctly specified.\n",
       "[2] The condition number is large, 2.5e+04. This might indicate that there are\n",
       "strong multicollinearity or other numerical problems.\n",
       "\"\"\""
      ]
     },
     "execution_count": 713,
     "metadata": {},
     "output_type": "execute_result"
    }
   ],
   "source": [
    "X_const = sm.add_constant(X3)\n",
    "model_sm = sm.OLS(y3, X_const)\n",
    "results_3 = model_sm.fit()\n",
    "results_3.summary()"
   ]
  },
  {
   "cell_type": "markdown",
   "metadata": {},
   "source": [
    "This section looks are regression without the 5 most expensive properties fix this and check again"
   ]
  },
  {
   "cell_type": "code",
   "execution_count": 715,
   "metadata": {},
   "outputs": [],
   "source": [
    "df_test = df_merged.loc[(df_merged['zipcode'] != 98039) & (df_merged['zipcode'] != 98004) & (df_merged['zipcode'] != 98040) &(df_merged['zipcode'] != 98112)]"
   ]
  },
  {
   "cell_type": "code",
   "execution_count": 717,
   "metadata": {},
   "outputs": [],
   "source": [
    "X5 = df_test[['sqft_living','basement','grade','waterfront']]\n",
    "y5 = df_test['price']"
   ]
  },
  {
   "cell_type": "code",
   "execution_count": 718,
   "metadata": {},
   "outputs": [
    {
     "data": {
      "text/html": [
       "<table class=\"simpletable\">\n",
       "<caption>OLS Regression Results</caption>\n",
       "<tr>\n",
       "  <th>Dep. Variable:</th>          <td>price</td>      <th>  R-squared:         </th>  <td>   0.579</td>  \n",
       "</tr>\n",
       "<tr>\n",
       "  <th>Model:</th>                   <td>OLS</td>       <th>  Adj. R-squared:    </th>  <td>   0.579</td>  \n",
       "</tr>\n",
       "<tr>\n",
       "  <th>Method:</th>             <td>Least Squares</td>  <th>  F-statistic:       </th>  <td>   7115.</td>  \n",
       "</tr>\n",
       "<tr>\n",
       "  <th>Date:</th>             <td>Fri, 27 Mar 2020</td> <th>  Prob (F-statistic):</th>   <td>  0.00</td>   \n",
       "</tr>\n",
       "<tr>\n",
       "  <th>Time:</th>                 <td>03:55:20</td>     <th>  Log-Likelihood:    </th> <td>-2.8140e+05</td>\n",
       "</tr>\n",
       "<tr>\n",
       "  <th>No. Observations:</th>      <td> 20677</td>      <th>  AIC:               </th>  <td>5.628e+05</td> \n",
       "</tr>\n",
       "<tr>\n",
       "  <th>Df Residuals:</th>          <td> 20672</td>      <th>  BIC:               </th>  <td>5.628e+05</td> \n",
       "</tr>\n",
       "<tr>\n",
       "  <th>Df Model:</th>              <td>     4</td>      <th>                     </th>      <td> </td>     \n",
       "</tr>\n",
       "<tr>\n",
       "  <th>Covariance Type:</th>      <td>nonrobust</td>    <th>                     </th>      <td> </td>     \n",
       "</tr>\n",
       "</table>\n",
       "<table class=\"simpletable\">\n",
       "<tr>\n",
       "       <td></td>          <th>coef</th>     <th>std err</th>      <th>t</th>      <th>P>|t|</th>  <th>[0.025</th>    <th>0.975]</th>  \n",
       "</tr>\n",
       "<tr>\n",
       "  <th>const</th>       <td>-5.238e+05</td> <td>  1.1e+04</td> <td>  -47.464</td> <td> 0.000</td> <td>-5.45e+05</td> <td>-5.02e+05</td>\n",
       "</tr>\n",
       "<tr>\n",
       "  <th>sqft_living</th> <td>  130.8954</td> <td>    2.433</td> <td>   53.791</td> <td> 0.000</td> <td>  126.126</td> <td>  135.665</td>\n",
       "</tr>\n",
       "<tr>\n",
       "  <th>basement</th>    <td> 5.309e+04</td> <td> 2915.817</td> <td>   18.206</td> <td> 0.000</td> <td> 4.74e+04</td> <td> 5.88e+04</td>\n",
       "</tr>\n",
       "<tr>\n",
       "  <th>grade</th>       <td> 9.709e+04</td> <td> 1847.021</td> <td>   52.564</td> <td> 0.000</td> <td> 9.35e+04</td> <td> 1.01e+05</td>\n",
       "</tr>\n",
       "<tr>\n",
       "  <th>waterfront</th>  <td> 7.984e+05</td> <td> 1.72e+04</td> <td>   46.390</td> <td> 0.000</td> <td> 7.65e+05</td> <td> 8.32e+05</td>\n",
       "</tr>\n",
       "</table>\n",
       "<table class=\"simpletable\">\n",
       "<tr>\n",
       "  <th>Omnibus:</th>       <td>15164.076</td> <th>  Durbin-Watson:     </th>  <td>   1.980</td>  \n",
       "</tr>\n",
       "<tr>\n",
       "  <th>Prob(Omnibus):</th>  <td> 0.000</td>   <th>  Jarque-Bera (JB):  </th> <td>1336841.442</td>\n",
       "</tr>\n",
       "<tr>\n",
       "  <th>Skew:</th>           <td> 2.824</td>   <th>  Prob(JB):          </th>  <td>    0.00</td>  \n",
       "</tr>\n",
       "<tr>\n",
       "  <th>Kurtosis:</th>       <td>41.985</td>   <th>  Cond. No.          </th>  <td>2.80e+04</td>  \n",
       "</tr>\n",
       "</table><br/><br/>Warnings:<br/>[1] Standard Errors assume that the covariance matrix of the errors is correctly specified.<br/>[2] The condition number is large, 2.8e+04. This might indicate that there are<br/>strong multicollinearity or other numerical problems."
      ],
      "text/plain": [
       "<class 'statsmodels.iolib.summary.Summary'>\n",
       "\"\"\"\n",
       "                            OLS Regression Results                            \n",
       "==============================================================================\n",
       "Dep. Variable:                  price   R-squared:                       0.579\n",
       "Model:                            OLS   Adj. R-squared:                  0.579\n",
       "Method:                 Least Squares   F-statistic:                     7115.\n",
       "Date:                Fri, 27 Mar 2020   Prob (F-statistic):               0.00\n",
       "Time:                        03:55:20   Log-Likelihood:            -2.8140e+05\n",
       "No. Observations:               20677   AIC:                         5.628e+05\n",
       "Df Residuals:                   20672   BIC:                         5.628e+05\n",
       "Df Model:                           4                                         \n",
       "Covariance Type:            nonrobust                                         \n",
       "===============================================================================\n",
       "                  coef    std err          t      P>|t|      [0.025      0.975]\n",
       "-------------------------------------------------------------------------------\n",
       "const       -5.238e+05    1.1e+04    -47.464      0.000   -5.45e+05   -5.02e+05\n",
       "sqft_living   130.8954      2.433     53.791      0.000     126.126     135.665\n",
       "basement     5.309e+04   2915.817     18.206      0.000    4.74e+04    5.88e+04\n",
       "grade        9.709e+04   1847.021     52.564      0.000    9.35e+04    1.01e+05\n",
       "waterfront   7.984e+05   1.72e+04     46.390      0.000    7.65e+05    8.32e+05\n",
       "==============================================================================\n",
       "Omnibus:                    15164.076   Durbin-Watson:                   1.980\n",
       "Prob(Omnibus):                  0.000   Jarque-Bera (JB):          1336841.442\n",
       "Skew:                           2.824   Prob(JB):                         0.00\n",
       "Kurtosis:                      41.985   Cond. No.                     2.80e+04\n",
       "==============================================================================\n",
       "\n",
       "Warnings:\n",
       "[1] Standard Errors assume that the covariance matrix of the errors is correctly specified.\n",
       "[2] The condition number is large, 2.8e+04. This might indicate that there are\n",
       "strong multicollinearity or other numerical problems.\n",
       "\"\"\""
      ]
     },
     "execution_count": 718,
     "metadata": {},
     "output_type": "execute_result"
    }
   ],
   "source": [
    "regression(X5,y5)"
   ]
  },
  {
   "cell_type": "code",
   "execution_count": 217,
   "metadata": {},
   "outputs": [
    {
     "data": {
      "text/plain": [
       "<matplotlib.axes._subplots.AxesSubplot at 0x1c23da0fd0>"
      ]
     },
     "execution_count": 217,
     "metadata": {},
     "output_type": "execute_result"
    },
    {
     "data": {
      "image/png": "[encoded data removed]",
      "text/plain": [
       "<Figure size 432x288 with 1 Axes>"
      ]
     },
     "metadata": {
      "needs_background": "light"
     },
     "output_type": "display_data"
    }
   ],
   "source": [
    "sns.distplot(df_test['price'])"
   ]
  },
  {
   "cell_type": "code",
   "execution_count": 218,
   "metadata": {},
   "outputs": [
    {
     "data": {
      "text/plain": [
       "count    2.067700e+04\n",
       "mean     5.077088e+05\n",
       "std      3.035364e+05\n",
       "min      7.800000e+04\n",
       "25%      3.160000e+05\n",
       "50%      4.400000e+05\n",
       "75%      6.150000e+05\n",
       "max      7.700000e+06\n",
       "Name: price, dtype: float64"
      ]
     },
     "execution_count": 218,
     "metadata": {},
     "output_type": "execute_result"
    }
   ],
   "source": [
    "df_test['price'].describe()"
   ]
  },
  {
   "cell_type": "code",
   "execution_count": 221,
   "metadata": {},
   "outputs": [
    {
     "data": {
      "text/plain": [
       "count    2.159500e+04\n",
       "mean     5.403019e+05\n",
       "std      3.673816e+05\n",
       "min      7.800000e+04\n",
       "25%      3.220000e+05\n",
       "50%      4.500000e+05\n",
       "75%      6.450000e+05\n",
       "max      7.700000e+06\n",
       "Name: price, dtype: float64"
      ]
     },
     "execution_count": 221,
     "metadata": {},
     "output_type": "execute_result"
    }
   ],
   "source": [
    "df_merged['price'].describe()"
   ]
  },
  {
   "cell_type": "code",
   "execution_count": 224,
   "metadata": {},
   "outputs": [
    {
     "data": {
      "image/png": "[encoded data removed]",
      "text/plain": [
       "<Figure size 720x432 with 1 Axes>"
      ]
     },
     "metadata": {
      "needs_background": "light"
     },
     "output_type": "display_data"
    }
   ],
   "source": [
    "plt.figure(figsize=(10,6))\n",
    "sns.distplot(df_merged['price'])\n",
    "plt.show()"
   ]
  },
  {
   "cell_type": "code",
   "execution_count": 232,
   "metadata": {},
   "outputs": [],
   "source": [
    "df_price_sub_2 = df_merged.loc[(df_merged['price']<2000000)]"
   ]
  },
  {
   "cell_type": "code",
   "execution_count": 233,
   "metadata": {},
   "outputs": [
    {
     "data": {
      "text/plain": [
       "<matplotlib.axes._subplots.AxesSubplot at 0x1c237104a8>"
      ]
     },
     "execution_count": 233,
     "metadata": {},
     "output_type": "execute_result"
    },
    {
     "data": {
      "image/png": "[encoded data removed]",
      "text/plain": [
       "<Figure size 432x288 with 1 Axes>"
      ]
     },
     "metadata": {
      "needs_background": "light"
     },
     "output_type": "display_data"
    }
   ],
   "source": [
    "sns.distplot(df_price_sub_2['price'])"
   ]
  },
  {
   "cell_type": "code",
   "execution_count": 234,
   "metadata": {},
   "outputs": [],
   "source": [
    "df_price_sub_1 = df_merged.loc[(df_merged['price']<1200000)]"
   ]
  },
  {
   "cell_type": "code",
   "execution_count": 235,
   "metadata": {},
   "outputs": [
    {
     "data": {
      "text/plain": [
       "20577"
      ]
     },
     "execution_count": 235,
     "metadata": {},
     "output_type": "execute_result"
    }
   ],
   "source": [
    "len(df_price_sub_1)"
   ]
  },
  {
   "cell_type": "code",
   "execution_count": 236,
   "metadata": {},
   "outputs": [
    {
     "data": {
      "text/plain": [
       "<matplotlib.axes._subplots.AxesSubplot at 0x1c246114a8>"
      ]
     },
     "execution_count": 236,
     "metadata": {},
     "output_type": "execute_result"
    },
    {
     "data": {
      "image/png": "[encoded data removed]",
      "text/plain": [
       "<Figure size 432x288 with 1 Axes>"
      ]
     },
     "metadata": {
      "needs_background": "light"
     },
     "output_type": "display_data"
    }
   ],
   "source": [
    "sns.distplot(df_price_sub_1['price'])"
   ]
  },
  {
   "cell_type": "code",
   "execution_count": 268,
   "metadata": {},
   "outputs": [],
   "source": [
    "X6 = df_price_sub_1[['sqft_living','renovate_15','Good','High','Average']]\n",
    "y6 = df_price_sub_1['price']"
   ]
  },
  {
   "cell_type": "code",
   "execution_count": 269,
   "metadata": {},
   "outputs": [
    {
     "data": {
      "text/html": [
       "<table class=\"simpletable\">\n",
       "<caption>OLS Regression Results</caption>\n",
       "<tr>\n",
       "  <th>Dep. Variable:</th>          <td>price</td>      <th>  R-squared:         </th>  <td>   0.422</td>  \n",
       "</tr>\n",
       "<tr>\n",
       "  <th>Model:</th>                   <td>OLS</td>       <th>  Adj. R-squared:    </th>  <td>   0.422</td>  \n",
       "</tr>\n",
       "<tr>\n",
       "  <th>Method:</th>             <td>Least Squares</td>  <th>  F-statistic:       </th>  <td>   3005.</td>  \n",
       "</tr>\n",
       "<tr>\n",
       "  <th>Date:</th>             <td>Thu, 26 Mar 2020</td> <th>  Prob (F-statistic):</th>   <td>  0.00</td>   \n",
       "</tr>\n",
       "<tr>\n",
       "  <th>Time:</th>                 <td>21:07:09</td>     <th>  Log-Likelihood:    </th> <td>-2.7616e+05</td>\n",
       "</tr>\n",
       "<tr>\n",
       "  <th>No. Observations:</th>      <td> 20577</td>      <th>  AIC:               </th>  <td>5.523e+05</td> \n",
       "</tr>\n",
       "<tr>\n",
       "  <th>Df Residuals:</th>          <td> 20571</td>      <th>  BIC:               </th>  <td>5.524e+05</td> \n",
       "</tr>\n",
       "<tr>\n",
       "  <th>Df Model:</th>              <td>     5</td>      <th>                     </th>      <td> </td>     \n",
       "</tr>\n",
       "<tr>\n",
       "  <th>Covariance Type:</th>      <td>nonrobust</td>    <th>                     </th>      <td> </td>     \n",
       "</tr>\n",
       "</table>\n",
       "<table class=\"simpletable\">\n",
       "<tr>\n",
       "       <td></td>          <th>coef</th>     <th>std err</th>      <th>t</th>      <th>P>|t|</th>  <th>[0.025</th>    <th>0.975]</th>  \n",
       "</tr>\n",
       "<tr>\n",
       "  <th>const</th>       <td> 1.292e+05</td> <td> 4047.323</td> <td>   31.928</td> <td> 0.000</td> <td> 1.21e+05</td> <td> 1.37e+05</td>\n",
       "</tr>\n",
       "<tr>\n",
       "  <th>sqft_living</th> <td>  150.3629</td> <td>    1.646</td> <td>   91.372</td> <td> 0.000</td> <td>  147.137</td> <td>  153.588</td>\n",
       "</tr>\n",
       "<tr>\n",
       "  <th>renovate_15</th> <td> 1.167e+05</td> <td> 9266.528</td> <td>   12.593</td> <td> 0.000</td> <td> 9.85e+04</td> <td> 1.35e+05</td>\n",
       "</tr>\n",
       "<tr>\n",
       "  <th>Good</th>        <td> 8.632e+04</td> <td> 4163.603</td> <td>   20.732</td> <td> 0.000</td> <td> 7.82e+04</td> <td> 9.45e+04</td>\n",
       "</tr>\n",
       "<tr>\n",
       "  <th>High</th>        <td> 1.512e+05</td> <td> 1.09e+04</td> <td>   13.921</td> <td> 0.000</td> <td>  1.3e+05</td> <td> 1.72e+05</td>\n",
       "</tr>\n",
       "<tr>\n",
       "  <th>Average</th>     <td> 2.638e+04</td> <td> 3893.696</td> <td>    6.775</td> <td> 0.000</td> <td> 1.87e+04</td> <td>  3.4e+04</td>\n",
       "</tr>\n",
       "</table>\n",
       "<table class=\"simpletable\">\n",
       "<tr>\n",
       "  <th>Omnibus:</th>       <td>1154.486</td> <th>  Durbin-Watson:     </th> <td>   2.003</td> \n",
       "</tr>\n",
       "<tr>\n",
       "  <th>Prob(Omnibus):</th>  <td> 0.000</td>  <th>  Jarque-Bera (JB):  </th> <td>1380.711</td> \n",
       "</tr>\n",
       "<tr>\n",
       "  <th>Skew:</th>           <td> 0.589</td>  <th>  Prob(JB):          </th> <td>1.52e-300</td>\n",
       "</tr>\n",
       "<tr>\n",
       "  <th>Kurtosis:</th>       <td> 3.474</td>  <th>  Cond. No.          </th> <td>2.09e+04</td> \n",
       "</tr>\n",
       "</table><br/><br/>Warnings:<br/>[1] Standard Errors assume that the covariance matrix of the errors is correctly specified.<br/>[2] The condition number is large, 2.09e+04. This might indicate that there are<br/>strong multicollinearity or other numerical problems."
      ],
      "text/plain": [
       "<class 'statsmodels.iolib.summary.Summary'>\n",
       "\"\"\"\n",
       "                            OLS Regression Results                            \n",
       "==============================================================================\n",
       "Dep. Variable:                  price   R-squared:                       0.422\n",
       "Model:                            OLS   Adj. R-squared:                  0.422\n",
       "Method:                 Least Squares   F-statistic:                     3005.\n",
       "Date:                Thu, 26 Mar 2020   Prob (F-statistic):               0.00\n",
       "Time:                        21:07:09   Log-Likelihood:            -2.7616e+05\n",
       "No. Observations:               20577   AIC:                         5.523e+05\n",
       "Df Residuals:                   20571   BIC:                         5.524e+05\n",
       "Df Model:                           5                                         \n",
       "Covariance Type:            nonrobust                                         \n",
       "===============================================================================\n",
       "                  coef    std err          t      P>|t|      [0.025      0.975]\n",
       "-------------------------------------------------------------------------------\n",
       "const        1.292e+05   4047.323     31.928      0.000    1.21e+05    1.37e+05\n",
       "sqft_living   150.3629      1.646     91.372      0.000     147.137     153.588\n",
       "renovate_15  1.167e+05   9266.528     12.593      0.000    9.85e+04    1.35e+05\n",
       "Good         8.632e+04   4163.603     20.732      0.000    7.82e+04    9.45e+04\n",
       "High         1.512e+05   1.09e+04     13.921      0.000     1.3e+05    1.72e+05\n",
       "Average      2.638e+04   3893.696      6.775      0.000    1.87e+04     3.4e+04\n",
       "==============================================================================\n",
       "Omnibus:                     1154.486   Durbin-Watson:                   2.003\n",
       "Prob(Omnibus):                  0.000   Jarque-Bera (JB):             1380.711\n",
       "Skew:                           0.589   Prob(JB):                    1.52e-300\n",
       "Kurtosis:                       3.474   Cond. No.                     2.09e+04\n",
       "==============================================================================\n",
       "\n",
       "Warnings:\n",
       "[1] Standard Errors assume that the covariance matrix of the errors is correctly specified.\n",
       "[2] The condition number is large, 2.09e+04. This might indicate that there are\n",
       "strong multicollinearity or other numerical problems.\n",
       "\"\"\""
      ]
     },
     "execution_count": 269,
     "metadata": {},
     "output_type": "execute_result"
    }
   ],
   "source": [
    "regression(X6,y6)"
   ]
  },
  {
   "cell_type": "code",
   "execution_count": 321,
   "metadata": {},
   "outputs": [],
   "source": [
    "X8 = df_price_sub_1[['sqft_living','renovate_15','condition','grade']]\n",
    "y8 = df_price_sub_1['price']"
   ]
  },
  {
   "cell_type": "code",
   "execution_count": 322,
   "metadata": {},
   "outputs": [
    {
     "data": {
      "text/html": [
       "<table class=\"simpletable\">\n",
       "<caption>OLS Regression Results</caption>\n",
       "<tr>\n",
       "  <th>Dep. Variable:</th>          <td>price</td>      <th>  R-squared:         </th>  <td>   0.494</td>  \n",
       "</tr>\n",
       "<tr>\n",
       "  <th>Model:</th>                   <td>OLS</td>       <th>  Adj. R-squared:    </th>  <td>   0.494</td>  \n",
       "</tr>\n",
       "<tr>\n",
       "  <th>Method:</th>             <td>Least Squares</td>  <th>  F-statistic:       </th>  <td>   5026.</td>  \n",
       "</tr>\n",
       "<tr>\n",
       "  <th>Date:</th>             <td>Thu, 26 Mar 2020</td> <th>  Prob (F-statistic):</th>   <td>  0.00</td>   \n",
       "</tr>\n",
       "<tr>\n",
       "  <th>Time:</th>                 <td>21:50:36</td>     <th>  Log-Likelihood:    </th> <td>-2.7479e+05</td>\n",
       "</tr>\n",
       "<tr>\n",
       "  <th>No. Observations:</th>      <td> 20577</td>      <th>  AIC:               </th>  <td>5.496e+05</td> \n",
       "</tr>\n",
       "<tr>\n",
       "  <th>Df Residuals:</th>          <td> 20572</td>      <th>  BIC:               </th>  <td>5.496e+05</td> \n",
       "</tr>\n",
       "<tr>\n",
       "  <th>Df Model:</th>              <td>     4</td>      <th>                     </th>      <td> </td>     \n",
       "</tr>\n",
       "<tr>\n",
       "  <th>Covariance Type:</th>      <td>nonrobust</td>    <th>                     </th>      <td> </td>     \n",
       "</tr>\n",
       "</table>\n",
       "<table class=\"simpletable\">\n",
       "<tr>\n",
       "       <td></td>          <th>coef</th>     <th>std err</th>      <th>t</th>      <th>P>|t|</th>  <th>[0.025</th>    <th>0.975]</th>  \n",
       "</tr>\n",
       "<tr>\n",
       "  <th>const</th>       <td>-5.105e+05</td> <td> 1.13e+04</td> <td>  -45.065</td> <td> 0.000</td> <td>-5.33e+05</td> <td>-4.88e+05</td>\n",
       "</tr>\n",
       "<tr>\n",
       "  <th>sqft_living</th> <td>   92.3031</td> <td>    1.931</td> <td>   47.792</td> <td> 0.000</td> <td>   88.517</td> <td>   96.089</td>\n",
       "</tr>\n",
       "<tr>\n",
       "  <th>renovate_15</th> <td> 1.385e+05</td> <td> 8686.385</td> <td>   15.944</td> <td> 0.000</td> <td> 1.21e+05</td> <td> 1.56e+05</td>\n",
       "</tr>\n",
       "<tr>\n",
       "  <th>condition</th>   <td> 4.579e+04</td> <td> 1675.369</td> <td>   27.329</td> <td> 0.000</td> <td> 4.25e+04</td> <td> 4.91e+04</td>\n",
       "</tr>\n",
       "<tr>\n",
       "  <th>grade</th>       <td> 8.622e+04</td> <td> 1463.756</td> <td>   58.905</td> <td> 0.000</td> <td> 8.34e+04</td> <td> 8.91e+04</td>\n",
       "</tr>\n",
       "</table>\n",
       "<table class=\"simpletable\">\n",
       "<tr>\n",
       "  <th>Omnibus:</th>       <td>1309.913</td> <th>  Durbin-Watson:     </th> <td>   1.973</td>\n",
       "</tr>\n",
       "<tr>\n",
       "  <th>Prob(Omnibus):</th>  <td> 0.000</td>  <th>  Jarque-Bera (JB):  </th> <td>1685.915</td>\n",
       "</tr>\n",
       "<tr>\n",
       "  <th>Skew:</th>           <td> 0.599</td>  <th>  Prob(JB):          </th> <td>    0.00</td>\n",
       "</tr>\n",
       "<tr>\n",
       "  <th>Kurtosis:</th>       <td> 3.730</td>  <th>  Cond. No.          </th> <td>2.30e+04</td>\n",
       "</tr>\n",
       "</table><br/><br/>Warnings:<br/>[1] Standard Errors assume that the covariance matrix of the errors is correctly specified.<br/>[2] The condition number is large, 2.3e+04. This might indicate that there are<br/>strong multicollinearity or other numerical problems."
      ],
      "text/plain": [
       "<class 'statsmodels.iolib.summary.Summary'>\n",
       "\"\"\"\n",
       "                            OLS Regression Results                            \n",
       "==============================================================================\n",
       "Dep. Variable:                  price   R-squared:                       0.494\n",
       "Model:                            OLS   Adj. R-squared:                  0.494\n",
       "Method:                 Least Squares   F-statistic:                     5026.\n",
       "Date:                Thu, 26 Mar 2020   Prob (F-statistic):               0.00\n",
       "Time:                        21:50:36   Log-Likelihood:            -2.7479e+05\n",
       "No. Observations:               20577   AIC:                         5.496e+05\n",
       "Df Residuals:                   20572   BIC:                         5.496e+05\n",
       "Df Model:                           4                                         \n",
       "Covariance Type:            nonrobust                                         \n",
       "===============================================================================\n",
       "                  coef    std err          t      P>|t|      [0.025      0.975]\n",
       "-------------------------------------------------------------------------------\n",
       "const       -5.105e+05   1.13e+04    -45.065      0.000   -5.33e+05   -4.88e+05\n",
       "sqft_living    92.3031      1.931     47.792      0.000      88.517      96.089\n",
       "renovate_15  1.385e+05   8686.385     15.944      0.000    1.21e+05    1.56e+05\n",
       "condition    4.579e+04   1675.369     27.329      0.000    4.25e+04    4.91e+04\n",
       "grade        8.622e+04   1463.756     58.905      0.000    8.34e+04    8.91e+04\n",
       "==============================================================================\n",
       "Omnibus:                     1309.913   Durbin-Watson:                   1.973\n",
       "Prob(Omnibus):                  0.000   Jarque-Bera (JB):             1685.915\n",
       "Skew:                           0.599   Prob(JB):                         0.00\n",
       "Kurtosis:                       3.730   Cond. No.                     2.30e+04\n",
       "==============================================================================\n",
       "\n",
       "Warnings:\n",
       "[1] Standard Errors assume that the covariance matrix of the errors is correctly specified.\n",
       "[2] The condition number is large, 2.3e+04. This might indicate that there are\n",
       "strong multicollinearity or other numerical problems.\n",
       "\"\"\""
      ]
     },
     "execution_count": 322,
     "metadata": {},
     "output_type": "execute_result"
    }
   ],
   "source": [
    "regression(X8,y8)"
   ]
  },
  {
   "cell_type": "code",
   "execution_count": 444,
   "metadata": {},
   "outputs": [],
   "source": [
    "X13 = df_price_sub_1[['sqft_living','basement','grade','waterfront']]\n",
    "y13 = df_price_sub_1['price']"
   ]
  },
  {
   "cell_type": "code",
   "execution_count": 445,
   "metadata": {},
   "outputs": [
    {
     "data": {
      "text/html": [
       "<table class=\"simpletable\">\n",
       "<caption>OLS Regression Results</caption>\n",
       "<tr>\n",
       "  <th>Dep. Variable:</th>          <td>price</td>      <th>  R-squared:         </th>  <td>   0.486</td>  \n",
       "</tr>\n",
       "<tr>\n",
       "  <th>Model:</th>                   <td>OLS</td>       <th>  Adj. R-squared:    </th>  <td>   0.485</td>  \n",
       "</tr>\n",
       "<tr>\n",
       "  <th>Method:</th>             <td>Least Squares</td>  <th>  F-statistic:       </th>  <td>   4854.</td>  \n",
       "</tr>\n",
       "<tr>\n",
       "  <th>Date:</th>             <td>Thu, 26 Mar 2020</td> <th>  Prob (F-statistic):</th>   <td>  0.00</td>   \n",
       "</tr>\n",
       "<tr>\n",
       "  <th>Time:</th>                 <td>22:55:11</td>     <th>  Log-Likelihood:    </th> <td>-2.7497e+05</td>\n",
       "</tr>\n",
       "<tr>\n",
       "  <th>No. Observations:</th>      <td> 20577</td>      <th>  AIC:               </th>  <td>5.499e+05</td> \n",
       "</tr>\n",
       "<tr>\n",
       "  <th>Df Residuals:</th>          <td> 20572</td>      <th>  BIC:               </th>  <td>5.500e+05</td> \n",
       "</tr>\n",
       "<tr>\n",
       "  <th>Df Model:</th>              <td>     4</td>      <th>                     </th>      <td> </td>     \n",
       "</tr>\n",
       "<tr>\n",
       "  <th>Covariance Type:</th>      <td>nonrobust</td>    <th>                     </th>      <td> </td>     \n",
       "</tr>\n",
       "</table>\n",
       "<table class=\"simpletable\">\n",
       "<tr>\n",
       "       <td></td>          <th>coef</th>     <th>std err</th>      <th>t</th>      <th>P>|t|</th>  <th>[0.025</th>    <th>0.975]</th>  \n",
       "</tr>\n",
       "<tr>\n",
       "  <th>const</th>       <td>-3.475e+05</td> <td> 8917.400</td> <td>  -38.967</td> <td> 0.000</td> <td>-3.65e+05</td> <td> -3.3e+05</td>\n",
       "</tr>\n",
       "<tr>\n",
       "  <th>sqft_living</th> <td>   86.4587</td> <td>    2.002</td> <td>   43.181</td> <td> 0.000</td> <td>   82.534</td> <td>   90.383</td>\n",
       "</tr>\n",
       "<tr>\n",
       "  <th>basement</th>    <td> 4.602e+04</td> <td> 2286.372</td> <td>   20.127</td> <td> 0.000</td> <td> 4.15e+04</td> <td> 5.05e+04</td>\n",
       "</tr>\n",
       "<tr>\n",
       "  <th>grade</th>       <td> 8.474e+04</td> <td> 1476.972</td> <td>   57.371</td> <td> 0.000</td> <td> 8.18e+04</td> <td> 8.76e+04</td>\n",
       "</tr>\n",
       "<tr>\n",
       "  <th>waterfront</th>  <td> 2.627e+05</td> <td> 2.02e+04</td> <td>   12.981</td> <td> 0.000</td> <td> 2.23e+05</td> <td> 3.02e+05</td>\n",
       "</tr>\n",
       "</table>\n",
       "<table class=\"simpletable\">\n",
       "<tr>\n",
       "  <th>Omnibus:</th>       <td>1331.284</td> <th>  Durbin-Watson:     </th> <td>   1.963</td>\n",
       "</tr>\n",
       "<tr>\n",
       "  <th>Prob(Omnibus):</th>  <td> 0.000</td>  <th>  Jarque-Bera (JB):  </th> <td>1687.976</td>\n",
       "</tr>\n",
       "<tr>\n",
       "  <th>Skew:</th>           <td> 0.614</td>  <th>  Prob(JB):          </th> <td>    0.00</td>\n",
       "</tr>\n",
       "<tr>\n",
       "  <th>Kurtosis:</th>       <td> 3.678</td>  <th>  Cond. No.          </th> <td>4.03e+04</td>\n",
       "</tr>\n",
       "</table><br/><br/>Warnings:<br/>[1] Standard Errors assume that the covariance matrix of the errors is correctly specified.<br/>[2] The condition number is large, 4.03e+04. This might indicate that there are<br/>strong multicollinearity or other numerical problems."
      ],
      "text/plain": [
       "<class 'statsmodels.iolib.summary.Summary'>\n",
       "\"\"\"\n",
       "                            OLS Regression Results                            \n",
       "==============================================================================\n",
       "Dep. Variable:                  price   R-squared:                       0.486\n",
       "Model:                            OLS   Adj. R-squared:                  0.485\n",
       "Method:                 Least Squares   F-statistic:                     4854.\n",
       "Date:                Thu, 26 Mar 2020   Prob (F-statistic):               0.00\n",
       "Time:                        22:55:11   Log-Likelihood:            -2.7497e+05\n",
       "No. Observations:               20577   AIC:                         5.499e+05\n",
       "Df Residuals:                   20572   BIC:                         5.500e+05\n",
       "Df Model:                           4                                         \n",
       "Covariance Type:            nonrobust                                         \n",
       "===============================================================================\n",
       "                  coef    std err          t      P>|t|      [0.025      0.975]\n",
       "-------------------------------------------------------------------------------\n",
       "const       -3.475e+05   8917.400    -38.967      0.000   -3.65e+05    -3.3e+05\n",
       "sqft_living    86.4587      2.002     43.181      0.000      82.534      90.383\n",
       "basement     4.602e+04   2286.372     20.127      0.000    4.15e+04    5.05e+04\n",
       "grade        8.474e+04   1476.972     57.371      0.000    8.18e+04    8.76e+04\n",
       "waterfront   2.627e+05   2.02e+04     12.981      0.000    2.23e+05    3.02e+05\n",
       "==============================================================================\n",
       "Omnibus:                     1331.284   Durbin-Watson:                   1.963\n",
       "Prob(Omnibus):                  0.000   Jarque-Bera (JB):             1687.976\n",
       "Skew:                           0.614   Prob(JB):                         0.00\n",
       "Kurtosis:                       3.678   Cond. No.                     4.03e+04\n",
       "==============================================================================\n",
       "\n",
       "Warnings:\n",
       "[1] Standard Errors assume that the covariance matrix of the errors is correctly specified.\n",
       "[2] The condition number is large, 4.03e+04. This might indicate that there are\n",
       "strong multicollinearity or other numerical problems.\n",
       "\"\"\""
      ]
     },
     "execution_count": 445,
     "metadata": {},
     "output_type": "execute_result"
    }
   ],
   "source": [
    "regression(X13,y13)"
   ]
  },
  {
   "cell_type": "code",
   "execution_count": null,
   "metadata": {},
   "outputs": [],
   "source": [
    "X = df_test[['sqft_living','basement','grade','waterfront']]"
   ]
  },
  {
   "cell_type": "code",
   "execution_count": 346,
   "metadata": {},
   "outputs": [],
   "source": [
    "X9 = df_merged[['sqft_living','renovate_15','waterfront','yr_built']]\n",
    "y9 = df_merged['price']"
   ]
  },
  {
   "cell_type": "code",
   "execution_count": 347,
   "metadata": {},
   "outputs": [
    {
     "data": {
      "text/html": [
       "<table class=\"simpletable\">\n",
       "<caption>OLS Regression Results</caption>\n",
       "<tr>\n",
       "  <th>Dep. Variable:</th>          <td>price</td>      <th>  R-squared:         </th>  <td>   0.559</td>  \n",
       "</tr>\n",
       "<tr>\n",
       "  <th>Model:</th>                   <td>OLS</td>       <th>  Adj. R-squared:    </th>  <td>   0.559</td>  \n",
       "</tr>\n",
       "<tr>\n",
       "  <th>Method:</th>             <td>Least Squares</td>  <th>  F-statistic:       </th>  <td>   6853.</td>  \n",
       "</tr>\n",
       "<tr>\n",
       "  <th>Date:</th>             <td>Thu, 26 Mar 2020</td> <th>  Prob (F-statistic):</th>   <td>  0.00</td>   \n",
       "</tr>\n",
       "<tr>\n",
       "  <th>Time:</th>                 <td>22:04:39</td>     <th>  Log-Likelihood:    </th> <td>-2.9851e+05</td>\n",
       "</tr>\n",
       "<tr>\n",
       "  <th>No. Observations:</th>      <td> 21595</td>      <th>  AIC:               </th>  <td>5.970e+05</td> \n",
       "</tr>\n",
       "<tr>\n",
       "  <th>Df Residuals:</th>          <td> 21590</td>      <th>  BIC:               </th>  <td>5.971e+05</td> \n",
       "</tr>\n",
       "<tr>\n",
       "  <th>Df Model:</th>              <td>     4</td>      <th>                     </th>      <td> </td>     \n",
       "</tr>\n",
       "<tr>\n",
       "  <th>Covariance Type:</th>      <td>nonrobust</td>    <th>                     </th>      <td> </td>     \n",
       "</tr>\n",
       "</table>\n",
       "<table class=\"simpletable\">\n",
       "<tr>\n",
       "       <td></td>          <th>coef</th>     <th>std err</th>      <th>t</th>      <th>P>|t|</th>  <th>[0.025</th>    <th>0.975]</th>  \n",
       "</tr>\n",
       "<tr>\n",
       "  <th>const</th>       <td> 4.103e+06</td> <td> 1.18e+05</td> <td>   34.828</td> <td> 0.000</td> <td> 3.87e+06</td> <td> 4.33e+06</td>\n",
       "</tr>\n",
       "<tr>\n",
       "  <th>sqft_living</th> <td>  293.9264</td> <td>    1.929</td> <td>  152.348</td> <td> 0.000</td> <td>  290.145</td> <td>  297.708</td>\n",
       "</tr>\n",
       "<tr>\n",
       "  <th>renovate_15</th> <td> 1.241e+05</td> <td> 1.28e+04</td> <td>    9.692</td> <td> 0.000</td> <td>  9.9e+04</td> <td> 1.49e+05</td>\n",
       "</tr>\n",
       "<tr>\n",
       "  <th>waterfront</th>  <td> 8.188e+05</td> <td> 2.04e+04</td> <td>   40.132</td> <td> 0.000</td> <td> 7.79e+05</td> <td> 8.59e+05</td>\n",
       "</tr>\n",
       "<tr>\n",
       "  <th>yr_built</th>    <td>-2121.9655</td> <td>   60.396</td> <td>  -35.134</td> <td> 0.000</td> <td>-2240.347</td> <td>-2003.584</td>\n",
       "</tr>\n",
       "</table>\n",
       "<table class=\"simpletable\">\n",
       "<tr>\n",
       "  <th>Omnibus:</th>       <td>12947.000</td> <th>  Durbin-Watson:     </th>  <td>   1.966</td> \n",
       "</tr>\n",
       "<tr>\n",
       "  <th>Prob(Omnibus):</th>  <td> 0.000</td>   <th>  Jarque-Bera (JB):  </th> <td>416324.977</td>\n",
       "</tr>\n",
       "<tr>\n",
       "  <th>Skew:</th>           <td> 2.345</td>   <th>  Prob(JB):          </th>  <td>    0.00</td> \n",
       "</tr>\n",
       "<tr>\n",
       "  <th>Kurtosis:</th>       <td>23.993</td>   <th>  Cond. No.          </th>  <td>2.09e+05</td> \n",
       "</tr>\n",
       "</table><br/><br/>Warnings:<br/>[1] Standard Errors assume that the covariance matrix of the errors is correctly specified.<br/>[2] The condition number is large, 2.09e+05. This might indicate that there are<br/>strong multicollinearity or other numerical problems."
      ],
      "text/plain": [
       "<class 'statsmodels.iolib.summary.Summary'>\n",
       "\"\"\"\n",
       "                            OLS Regression Results                            \n",
       "==============================================================================\n",
       "Dep. Variable:                  price   R-squared:                       0.559\n",
       "Model:                            OLS   Adj. R-squared:                  0.559\n",
       "Method:                 Least Squares   F-statistic:                     6853.\n",
       "Date:                Thu, 26 Mar 2020   Prob (F-statistic):               0.00\n",
       "Time:                        22:04:39   Log-Likelihood:            -2.9851e+05\n",
       "No. Observations:               21595   AIC:                         5.970e+05\n",
       "Df Residuals:                   21590   BIC:                         5.971e+05\n",
       "Df Model:                           4                                         \n",
       "Covariance Type:            nonrobust                                         \n",
       "===============================================================================\n",
       "                  coef    std err          t      P>|t|      [0.025      0.975]\n",
       "-------------------------------------------------------------------------------\n",
       "const        4.103e+06   1.18e+05     34.828      0.000    3.87e+06    4.33e+06\n",
       "sqft_living   293.9264      1.929    152.348      0.000     290.145     297.708\n",
       "renovate_15  1.241e+05   1.28e+04      9.692      0.000     9.9e+04    1.49e+05\n",
       "waterfront   8.188e+05   2.04e+04     40.132      0.000    7.79e+05    8.59e+05\n",
       "yr_built    -2121.9655     60.396    -35.134      0.000   -2240.347   -2003.584\n",
       "==============================================================================\n",
       "Omnibus:                    12947.000   Durbin-Watson:                   1.966\n",
       "Prob(Omnibus):                  0.000   Jarque-Bera (JB):           416324.977\n",
       "Skew:                           2.345   Prob(JB):                         0.00\n",
       "Kurtosis:                      23.993   Cond. No.                     2.09e+05\n",
       "==============================================================================\n",
       "\n",
       "Warnings:\n",
       "[1] Standard Errors assume that the covariance matrix of the errors is correctly specified.\n",
       "[2] The condition number is large, 2.09e+05. This might indicate that there are\n",
       "strong multicollinearity or other numerical problems.\n",
       "\"\"\""
      ]
     },
     "execution_count": 347,
     "metadata": {},
     "output_type": "execute_result"
    }
   ],
   "source": [
    "regression(X9,y9)"
   ]
  },
  {
   "cell_type": "code",
   "execution_count": 368,
   "metadata": {},
   "outputs": [
    {
     "data": {
      "text/plain": [
       "<matplotlib.axes._subplots.AxesSubplot at 0x1c2f94eb00>"
      ]
     },
     "execution_count": 368,
     "metadata": {},
     "output_type": "execute_result"
    },
    {
     "data": {
      "image/png": "[encoded data removed]",
      "text/plain": [
       "<Figure size 432x288 with 1 Axes>"
      ]
     },
     "metadata": {
      "needs_background": "light"
     },
     "output_type": "display_data"
    }
   ],
   "source": [
    "sns.scatterplot(x=df_price_sub_1_ren[\"yr_renovated\"], y=df_price_sub_1_ren[\"price\"],alpha=0.5)"
   ]
  },
  {
   "cell_type": "code",
   "execution_count": 354,
   "metadata": {},
   "outputs": [],
   "source": [
    "df_renovated = df_merged[df_merged['yr_renovated']>0]"
   ]
  },
  {
   "cell_type": "code",
   "execution_count": 355,
   "metadata": {},
   "outputs": [
    {
     "data": {
      "text/html": [
       "<div>\n",
       "<style scoped>\n",
       "    .dataframe tbody tr th:only-of-type {\n",
       "        vertical-align: middle;\n",
       "    }\n",
       "\n",
       "    .dataframe tbody tr th {\n",
       "        vertical-align: top;\n",
       "    }\n",
       "\n",
       "    .dataframe thead th {\n",
       "        text-align: right;\n",
       "    }\n",
       "</style>\n",
       "<table border=\"1\" class=\"dataframe\">\n",
       "  <thead>\n",
       "    <tr style=\"text-align: right;\">\n",
       "      <th></th>\n",
       "      <th>id</th>\n",
       "      <th>date</th>\n",
       "      <th>price</th>\n",
       "      <th>bedrooms</th>\n",
       "      <th>bathrooms</th>\n",
       "      <th>sqft_living</th>\n",
       "      <th>sqft_lot</th>\n",
       "      <th>floors</th>\n",
       "      <th>waterfront</th>\n",
       "      <th>condition</th>\n",
       "      <th>...</th>\n",
       "      <th>basement</th>\n",
       "      <th>grade_cat</th>\n",
       "      <th>Average</th>\n",
       "      <th>Below Average</th>\n",
       "      <th>Good</th>\n",
       "      <th>High</th>\n",
       "      <th>con_1</th>\n",
       "      <th>con_2</th>\n",
       "      <th>con_3</th>\n",
       "      <th>con_4</th>\n",
       "    </tr>\n",
       "  </thead>\n",
       "  <tbody>\n",
       "    <tr>\n",
       "      <th>1</th>\n",
       "      <td>6.414100e+09</td>\n",
       "      <td>12/9/2014</td>\n",
       "      <td>538000.0</td>\n",
       "      <td>3.0</td>\n",
       "      <td>2.25</td>\n",
       "      <td>2570.0</td>\n",
       "      <td>7242.0</td>\n",
       "      <td>2.0</td>\n",
       "      <td>0.0</td>\n",
       "      <td>3.0</td>\n",
       "      <td>...</td>\n",
       "      <td>1.0</td>\n",
       "      <td>Average</td>\n",
       "      <td>1.0</td>\n",
       "      <td>0.0</td>\n",
       "      <td>0.0</td>\n",
       "      <td>0.0</td>\n",
       "      <td>0.0</td>\n",
       "      <td>0.0</td>\n",
       "      <td>1.0</td>\n",
       "      <td>0.0</td>\n",
       "    </tr>\n",
       "    <tr>\n",
       "      <th>35</th>\n",
       "      <td>9.547205e+09</td>\n",
       "      <td>6/13/2014</td>\n",
       "      <td>696000.0</td>\n",
       "      <td>3.0</td>\n",
       "      <td>2.50</td>\n",
       "      <td>2300.0</td>\n",
       "      <td>3060.0</td>\n",
       "      <td>1.5</td>\n",
       "      <td>0.0</td>\n",
       "      <td>3.0</td>\n",
       "      <td>...</td>\n",
       "      <td>1.0</td>\n",
       "      <td>Good</td>\n",
       "      <td>0.0</td>\n",
       "      <td>0.0</td>\n",
       "      <td>1.0</td>\n",
       "      <td>0.0</td>\n",
       "      <td>0.0</td>\n",
       "      <td>0.0</td>\n",
       "      <td>1.0</td>\n",
       "      <td>0.0</td>\n",
       "    </tr>\n",
       "    <tr>\n",
       "      <th>95</th>\n",
       "      <td>1.483301e+09</td>\n",
       "      <td>9/8/2014</td>\n",
       "      <td>905000.0</td>\n",
       "      <td>4.0</td>\n",
       "      <td>2.50</td>\n",
       "      <td>3300.0</td>\n",
       "      <td>10250.0</td>\n",
       "      <td>1.0</td>\n",
       "      <td>0.0</td>\n",
       "      <td>3.0</td>\n",
       "      <td>...</td>\n",
       "      <td>1.0</td>\n",
       "      <td>Average</td>\n",
       "      <td>1.0</td>\n",
       "      <td>0.0</td>\n",
       "      <td>0.0</td>\n",
       "      <td>0.0</td>\n",
       "      <td>0.0</td>\n",
       "      <td>0.0</td>\n",
       "      <td>1.0</td>\n",
       "      <td>0.0</td>\n",
       "    </tr>\n",
       "    <tr>\n",
       "      <th>103</th>\n",
       "      <td>2.450000e+09</td>\n",
       "      <td>10/7/2014</td>\n",
       "      <td>1090000.0</td>\n",
       "      <td>3.0</td>\n",
       "      <td>2.50</td>\n",
       "      <td>2920.0</td>\n",
       "      <td>8113.0</td>\n",
       "      <td>2.0</td>\n",
       "      <td>0.0</td>\n",
       "      <td>3.0</td>\n",
       "      <td>...</td>\n",
       "      <td>0.0</td>\n",
       "      <td>Good</td>\n",
       "      <td>0.0</td>\n",
       "      <td>0.0</td>\n",
       "      <td>1.0</td>\n",
       "      <td>0.0</td>\n",
       "      <td>0.0</td>\n",
       "      <td>0.0</td>\n",
       "      <td>1.0</td>\n",
       "      <td>0.0</td>\n",
       "    </tr>\n",
       "    <tr>\n",
       "      <th>125</th>\n",
       "      <td>4.389201e+09</td>\n",
       "      <td>3/2/2015</td>\n",
       "      <td>1450000.0</td>\n",
       "      <td>4.0</td>\n",
       "      <td>2.75</td>\n",
       "      <td>2750.0</td>\n",
       "      <td>17789.0</td>\n",
       "      <td>1.5</td>\n",
       "      <td>0.0</td>\n",
       "      <td>3.0</td>\n",
       "      <td>...</td>\n",
       "      <td>1.0</td>\n",
       "      <td>Good</td>\n",
       "      <td>0.0</td>\n",
       "      <td>0.0</td>\n",
       "      <td>1.0</td>\n",
       "      <td>0.0</td>\n",
       "      <td>0.0</td>\n",
       "      <td>0.0</td>\n",
       "      <td>1.0</td>\n",
       "      <td>0.0</td>\n",
       "    </tr>\n",
       "  </tbody>\n",
       "</table>\n",
       "<p>5 rows × 31 columns</p>\n",
       "</div>"
      ],
      "text/plain": [
       "               id       date      price  bedrooms  bathrooms  sqft_living  \\\n",
       "1    6.414100e+09  12/9/2014   538000.0       3.0       2.25       2570.0   \n",
       "35   9.547205e+09  6/13/2014   696000.0       3.0       2.50       2300.0   \n",
       "95   1.483301e+09   9/8/2014   905000.0       4.0       2.50       3300.0   \n",
       "103  2.450000e+09  10/7/2014  1090000.0       3.0       2.50       2920.0   \n",
       "125  4.389201e+09   3/2/2015  1450000.0       4.0       2.75       2750.0   \n",
       "\n",
       "     sqft_lot  floors  waterfront  condition  ...  basement  grade_cat  \\\n",
       "1      7242.0     2.0         0.0        3.0  ...       1.0    Average   \n",
       "35     3060.0     1.5         0.0        3.0  ...       1.0       Good   \n",
       "95    10250.0     1.0         0.0        3.0  ...       1.0    Average   \n",
       "103    8113.0     2.0         0.0        3.0  ...       0.0       Good   \n",
       "125   17789.0     1.5         0.0        3.0  ...       1.0       Good   \n",
       "\n",
       "     Average  Below Average  Good  High  con_1  con_2  con_3  con_4  \n",
       "1        1.0            0.0   0.0   0.0    0.0    0.0    1.0    0.0  \n",
       "35       0.0            0.0   1.0   0.0    0.0    0.0    1.0    0.0  \n",
       "95       1.0            0.0   0.0   0.0    0.0    0.0    1.0    0.0  \n",
       "103      0.0            0.0   1.0   0.0    0.0    0.0    1.0    0.0  \n",
       "125      0.0            0.0   1.0   0.0    0.0    0.0    1.0    0.0  \n",
       "\n",
       "[5 rows x 31 columns]"
      ]
     },
     "execution_count": 355,
     "metadata": {},
     "output_type": "execute_result"
    }
   ],
   "source": [
    "df_renovated.head()"
   ]
  },
  {
   "cell_type": "code",
   "execution_count": null,
   "metadata": {},
   "outputs": [],
   "source": []
  },
  {
   "cell_type": "code",
   "execution_count": 357,
   "metadata": {},
   "outputs": [
    {
     "data": {
      "text/plain": [
       "<matplotlib.axes._subplots.AxesSubplot at 0x1c25387940>"
      ]
     },
     "execution_count": 357,
     "metadata": {},
     "output_type": "execute_result"
    },
    {
     "data": {
      "image/png": "[encoded data removed]",
      "text/plain": [
       "<Figure size 432x288 with 1 Axes>"
      ]
     },
     "metadata": {
      "needs_background": "light"
     },
     "output_type": "display_data"
    }
   ],
   "source": [
    "sns.scatterplot(x=df_renovated[\"yr_renovated\"], y=df_renovated[\"price\"],alpha=0.5)"
   ]
  },
  {
   "cell_type": "code",
   "execution_count": 359,
   "metadata": {},
   "outputs": [
    {
     "data": {
      "text/plain": [
       "<matplotlib.axes._subplots.AxesSubplot at 0x1c23bb89b0>"
      ]
     },
     "execution_count": 359,
     "metadata": {},
     "output_type": "execute_result"
    },
    {
     "data": {
      "image/png": "[encoded data removed]",
      "text/plain": [
       "<Figure size 432x288 with 1 Axes>"
      ]
     },
     "metadata": {
      "needs_background": "light"
     },
     "output_type": "display_data"
    }
   ],
   "source": [
    "sns.regplot(x=df_renovated[\"yr_renovated\"], y=df_renovated[\"price\"])"
   ]
  },
  {
   "cell_type": "code",
   "execution_count": 364,
   "metadata": {},
   "outputs": [
    {
     "data": {
      "text/plain": [
       "<matplotlib.axes._subplots.AxesSubplot at 0x1c2e496ef0>"
      ]
     },
     "execution_count": 364,
     "metadata": {},
     "output_type": "execute_result"
    },
    {
     "data": {
      "image/png": "[encoded data removed]",
      "text/plain": [
       "<Figure size 432x288 with 1 Axes>"
      ]
     },
     "metadata": {
      "needs_background": "light"
     },
     "output_type": "display_data"
    }
   ],
   "source": [
    "sns.regplot(x=df_merged[\"yr_built\"], y=df_merged[\"price\"])"
   ]
  },
  {
   "cell_type": "code",
   "execution_count": 360,
   "metadata": {},
   "outputs": [
    {
     "data": {
      "text/plain": [
       "Index(['id', 'date', 'price', 'bedrooms', 'bathrooms', 'sqft_living',\n",
       "       'sqft_lot', 'floors', 'waterfront', 'condition', 'grade', 'sqft_above',\n",
       "       'sqft_basement', 'yr_built', 'yr_renovated', 'zipcode', 'lat', 'long',\n",
       "       'sqft_living15', 'sqft_lot15', 'renovate_15', 'basement', 'grade_cat',\n",
       "       'Average', 'Below Average', 'Good', 'High', 'con_1', 'con_2', 'con_3',\n",
       "       'con_4'],\n",
       "      dtype='object')"
      ]
     },
     "execution_count": 360,
     "metadata": {},
     "output_type": "execute_result"
    }
   ],
   "source": [
    "df_merged.columns"
   ]
  },
  {
   "cell_type": "code",
   "execution_count": 362,
   "metadata": {},
   "outputs": [
    {
     "data": {
      "text/plain": [
       "<matplotlib.axes._subplots.AxesSubplot at 0x1c2e62e898>"
      ]
     },
     "execution_count": 362,
     "metadata": {},
     "output_type": "execute_result"
    },
    {
     "data": {
      "image/png": "[encoded data removed]",
      "text/plain": [
       "<Figure size 432x288 with 1 Axes>"
      ]
     },
     "metadata": {
      "needs_background": "light"
     },
     "output_type": "display_data"
    }
   ],
   "source": [
    "sns.regplot(x=df_merged[\"sqft_living\"], y=df_merged[\"price\"])"
   ]
  },
  {
   "cell_type": "code",
   "execution_count": null,
   "metadata": {},
   "outputs": [],
   "source": []
  }
 ],
 "metadata": {
  "kernelspec": {
   "display_name": "Python 3",
   "language": "python",
   "name": "python3"
  },
  "language_info": {
   "codemirror_mode": {
    "name": "ipython",
    "version": 3
   },
   "file_extension": ".py",
   "mimetype": "text/x-python",
   "name": "python",
   "nbconvert_exporter": "python",
   "pygments_lexer": "ipython3",
   "version": "3.7.3"
  }
 },
 "nbformat": 4,
 "nbformat_minor": 4
}
